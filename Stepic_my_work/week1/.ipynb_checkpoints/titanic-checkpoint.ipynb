{
 "cells": [
  {
   "cell_type": "code",
   "execution_count": 1,
   "id": "0a85f615-6c84-470a-9201-dd86034e6df7",
   "metadata": {},
   "outputs": [],
   "source": [
    "import pandas as pd\n",
    "import numpy as np\n",
    "import matplotlib.pyplot as plt\n",
    "import seaborn as sns\n",
    "from sklearn import tree\n",
    "%matplotlib inline\n",
    "\n",
    "from graphviz  import Source\n",
    "from IPython.display import SVG, display, HTML\n",
    "style = \"<style>svg{width: 50% !important; height: 50% !important;} </style>\" "
   ]
  },
  {
   "cell_type": "code",
   "execution_count": 2,
   "id": "bacab5b1-d8c4-4f7e-b70f-44128ece101e",
   "metadata": {},
   "outputs": [],
   "source": [
    "titanic_data = pd.read_csv('C:\\\\Users\\\\Gazauto\\\\Downloads\\\\train.csv')"
   ]
  },
  {
   "cell_type": "code",
   "execution_count": 3,
   "id": "a4aa3528-4a5d-46e0-82d5-098afe499587",
   "metadata": {},
   "outputs": [
    {
     "data": {
      "text/html": [
       "<div>\n",
       "<style scoped>\n",
       "    .dataframe tbody tr th:only-of-type {\n",
       "        vertical-align: middle;\n",
       "    }\n",
       "\n",
       "    .dataframe tbody tr th {\n",
       "        vertical-align: top;\n",
       "    }\n",
       "\n",
       "    .dataframe thead th {\n",
       "        text-align: right;\n",
       "    }\n",
       "</style>\n",
       "<table border=\"1\" class=\"dataframe\">\n",
       "  <thead>\n",
       "    <tr style=\"text-align: right;\">\n",
       "      <th></th>\n",
       "      <th>PassengerId</th>\n",
       "      <th>Survived</th>\n",
       "      <th>Pclass</th>\n",
       "      <th>Name</th>\n",
       "      <th>Sex</th>\n",
       "      <th>Age</th>\n",
       "      <th>SibSp</th>\n",
       "      <th>Parch</th>\n",
       "      <th>Ticket</th>\n",
       "      <th>Fare</th>\n",
       "      <th>Cabin</th>\n",
       "      <th>Embarked</th>\n",
       "    </tr>\n",
       "  </thead>\n",
       "  <tbody>\n",
       "    <tr>\n",
       "      <th>0</th>\n",
       "      <td>1</td>\n",
       "      <td>0</td>\n",
       "      <td>3</td>\n",
       "      <td>Braund, Mr. Owen Harris</td>\n",
       "      <td>male</td>\n",
       "      <td>22.0</td>\n",
       "      <td>1</td>\n",
       "      <td>0</td>\n",
       "      <td>A/5 21171</td>\n",
       "      <td>7.2500</td>\n",
       "      <td>NaN</td>\n",
       "      <td>S</td>\n",
       "    </tr>\n",
       "    <tr>\n",
       "      <th>1</th>\n",
       "      <td>2</td>\n",
       "      <td>1</td>\n",
       "      <td>1</td>\n",
       "      <td>Cumings, Mrs. John Bradley (Florence Briggs Th...</td>\n",
       "      <td>female</td>\n",
       "      <td>38.0</td>\n",
       "      <td>1</td>\n",
       "      <td>0</td>\n",
       "      <td>PC 17599</td>\n",
       "      <td>71.2833</td>\n",
       "      <td>C85</td>\n",
       "      <td>C</td>\n",
       "    </tr>\n",
       "    <tr>\n",
       "      <th>2</th>\n",
       "      <td>3</td>\n",
       "      <td>1</td>\n",
       "      <td>3</td>\n",
       "      <td>Heikkinen, Miss. Laina</td>\n",
       "      <td>female</td>\n",
       "      <td>26.0</td>\n",
       "      <td>0</td>\n",
       "      <td>0</td>\n",
       "      <td>STON/O2. 3101282</td>\n",
       "      <td>7.9250</td>\n",
       "      <td>NaN</td>\n",
       "      <td>S</td>\n",
       "    </tr>\n",
       "    <tr>\n",
       "      <th>3</th>\n",
       "      <td>4</td>\n",
       "      <td>1</td>\n",
       "      <td>1</td>\n",
       "      <td>Futrelle, Mrs. Jacques Heath (Lily May Peel)</td>\n",
       "      <td>female</td>\n",
       "      <td>35.0</td>\n",
       "      <td>1</td>\n",
       "      <td>0</td>\n",
       "      <td>113803</td>\n",
       "      <td>53.1000</td>\n",
       "      <td>C123</td>\n",
       "      <td>S</td>\n",
       "    </tr>\n",
       "    <tr>\n",
       "      <th>4</th>\n",
       "      <td>5</td>\n",
       "      <td>0</td>\n",
       "      <td>3</td>\n",
       "      <td>Allen, Mr. William Henry</td>\n",
       "      <td>male</td>\n",
       "      <td>35.0</td>\n",
       "      <td>0</td>\n",
       "      <td>0</td>\n",
       "      <td>373450</td>\n",
       "      <td>8.0500</td>\n",
       "      <td>NaN</td>\n",
       "      <td>S</td>\n",
       "    </tr>\n",
       "  </tbody>\n",
       "</table>\n",
       "</div>"
      ],
      "text/plain": [
       "   PassengerId  Survived  Pclass  \\\n",
       "0            1         0       3   \n",
       "1            2         1       1   \n",
       "2            3         1       3   \n",
       "3            4         1       1   \n",
       "4            5         0       3   \n",
       "\n",
       "                                                Name     Sex   Age  SibSp  \\\n",
       "0                            Braund, Mr. Owen Harris    male  22.0      1   \n",
       "1  Cumings, Mrs. John Bradley (Florence Briggs Th...  female  38.0      1   \n",
       "2                             Heikkinen, Miss. Laina  female  26.0      0   \n",
       "3       Futrelle, Mrs. Jacques Heath (Lily May Peel)  female  35.0      1   \n",
       "4                           Allen, Mr. William Henry    male  35.0      0   \n",
       "\n",
       "   Parch            Ticket     Fare Cabin Embarked  \n",
       "0      0         A/5 21171   7.2500   NaN        S  \n",
       "1      0          PC 17599  71.2833   C85        C  \n",
       "2      0  STON/O2. 3101282   7.9250   NaN        S  \n",
       "3      0            113803  53.1000  C123        S  \n",
       "4      0            373450   8.0500   NaN        S  "
      ]
     },
     "execution_count": 3,
     "metadata": {},
     "output_type": "execute_result"
    }
   ],
   "source": [
    "titanic_data.head()"
   ]
  },
  {
   "cell_type": "code",
   "execution_count": 4,
   "id": "4dd1d896-2305-4d22-a8b5-d32b6b7e061d",
   "metadata": {},
   "outputs": [
    {
     "data": {
      "text/html": [
       "<div>\n",
       "<style scoped>\n",
       "    .dataframe tbody tr th:only-of-type {\n",
       "        vertical-align: middle;\n",
       "    }\n",
       "\n",
       "    .dataframe tbody tr th {\n",
       "        vertical-align: top;\n",
       "    }\n",
       "\n",
       "    .dataframe thead th {\n",
       "        text-align: right;\n",
       "    }\n",
       "</style>\n",
       "<table border=\"1\" class=\"dataframe\">\n",
       "  <thead>\n",
       "    <tr style=\"text-align: right;\">\n",
       "      <th></th>\n",
       "      <th>PassengerId</th>\n",
       "      <th>Survived</th>\n",
       "      <th>Pclass</th>\n",
       "      <th>Name</th>\n",
       "      <th>Sex</th>\n",
       "      <th>Age</th>\n",
       "      <th>SibSp</th>\n",
       "      <th>Parch</th>\n",
       "      <th>Ticket</th>\n",
       "      <th>Fare</th>\n",
       "      <th>Cabin</th>\n",
       "      <th>Embarked</th>\n",
       "    </tr>\n",
       "  </thead>\n",
       "  <tbody>\n",
       "    <tr>\n",
       "      <th>0</th>\n",
       "      <td>False</td>\n",
       "      <td>False</td>\n",
       "      <td>False</td>\n",
       "      <td>False</td>\n",
       "      <td>False</td>\n",
       "      <td>False</td>\n",
       "      <td>False</td>\n",
       "      <td>False</td>\n",
       "      <td>False</td>\n",
       "      <td>False</td>\n",
       "      <td>True</td>\n",
       "      <td>False</td>\n",
       "    </tr>\n",
       "    <tr>\n",
       "      <th>1</th>\n",
       "      <td>False</td>\n",
       "      <td>False</td>\n",
       "      <td>False</td>\n",
       "      <td>False</td>\n",
       "      <td>False</td>\n",
       "      <td>False</td>\n",
       "      <td>False</td>\n",
       "      <td>False</td>\n",
       "      <td>False</td>\n",
       "      <td>False</td>\n",
       "      <td>False</td>\n",
       "      <td>False</td>\n",
       "    </tr>\n",
       "    <tr>\n",
       "      <th>2</th>\n",
       "      <td>False</td>\n",
       "      <td>False</td>\n",
       "      <td>False</td>\n",
       "      <td>False</td>\n",
       "      <td>False</td>\n",
       "      <td>False</td>\n",
       "      <td>False</td>\n",
       "      <td>False</td>\n",
       "      <td>False</td>\n",
       "      <td>False</td>\n",
       "      <td>True</td>\n",
       "      <td>False</td>\n",
       "    </tr>\n",
       "    <tr>\n",
       "      <th>3</th>\n",
       "      <td>False</td>\n",
       "      <td>False</td>\n",
       "      <td>False</td>\n",
       "      <td>False</td>\n",
       "      <td>False</td>\n",
       "      <td>False</td>\n",
       "      <td>False</td>\n",
       "      <td>False</td>\n",
       "      <td>False</td>\n",
       "      <td>False</td>\n",
       "      <td>False</td>\n",
       "      <td>False</td>\n",
       "    </tr>\n",
       "    <tr>\n",
       "      <th>4</th>\n",
       "      <td>False</td>\n",
       "      <td>False</td>\n",
       "      <td>False</td>\n",
       "      <td>False</td>\n",
       "      <td>False</td>\n",
       "      <td>False</td>\n",
       "      <td>False</td>\n",
       "      <td>False</td>\n",
       "      <td>False</td>\n",
       "      <td>False</td>\n",
       "      <td>True</td>\n",
       "      <td>False</td>\n",
       "    </tr>\n",
       "    <tr>\n",
       "      <th>...</th>\n",
       "      <td>...</td>\n",
       "      <td>...</td>\n",
       "      <td>...</td>\n",
       "      <td>...</td>\n",
       "      <td>...</td>\n",
       "      <td>...</td>\n",
       "      <td>...</td>\n",
       "      <td>...</td>\n",
       "      <td>...</td>\n",
       "      <td>...</td>\n",
       "      <td>...</td>\n",
       "      <td>...</td>\n",
       "    </tr>\n",
       "    <tr>\n",
       "      <th>886</th>\n",
       "      <td>False</td>\n",
       "      <td>False</td>\n",
       "      <td>False</td>\n",
       "      <td>False</td>\n",
       "      <td>False</td>\n",
       "      <td>False</td>\n",
       "      <td>False</td>\n",
       "      <td>False</td>\n",
       "      <td>False</td>\n",
       "      <td>False</td>\n",
       "      <td>True</td>\n",
       "      <td>False</td>\n",
       "    </tr>\n",
       "    <tr>\n",
       "      <th>887</th>\n",
       "      <td>False</td>\n",
       "      <td>False</td>\n",
       "      <td>False</td>\n",
       "      <td>False</td>\n",
       "      <td>False</td>\n",
       "      <td>False</td>\n",
       "      <td>False</td>\n",
       "      <td>False</td>\n",
       "      <td>False</td>\n",
       "      <td>False</td>\n",
       "      <td>False</td>\n",
       "      <td>False</td>\n",
       "    </tr>\n",
       "    <tr>\n",
       "      <th>888</th>\n",
       "      <td>False</td>\n",
       "      <td>False</td>\n",
       "      <td>False</td>\n",
       "      <td>False</td>\n",
       "      <td>False</td>\n",
       "      <td>True</td>\n",
       "      <td>False</td>\n",
       "      <td>False</td>\n",
       "      <td>False</td>\n",
       "      <td>False</td>\n",
       "      <td>True</td>\n",
       "      <td>False</td>\n",
       "    </tr>\n",
       "    <tr>\n",
       "      <th>889</th>\n",
       "      <td>False</td>\n",
       "      <td>False</td>\n",
       "      <td>False</td>\n",
       "      <td>False</td>\n",
       "      <td>False</td>\n",
       "      <td>False</td>\n",
       "      <td>False</td>\n",
       "      <td>False</td>\n",
       "      <td>False</td>\n",
       "      <td>False</td>\n",
       "      <td>False</td>\n",
       "      <td>False</td>\n",
       "    </tr>\n",
       "    <tr>\n",
       "      <th>890</th>\n",
       "      <td>False</td>\n",
       "      <td>False</td>\n",
       "      <td>False</td>\n",
       "      <td>False</td>\n",
       "      <td>False</td>\n",
       "      <td>False</td>\n",
       "      <td>False</td>\n",
       "      <td>False</td>\n",
       "      <td>False</td>\n",
       "      <td>False</td>\n",
       "      <td>True</td>\n",
       "      <td>False</td>\n",
       "    </tr>\n",
       "  </tbody>\n",
       "</table>\n",
       "<p>891 rows × 12 columns</p>\n",
       "</div>"
      ],
      "text/plain": [
       "     PassengerId  Survived  Pclass   Name    Sex    Age  SibSp  Parch  Ticket  \\\n",
       "0          False     False   False  False  False  False  False  False   False   \n",
       "1          False     False   False  False  False  False  False  False   False   \n",
       "2          False     False   False  False  False  False  False  False   False   \n",
       "3          False     False   False  False  False  False  False  False   False   \n",
       "4          False     False   False  False  False  False  False  False   False   \n",
       "..           ...       ...     ...    ...    ...    ...    ...    ...     ...   \n",
       "886        False     False   False  False  False  False  False  False   False   \n",
       "887        False     False   False  False  False  False  False  False   False   \n",
       "888        False     False   False  False  False   True  False  False   False   \n",
       "889        False     False   False  False  False  False  False  False   False   \n",
       "890        False     False   False  False  False  False  False  False   False   \n",
       "\n",
       "      Fare  Cabin  Embarked  \n",
       "0    False   True     False  \n",
       "1    False  False     False  \n",
       "2    False   True     False  \n",
       "3    False  False     False  \n",
       "4    False   True     False  \n",
       "..     ...    ...       ...  \n",
       "886  False   True     False  \n",
       "887  False  False     False  \n",
       "888  False   True     False  \n",
       "889  False  False     False  \n",
       "890  False   True     False  \n",
       "\n",
       "[891 rows x 12 columns]"
      ]
     },
     "execution_count": 4,
     "metadata": {},
     "output_type": "execute_result"
    }
   ],
   "source": [
    " titanic_data.isnull()"
   ]
  },
  {
   "cell_type": "code",
   "execution_count": 5,
   "id": "30e64eea-3c24-4446-82ab-dafca81e8390",
   "metadata": {},
   "outputs": [
    {
     "data": {
      "text/plain": [
       "PassengerId      0\n",
       "Survived         0\n",
       "Pclass           0\n",
       "Name             0\n",
       "Sex              0\n",
       "Age            177\n",
       "SibSp            0\n",
       "Parch            0\n",
       "Ticket           0\n",
       "Fare             0\n",
       "Cabin          687\n",
       "Embarked         2\n",
       "dtype: int64"
      ]
     },
     "execution_count": 5,
     "metadata": {},
     "output_type": "execute_result"
    }
   ],
   "source": [
    " titanic_data.isnull().sum()"
   ]
  },
  {
   "cell_type": "code",
   "execution_count": 6,
   "id": "7ab26e56-09da-4412-911a-7e3c597b40c9",
   "metadata": {},
   "outputs": [],
   "source": [
    "# X = titanic_data.drop(['PassengerId', 'Survived', 'Name', 'Ticket', 'Cabin'], axis=1)"
   ]
  },
  {
   "cell_type": "code",
   "execution_count": 7,
   "id": "2593a63b-3c2a-4249-b60e-d01db5c51b2e",
   "metadata": {},
   "outputs": [],
   "source": [
    "# X.head()"
   ]
  },
  {
   "cell_type": "code",
   "execution_count": 8,
   "id": "144afb33-953f-42f8-95f5-f1d4efeb26f4",
   "metadata": {},
   "outputs": [
    {
     "data": {
      "text/plain": [
       "0    0\n",
       "1    1\n",
       "2    1\n",
       "3    1\n",
       "4    0\n",
       "Name: Survived, dtype: int64"
      ]
     },
     "execution_count": 8,
     "metadata": {},
     "output_type": "execute_result"
    }
   ],
   "source": [
    "y = titanic_data['Survived']\n",
    "y.head()"
   ]
  },
  {
   "cell_type": "code",
   "execution_count": 9,
   "id": "bf716645-97f3-4f5b-abcc-e8fbce708dd6",
   "metadata": {},
   "outputs": [],
   "source": [
    "clf = tree.DecisionTreeClassifier(criterion='entropy')"
   ]
  },
  {
   "cell_type": "code",
   "execution_count": 10,
   "id": "8c32c13a-fed4-428e-87b9-0b707edd121e",
   "metadata": {},
   "outputs": [],
   "source": [
    "# sex = {\"male\": 0, \"female\": 1}\n",
    "# titanic_data[\"Sex\"] = titanic_data[\"Sex\"].map(sex)\n",
    "# titanic_data.head()"
   ]
  },
  {
   "cell_type": "code",
   "execution_count": 11,
   "id": "745b8018-cc78-46ca-9a22-2bce85dfc4c6",
   "metadata": {},
   "outputs": [],
   "source": [
    "# titanic_data['Embarked'].uniqueue()"
   ]
  },
  {
   "cell_type": "code",
   "execution_count": 12,
   "id": "bd08470f-b37b-41a3-b63b-2deb89a33582",
   "metadata": {},
   "outputs": [],
   "source": [
    "# sex = {\"S\": 1, \"C\": 2, 'Q': 2}\n",
    "# titanic_data[\"Embarked\"] = titanic_data[\"Embarked\"].map(sex)\n",
    "# titanic_data.head()"
   ]
  },
  {
   "cell_type": "code",
   "execution_count": 13,
   "id": "c9aa9cae-0469-4a70-aeb8-55d7f0a94467",
   "metadata": {},
   "outputs": [],
   "source": [
    "# titanic_data[\"Embarked\"].fillna(0, inplace=True)"
   ]
  },
  {
   "cell_type": "code",
   "execution_count": 14,
   "id": "084d9a77-0d22-4001-8035-72bd5dc243a2",
   "metadata": {},
   "outputs": [],
   "source": [
    "X = titanic_data.drop(['PassengerId', 'Survived', 'Name', 'Ticket', 'Cabin'], axis=1)"
   ]
  },
  {
   "cell_type": "code",
   "execution_count": 15,
   "id": "b519f8be-7528-416f-a48d-a023003b51db",
   "metadata": {},
   "outputs": [
    {
     "data": {
      "text/plain": [
       "PassengerId      0\n",
       "Survived         0\n",
       "Pclass           0\n",
       "Name             0\n",
       "Sex              0\n",
       "Age            177\n",
       "SibSp            0\n",
       "Parch            0\n",
       "Ticket           0\n",
       "Fare             0\n",
       "Cabin          687\n",
       "Embarked         2\n",
       "dtype: int64"
      ]
     },
     "execution_count": 15,
     "metadata": {},
     "output_type": "execute_result"
    }
   ],
   "source": [
    " titanic_data.isnull().sum()"
   ]
  },
  {
   "cell_type": "code",
   "execution_count": 16,
   "id": "24f0a3e8-7bee-4628-9ebb-f8c3d833aa15",
   "metadata": {},
   "outputs": [
    {
     "data": {
      "text/html": [
       "<div>\n",
       "<style scoped>\n",
       "    .dataframe tbody tr th:only-of-type {\n",
       "        vertical-align: middle;\n",
       "    }\n",
       "\n",
       "    .dataframe tbody tr th {\n",
       "        vertical-align: top;\n",
       "    }\n",
       "\n",
       "    .dataframe thead th {\n",
       "        text-align: right;\n",
       "    }\n",
       "</style>\n",
       "<table border=\"1\" class=\"dataframe\">\n",
       "  <thead>\n",
       "    <tr style=\"text-align: right;\">\n",
       "      <th></th>\n",
       "      <th>Pclass</th>\n",
       "      <th>Age</th>\n",
       "      <th>SibSp</th>\n",
       "      <th>Parch</th>\n",
       "      <th>Fare</th>\n",
       "      <th>Sex_female</th>\n",
       "      <th>Sex_male</th>\n",
       "      <th>Embarked_C</th>\n",
       "      <th>Embarked_Q</th>\n",
       "      <th>Embarked_S</th>\n",
       "    </tr>\n",
       "  </thead>\n",
       "  <tbody>\n",
       "    <tr>\n",
       "      <th>0</th>\n",
       "      <td>3</td>\n",
       "      <td>22.0</td>\n",
       "      <td>1</td>\n",
       "      <td>0</td>\n",
       "      <td>7.2500</td>\n",
       "      <td>0</td>\n",
       "      <td>1</td>\n",
       "      <td>0</td>\n",
       "      <td>0</td>\n",
       "      <td>1</td>\n",
       "    </tr>\n",
       "    <tr>\n",
       "      <th>1</th>\n",
       "      <td>1</td>\n",
       "      <td>38.0</td>\n",
       "      <td>1</td>\n",
       "      <td>0</td>\n",
       "      <td>71.2833</td>\n",
       "      <td>1</td>\n",
       "      <td>0</td>\n",
       "      <td>1</td>\n",
       "      <td>0</td>\n",
       "      <td>0</td>\n",
       "    </tr>\n",
       "    <tr>\n",
       "      <th>2</th>\n",
       "      <td>3</td>\n",
       "      <td>26.0</td>\n",
       "      <td>0</td>\n",
       "      <td>0</td>\n",
       "      <td>7.9250</td>\n",
       "      <td>1</td>\n",
       "      <td>0</td>\n",
       "      <td>0</td>\n",
       "      <td>0</td>\n",
       "      <td>1</td>\n",
       "    </tr>\n",
       "    <tr>\n",
       "      <th>3</th>\n",
       "      <td>1</td>\n",
       "      <td>35.0</td>\n",
       "      <td>1</td>\n",
       "      <td>0</td>\n",
       "      <td>53.1000</td>\n",
       "      <td>1</td>\n",
       "      <td>0</td>\n",
       "      <td>0</td>\n",
       "      <td>0</td>\n",
       "      <td>1</td>\n",
       "    </tr>\n",
       "    <tr>\n",
       "      <th>4</th>\n",
       "      <td>3</td>\n",
       "      <td>35.0</td>\n",
       "      <td>0</td>\n",
       "      <td>0</td>\n",
       "      <td>8.0500</td>\n",
       "      <td>0</td>\n",
       "      <td>1</td>\n",
       "      <td>0</td>\n",
       "      <td>0</td>\n",
       "      <td>1</td>\n",
       "    </tr>\n",
       "  </tbody>\n",
       "</table>\n",
       "</div>"
      ],
      "text/plain": [
       "   Pclass   Age  SibSp  Parch     Fare  Sex_female  Sex_male  Embarked_C  \\\n",
       "0       3  22.0      1      0   7.2500           0         1           0   \n",
       "1       1  38.0      1      0  71.2833           1         0           1   \n",
       "2       3  26.0      0      0   7.9250           1         0           0   \n",
       "3       1  35.0      1      0  53.1000           1         0           0   \n",
       "4       3  35.0      0      0   8.0500           0         1           0   \n",
       "\n",
       "   Embarked_Q  Embarked_S  \n",
       "0           0           1  \n",
       "1           0           0  \n",
       "2           0           1  \n",
       "3           0           1  \n",
       "4           0           1  "
      ]
     },
     "execution_count": 16,
     "metadata": {},
     "output_type": "execute_result"
    }
   ],
   "source": [
    "X = pd.get_dummies(X)\n",
    "X.head()"
   ]
  },
  {
   "cell_type": "code",
   "execution_count": 17,
   "id": "a5d7a1b2-3f58-4a17-9ba2-b4466380c3c1",
   "metadata": {},
   "outputs": [
    {
     "data": {
      "text/plain": [
       "Pclass          0\n",
       "Age           177\n",
       "SibSp           0\n",
       "Parch           0\n",
       "Fare            0\n",
       "Sex_female      0\n",
       "Sex_male        0\n",
       "Embarked_C      0\n",
       "Embarked_Q      0\n",
       "Embarked_S      0\n",
       "dtype: int64"
      ]
     },
     "execution_count": 17,
     "metadata": {},
     "output_type": "execute_result"
    }
   ],
   "source": [
    " X.isnull().sum()"
   ]
  },
  {
   "cell_type": "code",
   "execution_count": 18,
   "id": "284fa00c-85f9-4b3a-b28e-82ad7831154c",
   "metadata": {},
   "outputs": [
    {
     "data": {
      "text/plain": [
       "28.0"
      ]
     },
     "execution_count": 18,
     "metadata": {},
     "output_type": "execute_result"
    }
   ],
   "source": [
    "X['Age'].median()"
   ]
  },
  {
   "cell_type": "code",
   "execution_count": 19,
   "id": "ff915b5e-7287-4f4e-8fec-507dda6613e5",
   "metadata": {},
   "outputs": [
    {
     "data": {
      "text/html": [
       "<div>\n",
       "<style scoped>\n",
       "    .dataframe tbody tr th:only-of-type {\n",
       "        vertical-align: middle;\n",
       "    }\n",
       "\n",
       "    .dataframe tbody tr th {\n",
       "        vertical-align: top;\n",
       "    }\n",
       "\n",
       "    .dataframe thead th {\n",
       "        text-align: right;\n",
       "    }\n",
       "</style>\n",
       "<table border=\"1\" class=\"dataframe\">\n",
       "  <thead>\n",
       "    <tr style=\"text-align: right;\">\n",
       "      <th></th>\n",
       "      <th>Pclass</th>\n",
       "      <th>Age</th>\n",
       "      <th>SibSp</th>\n",
       "      <th>Parch</th>\n",
       "      <th>Fare</th>\n",
       "      <th>Sex_female</th>\n",
       "      <th>Sex_male</th>\n",
       "      <th>Embarked_C</th>\n",
       "      <th>Embarked_Q</th>\n",
       "      <th>Embarked_S</th>\n",
       "    </tr>\n",
       "  </thead>\n",
       "  <tbody>\n",
       "    <tr>\n",
       "      <th>0</th>\n",
       "      <td>3</td>\n",
       "      <td>22.0</td>\n",
       "      <td>1</td>\n",
       "      <td>0</td>\n",
       "      <td>7.2500</td>\n",
       "      <td>0</td>\n",
       "      <td>1</td>\n",
       "      <td>0</td>\n",
       "      <td>0</td>\n",
       "      <td>1</td>\n",
       "    </tr>\n",
       "    <tr>\n",
       "      <th>1</th>\n",
       "      <td>1</td>\n",
       "      <td>38.0</td>\n",
       "      <td>1</td>\n",
       "      <td>0</td>\n",
       "      <td>71.2833</td>\n",
       "      <td>1</td>\n",
       "      <td>0</td>\n",
       "      <td>1</td>\n",
       "      <td>0</td>\n",
       "      <td>0</td>\n",
       "    </tr>\n",
       "    <tr>\n",
       "      <th>2</th>\n",
       "      <td>3</td>\n",
       "      <td>26.0</td>\n",
       "      <td>0</td>\n",
       "      <td>0</td>\n",
       "      <td>7.9250</td>\n",
       "      <td>1</td>\n",
       "      <td>0</td>\n",
       "      <td>0</td>\n",
       "      <td>0</td>\n",
       "      <td>1</td>\n",
       "    </tr>\n",
       "    <tr>\n",
       "      <th>3</th>\n",
       "      <td>1</td>\n",
       "      <td>35.0</td>\n",
       "      <td>1</td>\n",
       "      <td>0</td>\n",
       "      <td>53.1000</td>\n",
       "      <td>1</td>\n",
       "      <td>0</td>\n",
       "      <td>0</td>\n",
       "      <td>0</td>\n",
       "      <td>1</td>\n",
       "    </tr>\n",
       "    <tr>\n",
       "      <th>4</th>\n",
       "      <td>3</td>\n",
       "      <td>35.0</td>\n",
       "      <td>0</td>\n",
       "      <td>0</td>\n",
       "      <td>8.0500</td>\n",
       "      <td>0</td>\n",
       "      <td>1</td>\n",
       "      <td>0</td>\n",
       "      <td>0</td>\n",
       "      <td>1</td>\n",
       "    </tr>\n",
       "  </tbody>\n",
       "</table>\n",
       "</div>"
      ],
      "text/plain": [
       "   Pclass   Age  SibSp  Parch     Fare  Sex_female  Sex_male  Embarked_C  \\\n",
       "0       3  22.0      1      0   7.2500           0         1           0   \n",
       "1       1  38.0      1      0  71.2833           1         0           1   \n",
       "2       3  26.0      0      0   7.9250           1         0           0   \n",
       "3       1  35.0      1      0  53.1000           1         0           0   \n",
       "4       3  35.0      0      0   8.0500           0         1           0   \n",
       "\n",
       "   Embarked_Q  Embarked_S  \n",
       "0           0           1  \n",
       "1           0           0  \n",
       "2           0           1  \n",
       "3           0           1  \n",
       "4           0           1  "
      ]
     },
     "execution_count": 19,
     "metadata": {},
     "output_type": "execute_result"
    }
   ],
   "source": [
    "X = X.fillna({'Age' : X['Age'].median()})\n",
    "X.head()"
   ]
  },
  {
   "cell_type": "code",
   "execution_count": null,
   "id": "1306a0d9-38b5-4b75-83e7-0dfc721c4798",
   "metadata": {},
   "outputs": [],
   "source": []
  },
  {
   "cell_type": "code",
   "execution_count": 20,
   "id": "664877d7-80ea-4bbd-a8df-77be2491676c",
   "metadata": {},
   "outputs": [
    {
     "data": {
      "text/plain": [
       "[Text(205.0997463099631, 212.004, 'Sex_female <= 0.5\\nentropy = 0.961\\nsamples = 891\\nvalue = [549, 342]'),\n",
       " Text(129.52652214022143, 201.132, 'Fare <= 26.269\\nentropy = 0.699\\nsamples = 577\\nvalue = [468, 109]'),\n",
       " Text(63.93321033210333, 190.26, 'Age <= 13.5\\nentropy = 0.558\\nsamples = 415\\nvalue = [361, 54]'),\n",
       " Text(22.855350553505538, 179.388, 'SibSp <= 2.0\\nentropy = 0.567\\nsamples = 15\\nvalue = [2, 13]'),\n",
       " Text(20.384501845018452, 168.516, 'Age <= 10.0\\nentropy = 0.371\\nsamples = 14\\nvalue = [1, 13]'),\n",
       " Text(17.913653136531366, 157.644, 'entropy = 0.0\\nsamples = 12\\nvalue = [0, 12]'),\n",
       " Text(22.855350553505538, 157.644, 'Fare <= 15.015\\nentropy = 1.0\\nsamples = 2\\nvalue = [1, 1]'),\n",
       " Text(20.384501845018452, 146.772, 'entropy = 0.0\\nsamples = 1\\nvalue = [0, 1]'),\n",
       " Text(25.326199261992624, 146.772, 'entropy = 0.0\\nsamples = 1\\nvalue = [1, 0]'),\n",
       " Text(25.326199261992624, 168.516, 'entropy = 0.0\\nsamples = 1\\nvalue = [1, 0]'),\n",
       " Text(105.01107011070111, 179.388, 'Embarked_C <= 0.5\\nentropy = 0.477\\nsamples = 400\\nvalue = [359, 41]'),\n",
       " Text(75.3608856088561, 168.516, 'Fare <= 13.25\\nentropy = 0.437\\nsamples = 355\\nvalue = [323, 32]'),\n",
       " Text(49.41697416974171, 157.644, 'Fare <= 7.91\\nentropy = 0.479\\nsamples = 291\\nvalue = [261, 30]'),\n",
       " Text(30.267896678966792, 146.772, 'Fare <= 7.865\\nentropy = 0.353\\nsamples = 150\\nvalue = [140, 10]'),\n",
       " Text(27.797047970479706, 135.9, 'Age <= 32.5\\nentropy = 0.424\\nsamples = 116\\nvalue = [106, 10]'),\n",
       " Text(25.326199261992624, 125.02799999999999, 'Age <= 20.75\\nentropy = 0.507\\nsamples = 89\\nvalue = [79, 10]'),\n",
       " Text(22.855350553505538, 114.156, 'entropy = 0.0\\nsamples = 16\\nvalue = [16, 0]'),\n",
       " Text(27.797047970479706, 114.156, 'Fare <= 7.763\\nentropy = 0.576\\nsamples = 73\\nvalue = [63, 10]'),\n",
       " Text(11.118819188191884, 103.28399999999999, 'Age <= 27.5\\nentropy = 0.451\\nsamples = 53\\nvalue = [48, 5]'),\n",
       " Text(4.94169741697417, 92.412, 'Fare <= 7.013\\nentropy = 0.672\\nsamples = 17\\nvalue = [14, 3]'),\n",
       " Text(2.470848708487085, 81.53999999999999, 'entropy = 0.0\\nsamples = 2\\nvalue = [0, 2]'),\n",
       " Text(7.4125461254612555, 81.53999999999999, 'Fare <= 7.196\\nentropy = 0.353\\nsamples = 15\\nvalue = [14, 1]'),\n",
       " Text(4.94169741697417, 70.668, 'Fare <= 7.133\\nentropy = 0.722\\nsamples = 5\\nvalue = [4, 1]'),\n",
       " Text(2.470848708487085, 59.79599999999999, 'entropy = 0.0\\nsamples = 4\\nvalue = [4, 0]'),\n",
       " Text(7.4125461254612555, 59.79599999999999, 'entropy = 0.0\\nsamples = 1\\nvalue = [0, 1]'),\n",
       " Text(9.88339483394834, 70.668, 'entropy = 0.0\\nsamples = 10\\nvalue = [10, 0]'),\n",
       " Text(17.295940959409595, 92.412, 'Fare <= 7.744\\nentropy = 0.31\\nsamples = 36\\nvalue = [34, 2]'),\n",
       " Text(14.825092250922511, 81.53999999999999, 'entropy = 0.0\\nsamples = 22\\nvalue = [22, 0]'),\n",
       " Text(19.76678966789668, 81.53999999999999, 'Age <= 28.5\\nentropy = 0.592\\nsamples = 14\\nvalue = [12, 2]'),\n",
       " Text(14.825092250922511, 70.668, 'SibSp <= 0.5\\nentropy = 0.439\\nsamples = 11\\nvalue = [10, 1]'),\n",
       " Text(12.354243542435427, 59.79599999999999, 'entropy = 0.469\\nsamples = 10\\nvalue = [9, 1]'),\n",
       " Text(17.295940959409595, 59.79599999999999, 'entropy = 0.0\\nsamples = 1\\nvalue = [1, 0]'),\n",
       " Text(24.708487084870853, 70.668, 'Age <= 30.0\\nentropy = 0.918\\nsamples = 3\\nvalue = [2, 1]'),\n",
       " Text(22.237638376383767, 59.79599999999999, 'entropy = 0.0\\nsamples = 1\\nvalue = [0, 1]'),\n",
       " Text(27.179335793357936, 59.79599999999999, 'entropy = 0.0\\nsamples = 2\\nvalue = [2, 0]'),\n",
       " Text(44.475276752767535, 103.28399999999999, 'Age <= 31.5\\nentropy = 0.811\\nsamples = 20\\nvalue = [15, 5]'),\n",
       " Text(42.004428044280445, 92.412, 'Fare <= 7.798\\nentropy = 0.742\\nsamples = 19\\nvalue = [15, 4]'),\n",
       " Text(39.53357933579336, 81.53999999999999, 'Age <= 28.5\\nentropy = 0.89\\nsamples = 13\\nvalue = [9, 4]'),\n",
       " Text(37.06273062730628, 70.668, 'Age <= 26.5\\nentropy = 0.946\\nsamples = 11\\nvalue = [7, 4]'),\n",
       " Text(32.12103321033211, 59.79599999999999, 'Age <= 25.5\\nentropy = 0.863\\nsamples = 7\\nvalue = [5, 2]'),\n",
       " Text(29.650184501845022, 48.92400000000001, 'Age <= 21.5\\nentropy = 0.918\\nsamples = 6\\nvalue = [4, 2]'),\n",
       " Text(24.708487084870853, 38.05199999999999, 'Fare <= 7.785\\nentropy = 1.0\\nsamples = 2\\nvalue = [1, 1]'),\n",
       " Text(22.237638376383767, 27.180000000000007, 'entropy = 0.0\\nsamples = 1\\nvalue = [1, 0]'),\n",
       " Text(27.179335793357936, 27.180000000000007, 'entropy = 0.0\\nsamples = 1\\nvalue = [0, 1]'),\n",
       " Text(34.59188191881919, 38.05199999999999, 'Age <= 24.5\\nentropy = 0.811\\nsamples = 4\\nvalue = [3, 1]'),\n",
       " Text(32.12103321033211, 27.180000000000007, 'entropy = 0.0\\nsamples = 2\\nvalue = [2, 0]'),\n",
       " Text(37.06273062730628, 27.180000000000007, 'entropy = 1.0\\nsamples = 2\\nvalue = [1, 1]'),\n",
       " Text(34.59188191881919, 48.92400000000001, 'entropy = 0.0\\nsamples = 1\\nvalue = [1, 0]'),\n",
       " Text(42.004428044280445, 59.79599999999999, 'Age <= 27.5\\nentropy = 1.0\\nsamples = 4\\nvalue = [2, 2]'),\n",
       " Text(39.53357933579336, 48.92400000000001, 'entropy = 0.0\\nsamples = 1\\nvalue = [0, 1]'),\n",
       " Text(44.475276752767535, 48.92400000000001, 'Fare <= 7.785\\nentropy = 0.918\\nsamples = 3\\nvalue = [2, 1]'),\n",
       " Text(42.004428044280445, 38.05199999999999, 'entropy = 1.0\\nsamples = 2\\nvalue = [1, 1]'),\n",
       " Text(46.94612546125462, 38.05199999999999, 'entropy = 0.0\\nsamples = 1\\nvalue = [1, 0]'),\n",
       " Text(42.004428044280445, 70.668, 'entropy = 0.0\\nsamples = 2\\nvalue = [2, 0]'),\n",
       " Text(44.475276752767535, 81.53999999999999, 'entropy = 0.0\\nsamples = 6\\nvalue = [6, 0]'),\n",
       " Text(46.94612546125462, 92.412, 'entropy = 0.0\\nsamples = 1\\nvalue = [0, 1]'),\n",
       " Text(30.267896678966792, 125.02799999999999, 'entropy = 0.0\\nsamples = 27\\nvalue = [27, 0]'),\n",
       " Text(32.738745387453875, 135.9, 'entropy = 0.0\\nsamples = 34\\nvalue = [34, 0]'),\n",
       " Text(68.5660516605166, 146.772, 'Fare <= 7.988\\nentropy = 0.589\\nsamples = 141\\nvalue = [121, 20]'),\n",
       " Text(56.82952029520296, 135.9, 'SibSp <= 1.5\\nentropy = 0.961\\nsamples = 13\\nvalue = [8, 5]'),\n",
       " Text(54.35867158671587, 125.02799999999999, 'SibSp <= 0.5\\nentropy = 0.994\\nsamples = 11\\nvalue = [6, 5]'),\n",
       " Text(51.88782287822879, 114.156, 'Age <= 26.0\\nentropy = 0.971\\nsamples = 10\\nvalue = [6, 4]'),\n",
       " Text(49.41697416974171, 103.28399999999999, 'entropy = 0.0\\nsamples = 3\\nvalue = [3, 0]'),\n",
       " Text(54.35867158671587, 103.28399999999999, 'Age <= 31.5\\nentropy = 0.985\\nsamples = 7\\nvalue = [3, 4]'),\n",
       " Text(51.88782287822879, 92.412, 'entropy = 0.0\\nsamples = 1\\nvalue = [0, 1]'),\n",
       " Text(56.82952029520296, 92.412, 'Age <= 41.5\\nentropy = 1.0\\nsamples = 6\\nvalue = [3, 3]'),\n",
       " Text(54.35867158671587, 81.53999999999999, 'Age <= 35.5\\nentropy = 0.971\\nsamples = 5\\nvalue = [3, 2]'),\n",
       " Text(51.88782287822879, 70.668, 'entropy = 0.918\\nsamples = 3\\nvalue = [2, 1]'),\n",
       " Text(56.82952029520296, 70.668, 'entropy = 1.0\\nsamples = 2\\nvalue = [1, 1]'),\n",
       " Text(59.300369003690044, 81.53999999999999, 'entropy = 0.0\\nsamples = 1\\nvalue = [0, 1]'),\n",
       " Text(56.82952029520296, 114.156, 'entropy = 0.0\\nsamples = 1\\nvalue = [0, 1]'),\n",
       " Text(59.300369003690044, 125.02799999999999, 'entropy = 0.0\\nsamples = 2\\nvalue = [2, 0]'),\n",
       " Text(80.30258302583027, 135.9, 'Age <= 19.5\\nentropy = 0.521\\nsamples = 128\\nvalue = [113, 15]'),\n",
       " Text(66.7129151291513, 125.02799999999999, 'Fare <= 8.104\\nentropy = 0.722\\nsamples = 20\\nvalue = [16, 4]'),\n",
       " Text(61.771217712177126, 114.156, 'Age <= 17.0\\nentropy = 0.971\\nsamples = 5\\nvalue = [2, 3]'),\n",
       " Text(59.300369003690044, 103.28399999999999, 'entropy = 1.0\\nsamples = 2\\nvalue = [1, 1]'),\n",
       " Text(64.24206642066422, 103.28399999999999, 'Age <= 18.5\\nentropy = 0.918\\nsamples = 3\\nvalue = [1, 2]'),\n",
       " Text(61.771217712177126, 92.412, 'entropy = 0.0\\nsamples = 1\\nvalue = [0, 1]'),\n",
       " Text(66.7129151291513, 92.412, 'entropy = 1.0\\nsamples = 2\\nvalue = [1, 1]'),\n",
       " Text(71.65461254612546, 114.156, 'Age <= 18.5\\nentropy = 0.353\\nsamples = 15\\nvalue = [14, 1]'),\n",
       " Text(69.18376383763838, 103.28399999999999, 'entropy = 0.0\\nsamples = 10\\nvalue = [10, 0]'),\n",
       " Text(74.12546125461256, 103.28399999999999, 'Fare <= 10.335\\nentropy = 0.722\\nsamples = 5\\nvalue = [4, 1]'),\n",
       " Text(71.65461254612546, 92.412, 'entropy = 0.0\\nsamples = 2\\nvalue = [2, 0]'),\n",
       " Text(76.59630996309964, 92.412, 'Fare <= 11.75\\nentropy = 0.918\\nsamples = 3\\nvalue = [2, 1]'),\n",
       " Text(74.12546125461256, 81.53999999999999, 'entropy = 1.0\\nsamples = 2\\nvalue = [1, 1]'),\n",
       " Text(79.06715867158672, 81.53999999999999, 'entropy = 0.0\\nsamples = 1\\nvalue = [1, 0]'),\n",
       " Text(93.89225092250923, 125.02799999999999, 'Age <= 26.5\\nentropy = 0.475\\nsamples = 108\\nvalue = [97, 11]'),\n",
       " Text(91.42140221402215, 114.156, 'entropy = 0.0\\nsamples = 31\\nvalue = [31, 0]'),\n",
       " Text(96.36309963099632, 114.156, 'Fare <= 8.081\\nentropy = 0.592\\nsamples = 77\\nvalue = [66, 11]'),\n",
       " Text(84.00885608856089, 103.28399999999999, 'Age <= 31.25\\nentropy = 0.371\\nsamples = 28\\nvalue = [26, 2]'),\n",
       " Text(81.53800738007381, 92.412, 'entropy = 0.0\\nsamples = 16\\nvalue = [16, 0]'),\n",
       " Text(86.47970479704799, 92.412, 'Age <= 33.0\\nentropy = 0.65\\nsamples = 12\\nvalue = [10, 2]'),\n",
       " Text(84.00885608856089, 81.53999999999999, 'entropy = 0.0\\nsamples = 1\\nvalue = [0, 1]'),\n",
       " Text(88.95055350553507, 81.53999999999999, 'Age <= 44.5\\nentropy = 0.439\\nsamples = 11\\nvalue = [10, 1]'),\n",
       " Text(86.47970479704799, 70.668, 'entropy = 0.0\\nsamples = 7\\nvalue = [7, 0]'),\n",
       " Text(91.42140221402215, 70.668, 'Age <= 47.5\\nentropy = 0.811\\nsamples = 4\\nvalue = [3, 1]'),\n",
       " Text(88.95055350553507, 59.79599999999999, 'entropy = 0.0\\nsamples = 1\\nvalue = [0, 1]'),\n",
       " Text(93.89225092250923, 59.79599999999999, 'entropy = 0.0\\nsamples = 3\\nvalue = [3, 0]'),\n",
       " Text(108.71734317343174, 103.28399999999999, 'Fare <= 8.238\\nentropy = 0.688\\nsamples = 49\\nvalue = [40, 9]'),\n",
       " Text(106.24649446494466, 92.412, 'entropy = 0.0\\nsamples = 1\\nvalue = [0, 1]'),\n",
       " Text(111.18819188191883, 92.412, 'Fare <= 8.658\\nentropy = 0.65\\nsamples = 48\\nvalue = [40, 8]'),\n",
       " Text(108.71734317343174, 81.53999999999999, 'entropy = 0.0\\nsamples = 4\\nvalue = [4, 0]'),\n",
       " Text(113.65904059040592, 81.53999999999999, 'Age <= 31.5\\nentropy = 0.684\\nsamples = 44\\nvalue = [36, 8]'),\n",
       " Text(103.77564575645758, 70.668, 'Pclass <= 2.5\\nentropy = 0.811\\nsamples = 20\\nvalue = [15, 5]'),\n",
       " Text(98.83394833948341, 59.79599999999999, 'Fare <= 11.75\\nentropy = 0.65\\nsamples = 12\\nvalue = [10, 2]'),\n",
       " Text(96.36309963099632, 48.92400000000001, 'entropy = 0.0\\nsamples = 4\\nvalue = [4, 0]'),\n",
       " Text(101.3047970479705, 48.92400000000001, 'Age <= 30.5\\nentropy = 0.811\\nsamples = 8\\nvalue = [6, 2]'),\n",
       " Text(98.83394833948341, 38.05199999999999, 'Age <= 29.0\\nentropy = 0.592\\nsamples = 7\\nvalue = [6, 1]'),\n",
       " Text(96.36309963099632, 27.180000000000007, 'Age <= 27.5\\nentropy = 0.811\\nsamples = 4\\nvalue = [3, 1]'),\n",
       " Text(93.89225092250923, 16.307999999999993, 'entropy = 0.0\\nsamples = 2\\nvalue = [2, 0]'),\n",
       " Text(98.83394833948341, 16.307999999999993, 'entropy = 1.0\\nsamples = 2\\nvalue = [1, 1]'),\n",
       " Text(101.3047970479705, 27.180000000000007, 'entropy = 0.0\\nsamples = 3\\nvalue = [3, 0]'),\n",
       " Text(103.77564575645758, 38.05199999999999, 'entropy = 0.0\\nsamples = 1\\nvalue = [0, 1]'),\n",
       " Text(108.71734317343174, 59.79599999999999, 'Age <= 27.5\\nentropy = 0.954\\nsamples = 8\\nvalue = [5, 3]'),\n",
       " Text(106.24649446494466, 48.92400000000001, 'entropy = 0.0\\nsamples = 1\\nvalue = [0, 1]'),\n",
       " Text(111.18819188191883, 48.92400000000001, 'Age <= 28.5\\nentropy = 0.863\\nsamples = 7\\nvalue = [5, 2]'),\n",
       " Text(108.71734317343174, 38.05199999999999, 'entropy = 0.0\\nsamples = 4\\nvalue = [4, 0]'),\n",
       " Text(113.65904059040592, 38.05199999999999, 'Fare <= 9.492\\nentropy = 0.918\\nsamples = 3\\nvalue = [1, 2]'),\n",
       " Text(111.18819188191883, 27.180000000000007, 'entropy = 0.0\\nsamples = 1\\nvalue = [1, 0]'),\n",
       " Text(116.129889298893, 27.180000000000007, 'entropy = 0.0\\nsamples = 2\\nvalue = [0, 2]'),\n",
       " Text(123.54243542435425, 70.668, 'Fare <= 10.0\\nentropy = 0.544\\nsamples = 24\\nvalue = [21, 3]'),\n",
       " Text(121.07158671586717, 59.79599999999999, 'entropy = 0.0\\nsamples = 4\\nvalue = [4, 0]'),\n",
       " Text(126.01328413284135, 59.79599999999999, 'Age <= 59.5\\nentropy = 0.61\\nsamples = 20\\nvalue = [17, 3]'),\n",
       " Text(121.07158671586717, 48.92400000000001, 'Fare <= 12.762\\nentropy = 0.523\\nsamples = 17\\nvalue = [15, 2]'),\n",
       " Text(118.60073800738009, 38.05199999999999, 'entropy = 0.0\\nsamples = 6\\nvalue = [6, 0]'),\n",
       " Text(123.54243542435425, 38.05199999999999, 'Age <= 45.0\\nentropy = 0.684\\nsamples = 11\\nvalue = [9, 2]'),\n",
       " Text(121.07158671586717, 27.180000000000007, 'Age <= 40.5\\nentropy = 0.811\\nsamples = 8\\nvalue = [6, 2]'),\n",
       " Text(118.60073800738009, 16.307999999999993, 'Age <= 35.0\\nentropy = 0.65\\nsamples = 6\\nvalue = [5, 1]'),\n",
       " Text(116.129889298893, 5.436000000000007, 'entropy = 0.918\\nsamples = 3\\nvalue = [2, 1]'),\n",
       " Text(121.07158671586717, 5.436000000000007, 'entropy = 0.0\\nsamples = 3\\nvalue = [3, 0]'),\n",
       " Text(123.54243542435425, 16.307999999999993, 'entropy = 1.0\\nsamples = 2\\nvalue = [1, 1]'),\n",
       " Text(126.01328413284135, 27.180000000000007, 'entropy = 0.0\\nsamples = 3\\nvalue = [3, 0]'),\n",
       " Text(130.9549815498155, 48.92400000000001, 'Age <= 64.0\\nentropy = 0.918\\nsamples = 3\\nvalue = [2, 1]'),\n",
       " Text(128.48413284132843, 38.05199999999999, 'entropy = 0.0\\nsamples = 1\\nvalue = [0, 1]'),\n",
       " Text(133.4258302583026, 38.05199999999999, 'entropy = 0.0\\nsamples = 2\\nvalue = [2, 0]'),\n",
       " Text(101.3047970479705, 157.644, 'Fare <= 22.887\\nentropy = 0.201\\nsamples = 64\\nvalue = [62, 2]'),\n",
       " Text(98.83394833948341, 146.772, 'entropy = 0.0\\nsamples = 37\\nvalue = [37, 0]'),\n",
       " Text(103.77564575645758, 146.772, 'Fare <= 23.35\\nentropy = 0.381\\nsamples = 27\\nvalue = [25, 2]'),\n",
       " Text(101.3047970479705, 135.9, 'entropy = 0.0\\nsamples = 1\\nvalue = [0, 1]'),\n",
       " Text(106.24649446494466, 135.9, 'Age <= 33.0\\nentropy = 0.235\\nsamples = 26\\nvalue = [25, 1]'),\n",
       " Text(103.77564575645758, 125.02799999999999, 'Age <= 31.5\\nentropy = 0.414\\nsamples = 12\\nvalue = [11, 1]'),\n",
       " Text(101.3047970479705, 114.156, 'entropy = 0.0\\nsamples = 11\\nvalue = [11, 0]'),\n",
       " Text(106.24649446494466, 114.156, 'entropy = 0.0\\nsamples = 1\\nvalue = [0, 1]'),\n",
       " Text(108.71734317343174, 125.02799999999999, 'entropy = 0.0\\nsamples = 14\\nvalue = [14, 0]'),\n",
       " Text(134.66125461254614, 168.516, 'Fare <= 15.148\\nentropy = 0.722\\nsamples = 45\\nvalue = [36, 9]'),\n",
       " Text(129.71955719557198, 157.644, 'Age <= 29.5\\nentropy = 0.552\\nsamples = 39\\nvalue = [34, 5]'),\n",
       " Text(127.24870848708488, 146.772, 'Age <= 28.75\\nentropy = 0.65\\nsamples = 30\\nvalue = [25, 5]'),\n",
       " Text(124.7778597785978, 135.9, 'Age <= 22.5\\nentropy = 0.579\\nsamples = 29\\nvalue = [25, 4]'),\n",
       " Text(118.60073800738009, 125.02799999999999, 'SibSp <= 0.5\\nentropy = 0.918\\nsamples = 6\\nvalue = [4, 2]'),\n",
       " Text(116.129889298893, 114.156, 'Fare <= 5.619\\nentropy = 1.0\\nsamples = 4\\nvalue = [2, 2]'),\n",
       " Text(113.65904059040592, 103.28399999999999, 'entropy = 0.0\\nsamples = 1\\nvalue = [1, 0]'),\n",
       " Text(118.60073800738009, 103.28399999999999, 'Fare <= 7.227\\nentropy = 0.918\\nsamples = 3\\nvalue = [1, 2]'),\n",
       " Text(116.129889298893, 92.412, 'entropy = 0.0\\nsamples = 1\\nvalue = [0, 1]'),\n",
       " Text(121.07158671586717, 92.412, 'Age <= 21.0\\nentropy = 1.0\\nsamples = 2\\nvalue = [1, 1]'),\n",
       " Text(118.60073800738009, 81.53999999999999, 'entropy = 0.0\\nsamples = 1\\nvalue = [0, 1]'),\n",
       " Text(123.54243542435425, 81.53999999999999, 'entropy = 0.0\\nsamples = 1\\nvalue = [1, 0]'),\n",
       " Text(121.07158671586717, 114.156, 'entropy = 0.0\\nsamples = 2\\nvalue = [2, 0]'),\n",
       " Text(130.9549815498155, 125.02799999999999, 'Pclass <= 2.5\\nentropy = 0.426\\nsamples = 23\\nvalue = [21, 2]'),\n",
       " Text(126.01328413284135, 114.156, 'Fare <= 14.454\\nentropy = 0.918\\nsamples = 3\\nvalue = [2, 1]'),\n",
       " Text(123.54243542435425, 103.28399999999999, 'entropy = 0.0\\nsamples = 1\\nvalue = [0, 1]'),\n",
       " Text(128.48413284132843, 103.28399999999999, 'entropy = 0.0\\nsamples = 2\\nvalue = [2, 0]'),\n",
       " Text(135.8966789667897, 114.156, 'Fare <= 7.227\\nentropy = 0.286\\nsamples = 20\\nvalue = [19, 1]'),\n",
       " Text(133.4258302583026, 103.28399999999999, 'entropy = 0.0\\nsamples = 6\\nvalue = [6, 0]'),\n",
       " Text(138.36752767527676, 103.28399999999999, 'Fare <= 7.562\\nentropy = 0.371\\nsamples = 14\\nvalue = [13, 1]'),\n",
       " Text(135.8966789667897, 92.412, 'Age <= 25.75\\nentropy = 0.544\\nsamples = 8\\nvalue = [7, 1]'),\n",
       " Text(133.4258302583026, 81.53999999999999, 'entropy = 0.0\\nsamples = 1\\nvalue = [1, 0]'),\n",
       " Text(138.36752767527676, 81.53999999999999, 'Age <= 28.25\\nentropy = 0.592\\nsamples = 7\\nvalue = [6, 1]'),\n",
       " Text(135.8966789667897, 70.668, 'entropy = 0.65\\nsamples = 6\\nvalue = [5, 1]'),\n",
       " Text(140.83837638376386, 70.668, 'entropy = 0.0\\nsamples = 1\\nvalue = [1, 0]'),\n",
       " Text(140.83837638376386, 92.412, 'entropy = 0.0\\nsamples = 6\\nvalue = [6, 0]'),\n",
       " Text(129.71955719557198, 135.9, 'entropy = 0.0\\nsamples = 1\\nvalue = [0, 1]'),\n",
       " Text(132.19040590405905, 146.772, 'entropy = 0.0\\nsamples = 9\\nvalue = [9, 0]'),\n",
       " Text(139.6029520295203, 157.644, 'Fare <= 20.233\\nentropy = 0.918\\nsamples = 6\\nvalue = [2, 4]'),\n",
       " Text(137.1321033210332, 146.772, 'entropy = 0.0\\nsamples = 4\\nvalue = [0, 4]'),\n",
       " Text(142.0738007380074, 146.772, 'entropy = 0.0\\nsamples = 2\\nvalue = [2, 0]'),\n",
       " Text(195.1198339483395, 190.26, 'SibSp <= 2.5\\nentropy = 0.924\\nsamples = 162\\nvalue = [107, 55]'),\n",
       " Text(187.70728782287824, 179.388, 'Age <= 13.5\\nentropy = 0.964\\nsamples = 139\\nvalue = [85, 54]'),\n",
       " Text(185.23643911439117, 168.516, 'entropy = 0.0\\nsamples = 7\\nvalue = [0, 7]'),\n",
       " Text(190.17813653136534, 168.516, 'Fare <= 26.469\\nentropy = 0.939\\nsamples = 132\\nvalue = [85, 47]'),\n",
       " Text(187.70728782287824, 157.644, 'entropy = 0.0\\nsamples = 4\\nvalue = [0, 4]'),\n",
       " Text(192.6489852398524, 157.644, 'Age <= 53.0\\nentropy = 0.921\\nsamples = 128\\nvalue = [85, 43]'),\n",
       " Text(162.92158671586716, 146.772, 'Fare <= 26.775\\nentropy = 0.956\\nsamples = 106\\nvalue = [66, 40]'),\n",
       " Text(155.66346863468635, 135.9, 'Age <= 46.5\\nentropy = 0.764\\nsamples = 9\\nvalue = [2, 7]'),\n",
       " Text(153.19261992619928, 125.02799999999999, 'Embarked_C <= 0.5\\nentropy = 0.863\\nsamples = 7\\nvalue = [2, 5]'),\n",
       " Text(150.7217712177122, 114.156, 'Age <= 39.5\\nentropy = 0.918\\nsamples = 6\\nvalue = [2, 4]'),\n",
       " Text(148.25092250922512, 103.28399999999999, 'Age <= 31.0\\nentropy = 0.811\\nsamples = 4\\nvalue = [1, 3]'),\n",
       " Text(145.78007380073802, 92.412, 'entropy = 0.918\\nsamples = 3\\nvalue = [1, 2]'),\n",
       " Text(150.7217712177122, 92.412, 'entropy = 0.0\\nsamples = 1\\nvalue = [0, 1]'),\n",
       " Text(153.19261992619928, 103.28399999999999, 'entropy = 1.0\\nsamples = 2\\nvalue = [1, 1]'),\n",
       " Text(155.66346863468635, 114.156, 'entropy = 0.0\\nsamples = 1\\nvalue = [0, 1]'),\n",
       " Text(158.13431734317345, 125.02799999999999, 'entropy = 0.0\\nsamples = 2\\nvalue = [0, 2]'),\n",
       " Text(170.179704797048, 135.9, 'Fare <= 29.1\\nentropy = 0.925\\nsamples = 97\\nvalue = [64, 33]'),\n",
       " Text(167.7088560885609, 125.02799999999999, 'entropy = 0.0\\nsamples = 9\\nvalue = [9, 0]'),\n",
       " Text(172.65055350553507, 125.02799999999999, 'Fare <= 30.598\\nentropy = 0.954\\nsamples = 88\\nvalue = [55, 33]'),\n",
       " Text(160.60516605166055, 114.156, 'Age <= 28.5\\nentropy = 0.881\\nsamples = 10\\nvalue = [3, 7]'),\n",
       " Text(158.13431734317345, 103.28399999999999, 'entropy = 0.0\\nsamples = 5\\nvalue = [0, 5]'),\n",
       " Text(163.07601476014761, 103.28399999999999, 'Fare <= 30.285\\nentropy = 0.971\\nsamples = 5\\nvalue = [3, 2]'),\n",
       " Text(160.60516605166055, 92.412, 'entropy = 0.0\\nsamples = 3\\nvalue = [3, 0]'),\n",
       " Text(165.5468634686347, 92.412, 'entropy = 0.0\\nsamples = 2\\nvalue = [0, 2]'),\n",
       " Text(184.69594095940963, 114.156, 'Fare <= 52.277\\nentropy = 0.918\\nsamples = 78\\nvalue = [52, 26]'),\n",
       " Text(172.95940959409597, 103.28399999999999, 'Age <= 47.5\\nentropy = 0.619\\nsamples = 26\\nvalue = [22, 4]'),\n",
       " Text(170.48856088560888, 92.412, 'Fare <= 36.125\\nentropy = 0.529\\nsamples = 25\\nvalue = [22, 3]'),\n",
       " Text(168.01771217712178, 81.53999999999999, 'Fare <= 35.25\\nentropy = 0.845\\nsamples = 11\\nvalue = [8, 3]'),\n",
       " Text(163.07601476014761, 70.668, 'Embarked_S <= 0.5\\nentropy = 0.544\\nsamples = 8\\nvalue = [7, 1]'),\n",
       " Text(160.60516605166055, 59.79599999999999, 'Fare <= 30.848\\nentropy = 1.0\\nsamples = 2\\nvalue = [1, 1]'),\n",
       " Text(158.13431734317345, 48.92400000000001, 'entropy = 0.0\\nsamples = 1\\nvalue = [1, 0]'),\n",
       " Text(163.07601476014761, 48.92400000000001, 'entropy = 0.0\\nsamples = 1\\nvalue = [0, 1]'),\n",
       " Text(165.5468634686347, 59.79599999999999, 'entropy = 0.0\\nsamples = 6\\nvalue = [6, 0]'),\n",
       " Text(172.95940959409597, 70.668, 'Age <= 36.5\\nentropy = 0.918\\nsamples = 3\\nvalue = [1, 2]'),\n",
       " Text(170.48856088560888, 59.79599999999999, 'entropy = 0.0\\nsamples = 2\\nvalue = [0, 2]'),\n",
       " Text(175.43025830258304, 59.79599999999999, 'entropy = 0.0\\nsamples = 1\\nvalue = [1, 0]'),\n",
       " Text(172.95940959409597, 81.53999999999999, 'entropy = 0.0\\nsamples = 14\\nvalue = [14, 0]'),\n",
       " Text(175.43025830258304, 92.412, 'entropy = 0.0\\nsamples = 1\\nvalue = [0, 1]'),\n",
       " Text(196.43247232472328, 103.28399999999999, 'Fare <= 59.087\\nentropy = 0.983\\nsamples = 52\\nvalue = [30, 22]'),\n",
       " Text(182.8428044280443, 92.412, 'Age <= 22.0\\nentropy = 0.896\\nsamples = 16\\nvalue = [5, 11]'),\n",
       " Text(180.3719557195572, 81.53999999999999, 'entropy = 0.0\\nsamples = 1\\nvalue = [1, 0]'),\n",
       " Text(185.3136531365314, 81.53999999999999, 'Age <= 49.5\\nentropy = 0.837\\nsamples = 15\\nvalue = [4, 11]'),\n",
       " Text(182.8428044280443, 70.668, 'Age <= 27.5\\nentropy = 0.75\\nsamples = 14\\nvalue = [3, 11]'),\n",
       " Text(180.3719557195572, 59.79599999999999, 'entropy = 0.0\\nsamples = 3\\nvalue = [0, 3]'),\n",
       " Text(185.3136531365314, 59.79599999999999, 'Age <= 29.5\\nentropy = 0.845\\nsamples = 11\\nvalue = [3, 8]'),\n",
       " Text(182.8428044280443, 48.92400000000001, 'entropy = 1.0\\nsamples = 4\\nvalue = [2, 2]'),\n",
       " Text(187.78450184501847, 48.92400000000001, 'Fare <= 54.798\\nentropy = 0.592\\nsamples = 7\\nvalue = [1, 6]'),\n",
       " Text(185.3136531365314, 38.05199999999999, 'Fare <= 52.827\\nentropy = 0.918\\nsamples = 3\\nvalue = [1, 2]'),\n",
       " Text(182.8428044280443, 27.180000000000007, 'entropy = 0.0\\nsamples = 2\\nvalue = [0, 2]'),\n",
       " Text(187.78450184501847, 27.180000000000007, 'entropy = 0.0\\nsamples = 1\\nvalue = [1, 0]'),\n",
       " Text(190.25535055350556, 38.05199999999999, 'entropy = 0.0\\nsamples = 4\\nvalue = [0, 4]'),\n",
       " Text(187.78450184501847, 70.668, 'entropy = 0.0\\nsamples = 1\\nvalue = [1, 0]'),\n",
       " Text(210.02214022140222, 92.412, 'Fare <= 379.925\\nentropy = 0.888\\nsamples = 36\\nvalue = [25, 11]'),\n",
       " Text(207.55129151291516, 81.53999999999999, 'Fare <= 134.642\\nentropy = 0.834\\nsamples = 34\\nvalue = [25, 9]'),\n",
       " Text(205.08044280442806, 70.668, 'Fare <= 86.29\\nentropy = 0.906\\nsamples = 28\\nvalue = [19, 9]'),\n",
       " Text(200.1387453874539, 59.79599999999999, 'Embarked_S <= 0.5\\nentropy = 0.65\\nsamples = 18\\nvalue = [15, 3]'),\n",
       " Text(197.66789667896683, 48.92400000000001, 'Fare <= 77.965\\nentropy = 0.985\\nsamples = 7\\nvalue = [4, 3]'),\n",
       " Text(195.19704797047973, 38.05199999999999, 'Age <= 49.5\\nentropy = 0.811\\nsamples = 4\\nvalue = [1, 3]'),\n",
       " Text(192.72619926199263, 27.180000000000007, 'entropy = 0.0\\nsamples = 3\\nvalue = [0, 3]'),\n",
       " Text(197.66789667896683, 27.180000000000007, 'entropy = 0.0\\nsamples = 1\\nvalue = [1, 0]'),\n",
       " Text(200.1387453874539, 38.05199999999999, 'entropy = 0.0\\nsamples = 3\\nvalue = [3, 0]'),\n",
       " Text(202.609594095941, 48.92400000000001, 'entropy = 0.0\\nsamples = 11\\nvalue = [11, 0]'),\n",
       " Text(210.02214022140222, 59.79599999999999, 'Embarked_S <= 0.5\\nentropy = 0.971\\nsamples = 10\\nvalue = [4, 6]'),\n",
       " Text(207.55129151291516, 48.92400000000001, 'Fare <= 89.552\\nentropy = 0.985\\nsamples = 7\\nvalue = [4, 3]'),\n",
       " Text(205.08044280442806, 38.05199999999999, 'entropy = 0.0\\nsamples = 1\\nvalue = [0, 1]'),\n",
       " Text(210.02214022140222, 38.05199999999999, 'Age <= 34.5\\nentropy = 0.918\\nsamples = 6\\nvalue = [4, 2]'),\n",
       " Text(207.55129151291516, 27.180000000000007, 'Parch <= 1.0\\nentropy = 0.918\\nsamples = 3\\nvalue = [1, 2]'),\n",
       " Text(205.08044280442806, 16.307999999999993, 'Fare <= 99.99\\nentropy = 1.0\\nsamples = 2\\nvalue = [1, 1]'),\n",
       " Text(202.609594095941, 5.436000000000007, 'entropy = 0.0\\nsamples = 1\\nvalue = [0, 1]'),\n",
       " Text(207.55129151291516, 5.436000000000007, 'entropy = 0.0\\nsamples = 1\\nvalue = [1, 0]'),\n",
       " Text(210.02214022140222, 16.307999999999993, 'entropy = 0.0\\nsamples = 1\\nvalue = [0, 1]'),\n",
       " Text(212.49298892988932, 27.180000000000007, 'entropy = 0.0\\nsamples = 3\\nvalue = [3, 0]'),\n",
       " Text(212.49298892988932, 48.92400000000001, 'entropy = 0.0\\nsamples = 3\\nvalue = [0, 3]'),\n",
       " Text(210.02214022140222, 70.668, 'entropy = 0.0\\nsamples = 6\\nvalue = [6, 0]'),\n",
       " Text(212.49298892988932, 81.53999999999999, 'entropy = 0.0\\nsamples = 2\\nvalue = [0, 2]'),\n",
       " Text(222.37638376383765, 146.772, 'Age <= 75.5\\nentropy = 0.575\\nsamples = 22\\nvalue = [19, 3]'),\n",
       " Text(219.90553505535058, 135.9, 'Embarked_C <= 0.5\\nentropy = 0.454\\nsamples = 21\\nvalue = [19, 2]'),\n",
       " Text(217.4346863468635, 125.02799999999999, 'entropy = 0.0\\nsamples = 13\\nvalue = [13, 0]'),\n",
       " Text(222.37638376383765, 125.02799999999999, 'SibSp <= 0.5\\nentropy = 0.811\\nsamples = 8\\nvalue = [6, 2]'),\n",
       " Text(219.90553505535058, 114.156, 'Age <= 57.0\\nentropy = 0.592\\nsamples = 7\\nvalue = [6, 1]'),\n",
       " Text(217.4346863468635, 103.28399999999999, 'Fare <= 33.098\\nentropy = 1.0\\nsamples = 2\\nvalue = [1, 1]'),\n",
       " Text(214.96383763837642, 92.412, 'entropy = 0.0\\nsamples = 1\\nvalue = [1, 0]'),\n",
       " Text(219.90553505535058, 92.412, 'entropy = 0.0\\nsamples = 1\\nvalue = [0, 1]'),\n",
       " Text(222.37638376383765, 103.28399999999999, 'entropy = 0.0\\nsamples = 5\\nvalue = [5, 0]'),\n",
       " Text(224.84723247232475, 114.156, 'entropy = 0.0\\nsamples = 1\\nvalue = [0, 1]'),\n",
       " Text(224.84723247232475, 135.9, 'entropy = 0.0\\nsamples = 1\\nvalue = [0, 1]'),\n",
       " Text(202.53238007380077, 179.388, 'Age <= 3.5\\nentropy = 0.258\\nsamples = 23\\nvalue = [22, 1]'),\n",
       " Text(200.06153136531367, 168.516, 'Age <= 2.5\\nentropy = 0.722\\nsamples = 5\\nvalue = [4, 1]'),\n",
       " Text(197.5906826568266, 157.644, 'entropy = 0.0\\nsamples = 4\\nvalue = [4, 0]'),\n",
       " Text(202.53238007380077, 157.644, 'entropy = 0.0\\nsamples = 1\\nvalue = [0, 1]'),\n",
       " Text(205.00322878228783, 168.516, 'entropy = 0.0\\nsamples = 18\\nvalue = [18, 0]'),\n",
       " Text(280.6729704797048, 201.132, 'Pclass <= 2.5\\nentropy = 0.824\\nsamples = 314\\nvalue = [81, 233]'),\n",
       " Text(245.84944649446498, 190.26, 'Fare <= 28.856\\nentropy = 0.299\\nsamples = 170\\nvalue = [9, 161]'),\n",
       " Text(240.9077490774908, 179.388, 'Fare <= 28.231\\nentropy = 0.469\\nsamples = 70\\nvalue = [7, 63]'),\n",
       " Text(238.43690036900372, 168.516, 'Age <= 23.5\\nentropy = 0.426\\nsamples = 69\\nvalue = [6, 63]'),\n",
       " Text(235.96605166051663, 157.644, 'entropy = 0.0\\nsamples = 15\\nvalue = [0, 15]'),\n",
       " Text(240.9077490774908, 157.644, 'Age <= 27.5\\nentropy = 0.503\\nsamples = 54\\nvalue = [6, 48]'),\n",
       " Text(234.73062730627308, 146.772, 'Age <= 25.5\\nentropy = 0.845\\nsamples = 11\\nvalue = [3, 8]'),\n",
       " Text(229.7889298892989, 135.9, 'Fare <= 13.75\\nentropy = 0.592\\nsamples = 7\\nvalue = [1, 6]'),\n",
       " Text(227.31808118081184, 125.02799999999999, 'entropy = 1.0\\nsamples = 2\\nvalue = [1, 1]'),\n",
       " Text(232.259778597786, 125.02799999999999, 'entropy = 0.0\\nsamples = 5\\nvalue = [0, 5]'),\n",
       " Text(239.67232472324727, 135.9, 'Fare <= 17.429\\nentropy = 1.0\\nsamples = 4\\nvalue = [2, 2]'),\n",
       " Text(237.20147601476017, 125.02799999999999, 'entropy = 0.0\\nsamples = 2\\nvalue = [0, 2]'),\n",
       " Text(242.14317343173434, 125.02799999999999, 'entropy = 0.0\\nsamples = 2\\nvalue = [2, 0]'),\n",
       " Text(247.0848708487085, 146.772, 'Age <= 37.0\\nentropy = 0.365\\nsamples = 43\\nvalue = [3, 40]'),\n",
       " Text(244.61402214022144, 135.9, 'entropy = 0.0\\nsamples = 24\\nvalue = [0, 24]'),\n",
       " Text(249.5557195571956, 135.9, 'Age <= 39.0\\nentropy = 0.629\\nsamples = 19\\nvalue = [3, 16]'),\n",
       " Text(247.0848708487085, 125.02799999999999, 'entropy = 0.0\\nsamples = 1\\nvalue = [1, 0]'),\n",
       " Text(252.0265682656827, 125.02799999999999, 'Age <= 56.0\\nentropy = 0.503\\nsamples = 18\\nvalue = [2, 16]'),\n",
       " Text(247.0848708487085, 114.156, 'SibSp <= 0.5\\nentropy = 0.337\\nsamples = 16\\nvalue = [1, 15]'),\n",
       " Text(244.61402214022144, 103.28399999999999, 'entropy = 0.0\\nsamples = 12\\nvalue = [0, 12]'),\n",
       " Text(249.5557195571956, 103.28399999999999, 'Parch <= 0.5\\nentropy = 0.811\\nsamples = 4\\nvalue = [1, 3]'),\n",
       " Text(247.0848708487085, 92.412, 'Age <= 43.0\\nentropy = 1.0\\nsamples = 2\\nvalue = [1, 1]'),\n",
       " Text(244.61402214022144, 81.53999999999999, 'entropy = 0.0\\nsamples = 1\\nvalue = [0, 1]'),\n",
       " Text(249.5557195571956, 81.53999999999999, 'entropy = 0.0\\nsamples = 1\\nvalue = [1, 0]'),\n",
       " Text(252.0265682656827, 92.412, 'entropy = 0.0\\nsamples = 2\\nvalue = [0, 2]'),\n",
       " Text(256.96826568265686, 114.156, 'Pclass <= 1.5\\nentropy = 1.0\\nsamples = 2\\nvalue = [1, 1]'),\n",
       " Text(254.49741697416977, 103.28399999999999, 'entropy = 0.0\\nsamples = 1\\nvalue = [0, 1]'),\n",
       " Text(259.43911439114396, 103.28399999999999, 'entropy = 0.0\\nsamples = 1\\nvalue = [1, 0]'),\n",
       " Text(243.3785977859779, 168.516, 'entropy = 0.0\\nsamples = 1\\nvalue = [1, 0]'),\n",
       " Text(250.79114391143915, 179.388, 'Age <= 2.5\\nentropy = 0.141\\nsamples = 100\\nvalue = [2, 98]'),\n",
       " Text(248.32029520295205, 168.516, 'entropy = 0.0\\nsamples = 1\\nvalue = [1, 0]'),\n",
       " Text(253.26199261992622, 168.516, 'Parch <= 1.5\\nentropy = 0.081\\nsamples = 99\\nvalue = [1, 98]'),\n",
       " Text(250.79114391143915, 157.644, 'entropy = 0.0\\nsamples = 84\\nvalue = [0, 84]'),\n",
       " Text(255.73284132841331, 157.644, 'Age <= 24.5\\nentropy = 0.353\\nsamples = 15\\nvalue = [1, 14]'),\n",
       " Text(253.26199261992622, 146.772, 'entropy = 0.0\\nsamples = 10\\nvalue = [0, 10]'),\n",
       " Text(258.2036900369004, 146.772, 'Age <= 28.0\\nentropy = 0.722\\nsamples = 5\\nvalue = [1, 4]'),\n",
       " Text(255.73284132841331, 135.9, 'entropy = 0.0\\nsamples = 1\\nvalue = [1, 0]'),\n",
       " Text(260.6745387453875, 135.9, 'entropy = 0.0\\nsamples = 4\\nvalue = [0, 4]'),\n",
       " Text(315.4964944649447, 190.26, 'Fare <= 23.35\\nentropy = 1.0\\nsamples = 144\\nvalue = [72, 72]'),\n",
       " Text(306.07638376383767, 179.388, 'Age <= 36.5\\nentropy = 0.977\\nsamples = 117\\nvalue = [48, 69]'),\n",
       " Text(294.6487084870849, 168.516, 'Embarked_S <= 0.5\\nentropy = 0.959\\nsamples = 110\\nvalue = [42, 68]'),\n",
       " Text(279.2059040590406, 157.644, 'Fare <= 15.621\\nentropy = 0.86\\nsamples = 53\\nvalue = [15, 38]'),\n",
       " Text(276.7350553505535, 146.772, 'Fare <= 13.935\\nentropy = 0.918\\nsamples = 45\\nvalue = [15, 30]'),\n",
       " Text(265.61623616236164, 135.9, 'Age <= 17.0\\nentropy = 0.758\\nsamples = 32\\nvalue = [7, 25]'),\n",
       " Text(263.14538745387455, 125.02799999999999, 'entropy = 0.0\\nsamples = 7\\nvalue = [0, 7]'),\n",
       " Text(268.08708487084874, 125.02799999999999, 'Fare <= 6.987\\nentropy = 0.855\\nsamples = 25\\nvalue = [7, 18]'),\n",
       " Text(265.61623616236164, 114.156, 'entropy = 0.0\\nsamples = 1\\nvalue = [1, 0]'),\n",
       " Text(270.55793357933584, 114.156, 'Parch <= 1.0\\nentropy = 0.811\\nsamples = 24\\nvalue = [6, 18]'),\n",
       " Text(268.08708487084874, 103.28399999999999, 'Fare <= 8.008\\nentropy = 0.755\\nsamples = 23\\nvalue = [5, 18]'),\n",
       " Text(265.61623616236164, 92.412, 'Age <= 29.25\\nentropy = 0.684\\nsamples = 22\\nvalue = [4, 18]'),\n",
       " Text(263.14538745387455, 81.53999999999999, 'Fare <= 7.769\\nentropy = 0.592\\nsamples = 21\\nvalue = [3, 18]'),\n",
       " Text(260.6745387453875, 70.668, 'Age <= 21.5\\nentropy = 0.722\\nsamples = 15\\nvalue = [3, 12]'),\n",
       " Text(258.2036900369004, 59.79599999999999, 'entropy = 0.0\\nsamples = 1\\nvalue = [1, 0]'),\n",
       " Text(263.14538745387455, 59.79599999999999, 'Fare <= 7.681\\nentropy = 0.592\\nsamples = 14\\nvalue = [2, 12]'),\n",
       " Text(258.2036900369004, 48.92400000000001, 'Embarked_C <= 0.5\\nentropy = 0.918\\nsamples = 3\\nvalue = [1, 2]'),\n",
       " Text(255.73284132841331, 38.05199999999999, 'entropy = 0.0\\nsamples = 1\\nvalue = [1, 0]'),\n",
       " Text(260.6745387453875, 38.05199999999999, 'entropy = 0.0\\nsamples = 2\\nvalue = [0, 2]'),\n",
       " Text(268.08708487084874, 48.92400000000001, 'Fare <= 7.744\\nentropy = 0.439\\nsamples = 11\\nvalue = [1, 10]'),\n",
       " Text(265.61623616236164, 38.05199999999999, 'entropy = 0.0\\nsamples = 2\\nvalue = [0, 2]'),\n",
       " Text(270.55793357933584, 38.05199999999999, 'Age <= 25.0\\nentropy = 0.503\\nsamples = 9\\nvalue = [1, 8]'),\n",
       " Text(268.08708487084874, 27.180000000000007, 'entropy = 0.0\\nsamples = 1\\nvalue = [0, 1]'),\n",
       " Text(273.02878228782293, 27.180000000000007, 'entropy = 0.544\\nsamples = 8\\nvalue = [1, 7]'),\n",
       " Text(265.61623616236164, 70.668, 'entropy = 0.0\\nsamples = 6\\nvalue = [0, 6]'),\n",
       " Text(268.08708487084874, 81.53999999999999, 'entropy = 0.0\\nsamples = 1\\nvalue = [1, 0]'),\n",
       " Text(270.55793357933584, 92.412, 'entropy = 0.0\\nsamples = 1\\nvalue = [1, 0]'),\n",
       " Text(273.02878228782293, 103.28399999999999, 'entropy = 0.0\\nsamples = 1\\nvalue = [1, 0]'),\n",
       " Text(287.8538745387454, 135.9, 'Fare <= 15.373\\nentropy = 0.961\\nsamples = 13\\nvalue = [8, 5]'),\n",
       " Text(282.91217712177126, 125.02799999999999, 'Age <= 28.5\\nentropy = 0.764\\nsamples = 9\\nvalue = [7, 2]'),\n",
       " Text(280.44132841328417, 114.156, 'Age <= 16.0\\nentropy = 0.544\\nsamples = 8\\nvalue = [7, 1]'),\n",
       " Text(277.97047970479707, 103.28399999999999, 'Age <= 14.75\\nentropy = 0.918\\nsamples = 3\\nvalue = [2, 1]'),\n",
       " Text(275.49963099631, 92.412, 'entropy = 0.0\\nsamples = 2\\nvalue = [2, 0]'),\n",
       " Text(280.44132841328417, 92.412, 'entropy = 0.0\\nsamples = 1\\nvalue = [0, 1]'),\n",
       " Text(282.91217712177126, 103.28399999999999, 'entropy = 0.0\\nsamples = 5\\nvalue = [5, 0]'),\n",
       " Text(285.38302583025836, 114.156, 'entropy = 0.0\\nsamples = 1\\nvalue = [0, 1]'),\n",
       " Text(292.7955719557196, 125.02799999999999, 'Age <= 30.0\\nentropy = 0.811\\nsamples = 4\\nvalue = [1, 3]'),\n",
       " Text(290.3247232472325, 114.156, 'entropy = 0.0\\nsamples = 3\\nvalue = [0, 3]'),\n",
       " Text(295.2664206642067, 114.156, 'entropy = 0.0\\nsamples = 1\\nvalue = [1, 0]'),\n",
       " Text(281.6767527675277, 146.772, 'entropy = 0.0\\nsamples = 8\\nvalue = [0, 8]'),\n",
       " Text(310.0915129151292, 157.644, 'Age <= 32.0\\nentropy = 0.998\\nsamples = 57\\nvalue = [27, 30]'),\n",
       " Text(307.6206642066421, 146.772, 'Fare <= 7.763\\nentropy = 1.0\\nsamples = 54\\nvalue = [27, 27]'),\n",
       " Text(300.2081180811808, 135.9, 'Age <= 25.5\\nentropy = 0.65\\nsamples = 6\\nvalue = [1, 5]'),\n",
       " Text(297.7372693726938, 125.02799999999999, 'entropy = 0.0\\nsamples = 5\\nvalue = [0, 5]'),\n",
       " Text(302.6789667896679, 125.02799999999999, 'entropy = 0.0\\nsamples = 1\\nvalue = [1, 0]'),\n",
       " Text(315.03321033210335, 135.9, 'Fare <= 10.825\\nentropy = 0.995\\nsamples = 48\\nvalue = [26, 22]'),\n",
       " Text(307.6206642066421, 125.02799999999999, 'Fare <= 10.152\\nentropy = 0.918\\nsamples = 27\\nvalue = [18, 9]'),\n",
       " Text(305.149815498155, 114.156, 'Parch <= 0.5\\nentropy = 0.954\\nsamples = 24\\nvalue = [15, 9]'),\n",
       " Text(302.6789667896679, 103.28399999999999, 'Fare <= 9.84\\nentropy = 0.902\\nsamples = 22\\nvalue = [15, 7]'),\n",
       " Text(300.2081180811808, 92.412, 'Fare <= 8.767\\nentropy = 0.863\\nsamples = 21\\nvalue = [15, 6]'),\n",
       " Text(297.7372693726938, 81.53999999999999, 'Fare <= 8.673\\nentropy = 0.937\\nsamples = 17\\nvalue = [11, 6]'),\n",
       " Text(295.2664206642067, 70.668, 'Age <= 27.5\\nentropy = 0.896\\nsamples = 16\\nvalue = [11, 5]'),\n",
       " Text(292.7955719557196, 59.79599999999999, 'Age <= 25.5\\nentropy = 0.994\\nsamples = 11\\nvalue = [6, 5]'),\n",
       " Text(290.3247232472325, 48.92400000000001, 'Fare <= 7.89\\nentropy = 0.811\\nsamples = 8\\nvalue = [6, 2]'),\n",
       " Text(287.8538745387454, 38.05199999999999, 'Age <= 18.5\\nentropy = 0.971\\nsamples = 5\\nvalue = [3, 2]'),\n",
       " Text(285.38302583025836, 27.180000000000007, 'entropy = 0.0\\nsamples = 2\\nvalue = [2, 0]'),\n",
       " Text(290.3247232472325, 27.180000000000007, 'Age <= 23.5\\nentropy = 0.918\\nsamples = 3\\nvalue = [1, 2]'),\n",
       " Text(287.8538745387454, 16.307999999999993, 'entropy = 0.0\\nsamples = 2\\nvalue = [0, 2]'),\n",
       " Text(292.7955719557196, 16.307999999999993, 'entropy = 0.0\\nsamples = 1\\nvalue = [1, 0]'),\n",
       " Text(292.7955719557196, 38.05199999999999, 'entropy = 0.0\\nsamples = 3\\nvalue = [3, 0]'),\n",
       " Text(295.2664206642067, 48.92400000000001, 'entropy = 0.0\\nsamples = 3\\nvalue = [0, 3]'),\n",
       " Text(297.7372693726938, 59.79599999999999, 'entropy = 0.0\\nsamples = 5\\nvalue = [5, 0]'),\n",
       " Text(300.2081180811808, 70.668, 'entropy = 0.0\\nsamples = 1\\nvalue = [0, 1]'),\n",
       " Text(302.6789667896679, 81.53999999999999, 'entropy = 0.0\\nsamples = 4\\nvalue = [4, 0]'),\n",
       " Text(305.149815498155, 92.412, 'entropy = 0.0\\nsamples = 1\\nvalue = [0, 1]'),\n",
       " Text(307.6206642066421, 103.28399999999999, 'entropy = 0.0\\nsamples = 2\\nvalue = [0, 2]'),\n",
       " Text(310.0915129151292, 114.156, 'entropy = 0.0\\nsamples = 3\\nvalue = [3, 0]'),\n",
       " Text(322.4457564575646, 125.02799999999999, 'Fare <= 17.25\\nentropy = 0.959\\nsamples = 21\\nvalue = [8, 13]'),\n",
       " Text(315.03321033210335, 114.156, 'Fare <= 13.438\\nentropy = 0.619\\nsamples = 13\\nvalue = [2, 11]'),\n",
       " Text(312.56236162361625, 103.28399999999999, 'entropy = 0.0\\nsamples = 6\\nvalue = [0, 6]'),\n",
       " Text(317.50405904059045, 103.28399999999999, 'Fare <= 15.125\\nentropy = 0.863\\nsamples = 7\\nvalue = [2, 5]'),\n",
       " Text(315.03321033210335, 92.412, 'entropy = 0.0\\nsamples = 1\\nvalue = [1, 0]'),\n",
       " Text(319.97490774907754, 92.412, 'Age <= 25.0\\nentropy = 0.65\\nsamples = 6\\nvalue = [1, 5]'),\n",
       " Text(317.50405904059045, 81.53999999999999, 'entropy = 0.0\\nsamples = 3\\nvalue = [0, 3]'),\n",
       " Text(322.4457564575646, 81.53999999999999, 'Age <= 27.0\\nentropy = 0.918\\nsamples = 3\\nvalue = [1, 2]'),\n",
       " Text(319.97490774907754, 70.668, 'entropy = 0.0\\nsamples = 1\\nvalue = [1, 0]'),\n",
       " Text(324.9166051660517, 70.668, 'entropy = 0.0\\nsamples = 2\\nvalue = [0, 2]'),\n",
       " Text(329.8583025830259, 114.156, 'Fare <= 21.55\\nentropy = 0.811\\nsamples = 8\\nvalue = [6, 2]'),\n",
       " Text(327.3874538745388, 103.28399999999999, 'Age <= 30.0\\nentropy = 0.592\\nsamples = 7\\nvalue = [6, 1]'),\n",
       " Text(324.9166051660517, 92.412, 'entropy = 0.0\\nsamples = 5\\nvalue = [5, 0]'),\n",
       " Text(329.8583025830259, 92.412, 'Fare <= 19.262\\nentropy = 1.0\\nsamples = 2\\nvalue = [1, 1]'),\n",
       " Text(327.3874538745388, 81.53999999999999, 'entropy = 0.0\\nsamples = 1\\nvalue = [1, 0]'),\n",
       " Text(332.32915129151297, 81.53999999999999, 'entropy = 0.0\\nsamples = 1\\nvalue = [0, 1]'),\n",
       " Text(332.32915129151297, 103.28399999999999, 'entropy = 0.0\\nsamples = 1\\nvalue = [0, 1]'),\n",
       " Text(312.56236162361625, 146.772, 'entropy = 0.0\\nsamples = 3\\nvalue = [0, 3]'),\n",
       " Text(317.50405904059045, 168.516, 'Age <= 55.0\\nentropy = 0.592\\nsamples = 7\\nvalue = [6, 1]'),\n",
       " Text(315.03321033210335, 157.644, 'entropy = 0.0\\nsamples = 6\\nvalue = [6, 0]'),\n",
       " Text(319.97490774907754, 157.644, 'entropy = 0.0\\nsamples = 1\\nvalue = [0, 1]'),\n",
       " Text(324.9166051660517, 179.388, 'Parch <= 0.5\\nentropy = 0.503\\nsamples = 27\\nvalue = [24, 3]'),\n",
       " Text(322.4457564575646, 168.516, 'entropy = 0.0\\nsamples = 1\\nvalue = [0, 1]'),\n",
       " Text(327.3874538745388, 168.516, 'Fare <= 31.331\\nentropy = 0.391\\nsamples = 26\\nvalue = [24, 2]'),\n",
       " Text(324.9166051660517, 157.644, 'entropy = 0.0\\nsamples = 15\\nvalue = [15, 0]'),\n",
       " Text(329.8583025830259, 157.644, 'Fare <= 32.881\\nentropy = 0.684\\nsamples = 11\\nvalue = [9, 2]'),\n",
       " Text(327.3874538745388, 146.772, 'entropy = 0.0\\nsamples = 2\\nvalue = [0, 2]'),\n",
       " Text(332.32915129151297, 146.772, 'entropy = 0.0\\nsamples = 9\\nvalue = [9, 0]')]"
      ]
     },
     "execution_count": 20,
     "metadata": {},
     "output_type": "execute_result"
    },
    {
     "data": {
      "image/png": "[encoded data removed]",
      "text/plain": [
       "<Figure size 432x288 with 1 Axes>"
      ]
     },
     "metadata": {
      "needs_background": "light"
     },
     "output_type": "display_data"
    }
   ],
   "source": [
    "tree.plot_tree(clf.fit(X,y),  feature_names=X.columns)"
   ]
  },
  {
   "cell_type": "code",
   "execution_count": 21,
   "id": "f9ccc38f-72ca-4017-86c7-0d369ac2750e",
   "metadata": {},
   "outputs": [],
   "source": [
    "from sklearn.model_selection import train_test_split\n",
    "\n",
    "X_train, X_test, y_train, y_test = train_test_split(X, y, test_size = 0.33, random_state = 42)"
   ]
  },
  {
   "cell_type": "code",
   "execution_count": 22,
   "id": "c1d3b974-539b-4050-84b7-0139658be66e",
   "metadata": {},
   "outputs": [
    {
     "data": {
      "text/plain": [
       "(596, 10)"
      ]
     },
     "execution_count": 22,
     "metadata": {},
     "output_type": "execute_result"
    }
   ],
   "source": [
    "X_train.shape"
   ]
  },
  {
   "cell_type": "code",
   "execution_count": 23,
   "id": "5f8a0e12-878d-4072-9864-de6a33828a27",
   "metadata": {},
   "outputs": [
    {
     "data": {
      "text/plain": [
       "(295, 10)"
      ]
     },
     "execution_count": 23,
     "metadata": {},
     "output_type": "execute_result"
    }
   ],
   "source": [
    "X_test.shape"
   ]
  },
  {
   "cell_type": "code",
   "execution_count": 24,
   "id": "76e94ebf-9f64-4936-b731-af55a077579a",
   "metadata": {},
   "outputs": [
    {
     "data": {
      "text/plain": [
       "0.9797979797979798"
      ]
     },
     "execution_count": 24,
     "metadata": {},
     "output_type": "execute_result"
    }
   ],
   "source": [
    "clf.score(X,y)"
   ]
  },
  {
   "cell_type": "code",
   "execution_count": 25,
   "id": "4ca843de-2205-40af-9834-626da6cfdb52",
   "metadata": {},
   "outputs": [],
   "source": [
    "clf = tree.DecisionTreeClassifier(criterion='entropy', max_depth=3)"
   ]
  },
  {
   "cell_type": "code",
   "execution_count": 26,
   "id": "ca38559d-1012-4d5f-a348-113b1529ffac",
   "metadata": {},
   "outputs": [
    {
     "data": {
      "text/plain": [
       "DecisionTreeClassifier(criterion='entropy', max_depth=3)"
      ]
     },
     "execution_count": 26,
     "metadata": {},
     "output_type": "execute_result"
    }
   ],
   "source": [
    "clf.fit(X_train, y_train)"
   ]
  },
  {
   "cell_type": "code",
   "execution_count": 27,
   "id": "a7e6012d-2ca0-4c9a-ae21-5ba71d37d879",
   "metadata": {},
   "outputs": [
    {
     "data": {
      "text/plain": [
       "0.8238255033557047"
      ]
     },
     "execution_count": 27,
     "metadata": {},
     "output_type": "execute_result"
    }
   ],
   "source": [
    "clf.score(X_train, y_train)"
   ]
  },
  {
   "cell_type": "code",
   "execution_count": 28,
   "id": "c49260db-4e2e-4cc9-8bb0-2e89ef967af5",
   "metadata": {},
   "outputs": [
    {
     "data": {
      "text/plain": [
       "0.8203389830508474"
      ]
     },
     "execution_count": 28,
     "metadata": {},
     "output_type": "execute_result"
    }
   ],
   "source": [
    "clf.score(X_test, y_test)"
   ]
  },
  {
   "cell_type": "code",
   "execution_count": 29,
   "id": "ace79ce0-57ae-459d-94af-60d6a3da4b25",
   "metadata": {},
   "outputs": [],
   "source": [
    "max_depth_values = range(1, 100)"
   ]
  },
  {
   "cell_type": "code",
   "execution_count": 30,
   "id": "124170ea-d348-4da3-a1b4-37488bd7bf59",
   "metadata": {},
   "outputs": [],
   "source": [
    "scores_date = pd.DataFrame()"
   ]
  },
  {
   "cell_type": "code",
   "execution_count": 32,
   "id": "d8ae1ac9-a88d-468b-b202-a1cf25dd5f7c",
   "metadata": {},
   "outputs": [],
   "source": [
    "from sklearn.model_selection import cross_val_score"
   ]
  },
  {
   "cell_type": "code",
   "execution_count": 33,
   "id": "086b0266-787c-477a-8e16-83ed36c8b55d",
   "metadata": {},
   "outputs": [
    {
     "data": {
      "text/html": [
       "<div>\n",
       "<style scoped>\n",
       "    .dataframe tbody tr th:only-of-type {\n",
       "        vertical-align: middle;\n",
       "    }\n",
       "\n",
       "    .dataframe tbody tr th {\n",
       "        vertical-align: top;\n",
       "    }\n",
       "\n",
       "    .dataframe thead th {\n",
       "        text-align: right;\n",
       "    }\n",
       "</style>\n",
       "<table border=\"1\" class=\"dataframe\">\n",
       "  <thead>\n",
       "    <tr style=\"text-align: right;\">\n",
       "      <th></th>\n",
       "      <th>max_depth</th>\n",
       "      <th>train_score</th>\n",
       "      <th>test_score</th>\n",
       "      <th>cross_val_score</th>\n",
       "    </tr>\n",
       "  </thead>\n",
       "  <tbody>\n",
       "    <tr>\n",
       "      <th>0</th>\n",
       "      <td>1</td>\n",
       "      <td>0.781879</td>\n",
       "      <td>0.796610</td>\n",
       "      <td>0.781961</td>\n",
       "    </tr>\n",
       "    <tr>\n",
       "      <th>0</th>\n",
       "      <td>2</td>\n",
       "      <td>0.805369</td>\n",
       "      <td>0.776271</td>\n",
       "      <td>0.770196</td>\n",
       "    </tr>\n",
       "    <tr>\n",
       "      <th>0</th>\n",
       "      <td>3</td>\n",
       "      <td>0.823826</td>\n",
       "      <td>0.820339</td>\n",
       "      <td>0.790322</td>\n",
       "    </tr>\n",
       "    <tr>\n",
       "      <th>0</th>\n",
       "      <td>4</td>\n",
       "      <td>0.833893</td>\n",
       "      <td>0.823729</td>\n",
       "      <td>0.788627</td>\n",
       "    </tr>\n",
       "    <tr>\n",
       "      <th>0</th>\n",
       "      <td>5</td>\n",
       "      <td>0.840604</td>\n",
       "      <td>0.806780</td>\n",
       "      <td>0.800392</td>\n",
       "    </tr>\n",
       "  </tbody>\n",
       "</table>\n",
       "</div>"
      ],
      "text/plain": [
       "   max_depth  train_score  test_score  cross_val_score\n",
       "0          1     0.781879    0.796610         0.781961\n",
       "0          2     0.805369    0.776271         0.770196\n",
       "0          3     0.823826    0.820339         0.790322\n",
       "0          4     0.833893    0.823729         0.788627\n",
       "0          5     0.840604    0.806780         0.800392"
      ]
     },
     "execution_count": 33,
     "metadata": {},
     "output_type": "execute_result"
    }
   ],
   "source": [
    "for max_depth in max_depth_values:\n",
    "    clf = tree.DecisionTreeClassifier(criterion='entropy', max_depth=max_depth)\n",
    "    clf.fit(X_train, y_train)\n",
    "    train_score = clf.score(X_train, y_train)\n",
    "    test_score = clf.score(X_test, y_test)\n",
    "    mean_cross_val_score = cross_val_score(clf, X_train, y_train, cv=5).mean()\n",
    "    temp_score_date = pd.DataFrame({'max_depth': [max_depth], 'train_score': [train_score], 'test_score': [test_score], 'cross_val_score': mean_cross_val_score})\n",
    "    scores_date = scores_date.append(temp_score_date)\n",
    "scores_date.head()"
   ]
  },
  {
   "cell_type": "code",
   "execution_count": 36,
   "id": "d735c64c-354a-498d-995b-e7b490c5355b",
   "metadata": {},
   "outputs": [
    {
     "data": {
      "text/html": [
       "<div>\n",
       "<style scoped>\n",
       "    .dataframe tbody tr th:only-of-type {\n",
       "        vertical-align: middle;\n",
       "    }\n",
       "\n",
       "    .dataframe tbody tr th {\n",
       "        vertical-align: top;\n",
       "    }\n",
       "\n",
       "    .dataframe thead th {\n",
       "        text-align: right;\n",
       "    }\n",
       "</style>\n",
       "<table border=\"1\" class=\"dataframe\">\n",
       "  <thead>\n",
       "    <tr style=\"text-align: right;\">\n",
       "      <th></th>\n",
       "      <th>max_depth</th>\n",
       "      <th>set_type</th>\n",
       "      <th>score</th>\n",
       "    </tr>\n",
       "  </thead>\n",
       "  <tbody>\n",
       "    <tr>\n",
       "      <th>0</th>\n",
       "      <td>1</td>\n",
       "      <td>train_score</td>\n",
       "      <td>0.781879</td>\n",
       "    </tr>\n",
       "    <tr>\n",
       "      <th>1</th>\n",
       "      <td>2</td>\n",
       "      <td>train_score</td>\n",
       "      <td>0.805369</td>\n",
       "    </tr>\n",
       "    <tr>\n",
       "      <th>2</th>\n",
       "      <td>3</td>\n",
       "      <td>train_score</td>\n",
       "      <td>0.823826</td>\n",
       "    </tr>\n",
       "    <tr>\n",
       "      <th>3</th>\n",
       "      <td>4</td>\n",
       "      <td>train_score</td>\n",
       "      <td>0.833893</td>\n",
       "    </tr>\n",
       "    <tr>\n",
       "      <th>4</th>\n",
       "      <td>5</td>\n",
       "      <td>train_score</td>\n",
       "      <td>0.840604</td>\n",
       "    </tr>\n",
       "  </tbody>\n",
       "</table>\n",
       "</div>"
      ],
      "text/plain": [
       "   max_depth     set_type     score\n",
       "0          1  train_score  0.781879\n",
       "1          2  train_score  0.805369\n",
       "2          3  train_score  0.823826\n",
       "3          4  train_score  0.833893\n",
       "4          5  train_score  0.840604"
      ]
     },
     "execution_count": 36,
     "metadata": {},
     "output_type": "execute_result"
    }
   ],
   "source": [
    "scores_date_long = pd.melt(scores_date, id_vars=['max_depth'], value_vars=['train_score', 'test_score', 'cross_val_score'], var_name='set_type', value_name='score')\n",
    "scores_date_long.head()"
   ]
  },
  {
   "cell_type": "code",
   "execution_count": 37,
   "id": "cb63aded-4906-433d-9fa9-c44344248de6",
   "metadata": {},
   "outputs": [
    {
     "data": {
      "text/plain": [
       "<AxesSubplot:xlabel='max_depth', ylabel='score'>"
      ]
     },
     "execution_count": 37,
     "metadata": {},
     "output_type": "execute_result"
    },
    {
     "data": {
      "image/png": "[encoded data removed]",
      "text/plain": [
       "<Figure size 432x288 with 1 Axes>"
      ]
     },
     "metadata": {
      "needs_background": "light"
     },
     "output_type": "display_data"
    }
   ],
   "source": [
    "sns.lineplot(x='max_depth', y='score', hue='set_type', data=scores_date_long)"
   ]
  },
  {
   "cell_type": "code",
   "execution_count": 40,
   "id": "6b990d5a-253d-4607-84a3-8ba3d2c668ff",
   "metadata": {},
   "outputs": [
    {
     "data": {
      "text/html": [
       "<div>\n",
       "<style scoped>\n",
       "    .dataframe tbody tr th:only-of-type {\n",
       "        vertical-align: middle;\n",
       "    }\n",
       "\n",
       "    .dataframe tbody tr th {\n",
       "        vertical-align: top;\n",
       "    }\n",
       "\n",
       "    .dataframe thead th {\n",
       "        text-align: right;\n",
       "    }\n",
       "</style>\n",
       "<table border=\"1\" class=\"dataframe\">\n",
       "  <thead>\n",
       "    <tr style=\"text-align: right;\">\n",
       "      <th></th>\n",
       "      <th>max_depth</th>\n",
       "      <th>set_type</th>\n",
       "      <th>score</th>\n",
       "    </tr>\n",
       "  </thead>\n",
       "  <tbody>\n",
       "    <tr>\n",
       "      <th>198</th>\n",
       "      <td>1</td>\n",
       "      <td>cross_val_score</td>\n",
       "      <td>0.781961</td>\n",
       "    </tr>\n",
       "    <tr>\n",
       "      <th>199</th>\n",
       "      <td>2</td>\n",
       "      <td>cross_val_score</td>\n",
       "      <td>0.770196</td>\n",
       "    </tr>\n",
       "    <tr>\n",
       "      <th>200</th>\n",
       "      <td>3</td>\n",
       "      <td>cross_val_score</td>\n",
       "      <td>0.790322</td>\n",
       "    </tr>\n",
       "    <tr>\n",
       "      <th>201</th>\n",
       "      <td>4</td>\n",
       "      <td>cross_val_score</td>\n",
       "      <td>0.788627</td>\n",
       "    </tr>\n",
       "    <tr>\n",
       "      <th>202</th>\n",
       "      <td>5</td>\n",
       "      <td>cross_val_score</td>\n",
       "      <td>0.800392</td>\n",
       "    </tr>\n",
       "    <tr>\n",
       "      <th>203</th>\n",
       "      <td>6</td>\n",
       "      <td>cross_val_score</td>\n",
       "      <td>0.805434</td>\n",
       "    </tr>\n",
       "    <tr>\n",
       "      <th>204</th>\n",
       "      <td>7</td>\n",
       "      <td>cross_val_score</td>\n",
       "      <td>0.797017</td>\n",
       "    </tr>\n",
       "    <tr>\n",
       "      <th>205</th>\n",
       "      <td>8</td>\n",
       "      <td>cross_val_score</td>\n",
       "      <td>0.800364</td>\n",
       "    </tr>\n",
       "    <tr>\n",
       "      <th>206</th>\n",
       "      <td>9</td>\n",
       "      <td>cross_val_score</td>\n",
       "      <td>0.796989</td>\n",
       "    </tr>\n",
       "    <tr>\n",
       "      <th>207</th>\n",
       "      <td>10</td>\n",
       "      <td>cross_val_score</td>\n",
       "      <td>0.796989</td>\n",
       "    </tr>\n",
       "    <tr>\n",
       "      <th>208</th>\n",
       "      <td>11</td>\n",
       "      <td>cross_val_score</td>\n",
       "      <td>0.803711</td>\n",
       "    </tr>\n",
       "    <tr>\n",
       "      <th>209</th>\n",
       "      <td>12</td>\n",
       "      <td>cross_val_score</td>\n",
       "      <td>0.798697</td>\n",
       "    </tr>\n",
       "    <tr>\n",
       "      <th>210</th>\n",
       "      <td>13</td>\n",
       "      <td>cross_val_score</td>\n",
       "      <td>0.807073</td>\n",
       "    </tr>\n",
       "    <tr>\n",
       "      <th>211</th>\n",
       "      <td>14</td>\n",
       "      <td>cross_val_score</td>\n",
       "      <td>0.805392</td>\n",
       "    </tr>\n",
       "    <tr>\n",
       "      <th>212</th>\n",
       "      <td>15</td>\n",
       "      <td>cross_val_score</td>\n",
       "      <td>0.780238</td>\n",
       "    </tr>\n",
       "    <tr>\n",
       "      <th>213</th>\n",
       "      <td>16</td>\n",
       "      <td>cross_val_score</td>\n",
       "      <td>0.781933</td>\n",
       "    </tr>\n",
       "    <tr>\n",
       "      <th>214</th>\n",
       "      <td>17</td>\n",
       "      <td>cross_val_score</td>\n",
       "      <td>0.781919</td>\n",
       "    </tr>\n",
       "    <tr>\n",
       "      <th>215</th>\n",
       "      <td>18</td>\n",
       "      <td>cross_val_score</td>\n",
       "      <td>0.776891</td>\n",
       "    </tr>\n",
       "    <tr>\n",
       "      <th>216</th>\n",
       "      <td>19</td>\n",
       "      <td>cross_val_score</td>\n",
       "      <td>0.775196</td>\n",
       "    </tr>\n",
       "    <tr>\n",
       "      <th>217</th>\n",
       "      <td>20</td>\n",
       "      <td>cross_val_score</td>\n",
       "      <td>0.768501</td>\n",
       "    </tr>\n",
       "  </tbody>\n",
       "</table>\n",
       "</div>"
      ],
      "text/plain": [
       "     max_depth         set_type     score\n",
       "198          1  cross_val_score  0.781961\n",
       "199          2  cross_val_score  0.770196\n",
       "200          3  cross_val_score  0.790322\n",
       "201          4  cross_val_score  0.788627\n",
       "202          5  cross_val_score  0.800392\n",
       "203          6  cross_val_score  0.805434\n",
       "204          7  cross_val_score  0.797017\n",
       "205          8  cross_val_score  0.800364\n",
       "206          9  cross_val_score  0.796989\n",
       "207         10  cross_val_score  0.796989\n",
       "208         11  cross_val_score  0.803711\n",
       "209         12  cross_val_score  0.798697\n",
       "210         13  cross_val_score  0.807073\n",
       "211         14  cross_val_score  0.805392\n",
       "212         15  cross_val_score  0.780238\n",
       "213         16  cross_val_score  0.781933\n",
       "214         17  cross_val_score  0.781919\n",
       "215         18  cross_val_score  0.776891\n",
       "216         19  cross_val_score  0.775196\n",
       "217         20  cross_val_score  0.768501"
      ]
     },
     "execution_count": 40,
     "metadata": {},
     "output_type": "execute_result"
    }
   ],
   "source": [
    "scores_date_long.query(\"set_type == 'cross_val_score' \").head(20)"
   ]
  },
  {
   "cell_type": "code",
   "execution_count": 41,
   "id": "1e893e59-0f81-463b-8e7b-933b335589fc",
   "metadata": {},
   "outputs": [],
   "source": [
    "best_clf = tree.DecisionTreeClassifier(criterion='entropy', max_depth=11)"
   ]
  },
  {
   "cell_type": "code",
   "execution_count": 42,
   "id": "6c9dbb33-02e3-4b0d-b9ec-178bf62030e2",
   "metadata": {},
   "outputs": [
    {
     "data": {
      "text/plain": [
       "0.7830508474576272"
      ]
     },
     "execution_count": 42,
     "metadata": {},
     "output_type": "execute_result"
    }
   ],
   "source": [
    "cross_val_score(clf, X_test, y_test, cv=5).mean()"
   ]
  },
  {
   "cell_type": "code",
   "execution_count": null,
   "id": "a0e2f1d4-6cd5-408b-943c-da01f96fc827",
   "metadata": {},
   "outputs": [],
   "source": [
    "X_test"
   ]
  },
  {
   "cell_type": "code",
   "execution_count": 45,
   "id": "d2f6b28a-25f1-48b6-a476-a4ddcfd12de5",
   "metadata": {},
   "outputs": [],
   "source": [
    "from sklearn.model_selection import GridSearchCV"
   ]
  },
  {
   "cell_type": "code",
   "execution_count": 48,
   "id": "1fb81f6a-20b6-4648-8eeb-afe6e9f3d4b3",
   "metadata": {},
   "outputs": [],
   "source": [
    "clf = tree.DecisionTreeClassifier()"
   ]
  },
  {
   "cell_type": "code",
   "execution_count": 49,
   "id": "fd5b7674-35e5-48db-87a8-17474f499d7a",
   "metadata": {},
   "outputs": [],
   "source": [
    "parameters = {'criterion': ['gini', 'entropy'], 'max_depth': range(1, 30)}"
   ]
  },
  {
   "cell_type": "code",
   "execution_count": 50,
   "id": "d48a1db6-1947-4c94-b9c6-897f15fdee07",
   "metadata": {},
   "outputs": [],
   "source": [
    "grid_search_cv_clf = GridSearchCV(clf, parameters, cv=5)"
   ]
  },
  {
   "cell_type": "code",
   "execution_count": 51,
   "id": "a04bd49a-51af-41e2-b1ad-dd99db7e7dbd",
   "metadata": {},
   "outputs": [
    {
     "data": {
      "text/plain": [
       "GridSearchCV(cv=5, estimator=DecisionTreeClassifier(),\n",
       "             param_grid={'criterion': ['gini', 'entropy'],\n",
       "                         'max_depth': range(1, 30)})"
      ]
     },
     "execution_count": 51,
     "metadata": {},
     "output_type": "execute_result"
    }
   ],
   "source": [
    "grid_search_cv_clf.fit(X_train, y_train)"
   ]
  },
  {
   "cell_type": "code",
   "execution_count": 52,
   "id": "b4c4ae65-a130-48b0-8206-843a3fa3dbd1",
   "metadata": {},
   "outputs": [
    {
     "data": {
      "text/plain": [
       "{'criterion': 'entropy', 'max_depth': 11}"
      ]
     },
     "execution_count": 52,
     "metadata": {},
     "output_type": "execute_result"
    }
   ],
   "source": [
    "grid_search_cv_clf.best_params_"
   ]
  },
  {
   "cell_type": "code",
   "execution_count": 53,
   "id": "2bd1eb97-e312-4336-8fcb-2d2eee422bbf",
   "metadata": {},
   "outputs": [],
   "source": [
    "best_clf = grid_search_cv_clf.best_estimator_"
   ]
  },
  {
   "cell_type": "code",
   "execution_count": 54,
   "id": "9e0d0344-11a1-46f9-95d0-2647a11195f1",
   "metadata": {},
   "outputs": [
    {
     "data": {
      "text/plain": [
       "0.7694915254237288"
      ]
     },
     "execution_count": 54,
     "metadata": {},
     "output_type": "execute_result"
    }
   ],
   "source": [
    "best_clf.score(X_test, y_test)"
   ]
  },
  {
   "cell_type": "code",
   "execution_count": 55,
   "id": "e378e1d9-b90d-46b5-99ca-8575607c5f80",
   "metadata": {},
   "outputs": [],
   "source": [
    "y_pred = best_clf.predict(X_test)"
   ]
  },
  {
   "cell_type": "code",
   "execution_count": 57,
   "id": "7e9c1a3a-09ca-41b6-8ebf-344a385d820e",
   "metadata": {},
   "outputs": [],
   "source": [
    "from sklearn.metrics import precision_score, recall_score"
   ]
  },
  {
   "cell_type": "code",
   "execution_count": 60,
   "id": "5bec772e-8a37-4559-8acb-e1f8c6c9186b",
   "metadata": {},
   "outputs": [
    {
     "data": {
      "text/plain": [
       "0.7452830188679245"
      ]
     },
     "execution_count": 60,
     "metadata": {},
     "output_type": "execute_result"
    }
   ],
   "source": [
    "precision_score(y_test, y_pred)"
   ]
  },
  {
   "cell_type": "code",
   "execution_count": 61,
   "id": "65cca981-1968-416c-94a1-db57f57b3757",
   "metadata": {},
   "outputs": [
    {
     "data": {
      "text/plain": [
       "0.6583333333333333"
      ]
     },
     "execution_count": 61,
     "metadata": {},
     "output_type": "execute_result"
    }
   ],
   "source": [
    "recall_score(y_test, y_pred)"
   ]
  },
  {
   "cell_type": "code",
   "execution_count": 62,
   "id": "8e5b67e2-da29-4c0f-8cc6-8fc919b4ec71",
   "metadata": {},
   "outputs": [],
   "source": [
    "y_predicted_prob = best_clf.predict_proba(X_test)"
   ]
  },
  {
   "cell_type": "code",
   "execution_count": 63,
   "id": "4aef1bb2-bc21-4092-9662-bd1888d490e3",
   "metadata": {},
   "outputs": [
    {
     "data": {
      "text/plain": [
       "array([0.57142857, 0.        , 0.13793103, 1.        , 1.        ,\n",
       "       0.        , 0.85714286, 0.13793103, 0.        , 1.        ,\n",
       "       0.        , 0.        , 0.        , 0.08333333, 0.27272727,\n",
       "       1.        , 0.        , 0.28571429, 0.03488372, 0.        ,\n",
       "       0.03488372, 0.5       , 0.28571429, 0.13793103, 0.03488372,\n",
       "       0.        , 0.5       , 0.        , 0.        , 1.        ,\n",
       "       0.13793103, 1.        , 0.22222222, 1.        , 0.13793103,\n",
       "       0.57142857, 0.22222222, 0.85714286, 1.        , 0.03488372,\n",
       "       0.        , 1.        , 0.03488372, 0.1627907 , 0.        ,\n",
       "       0.13793103, 0.13793103, 0.03488372, 0.1627907 , 0.        ,\n",
       "       1.        , 1.        , 0.        , 1.        , 0.        ,\n",
       "       1.        , 0.        , 0.        , 1.        , 0.28571429,\n",
       "       0.1627907 , 1.        , 1.        , 0.        , 0.1627907 ,\n",
       "       1.        , 0.        , 0.03488372, 0.33333333, 1.        ,\n",
       "       0.        , 1.        , 1.        , 1.        , 0.03488372,\n",
       "       0.        , 0.85714286, 1.        , 1.        , 0.        ,\n",
       "       0.        , 1.        , 1.        , 0.1627907 , 0.5       ,\n",
       "       0.        , 1.        , 1.        , 0.        , 0.1627907 ,\n",
       "       1.        , 0.        , 0.        , 0.1627907 , 0.03488372,\n",
       "       0.03488372, 0.        , 0.        , 1.        , 0.03488372,\n",
       "       0.        , 0.        , 1.        , 0.        , 0.03488372,\n",
       "       0.1627907 , 1.        , 0.        , 0.03488372, 0.5       ,\n",
       "       1.        , 0.1627907 , 1.        , 1.        , 0.        ,\n",
       "       0.13793103, 0.        , 0.27272727, 1.        , 0.        ,\n",
       "       0.03488372, 1.        , 1.        , 1.        , 0.1627907 ,\n",
       "       0.5       , 1.        , 1.        , 0.        , 0.03488372,\n",
       "       0.28571429, 0.57142857, 0.1627907 , 1.        , 1.        ,\n",
       "       0.        , 1.        , 1.        , 0.        , 0.        ,\n",
       "       0.03488372, 1.        , 0.03488372, 0.        , 0.        ,\n",
       "       1.        , 0.03488372, 0.27272727, 1.        , 0.        ,\n",
       "       0.57142857, 0.1627907 , 0.1627907 , 0.        , 0.03488372,\n",
       "       0.1627907 , 0.33333333, 0.28571429, 1.        , 1.        ,\n",
       "       0.33333333, 0.22222222, 0.27272727, 1.        , 0.03488372,\n",
       "       1.        , 0.03488372, 1.        , 0.03488372, 0.        ,\n",
       "       0.        , 1.        , 1.        , 1.        , 0.1627907 ,\n",
       "       0.08333333, 0.        , 1.        , 1.        , 0.5       ,\n",
       "       0.03488372, 0.6       , 0.03488372, 0.        , 1.        ,\n",
       "       0.5       , 0.        , 0.03488372, 0.22222222, 1.        ,\n",
       "       0.        , 0.27272727, 0.1627907 , 0.03488372, 1.        ,\n",
       "       1.        , 1.        , 0.27272727, 1.        , 0.        ,\n",
       "       0.        , 1.        , 1.        , 0.        , 0.33333333,\n",
       "       1.        , 0.03488372, 1.        , 0.57142857, 0.        ,\n",
       "       1.        , 1.        , 1.        , 0.1627907 , 0.        ,\n",
       "       1.        , 0.        , 1.        , 0.        , 0.1627907 ,\n",
       "       0.03488372, 1.        , 0.13793103, 0.22222222, 0.1627907 ,\n",
       "       1.        , 0.1627907 , 1.        , 1.        , 0.28571429,\n",
       "       0.        , 1.        , 0.1627907 , 1.        , 0.03488372,\n",
       "       0.28571429, 1.        , 0.        , 1.        , 0.27272727,\n",
       "       0.1627907 , 1.        , 0.08333333, 0.28571429, 0.        ,\n",
       "       0.03488372, 0.03488372, 0.03488372, 0.1627907 , 0.5       ,\n",
       "       1.        , 0.        , 0.1627907 , 0.33333333, 0.        ,\n",
       "       0.1627907 , 0.03488372, 0.        , 0.27272727, 1.        ,\n",
       "       1.        , 0.        , 1.        , 0.03488372, 0.        ,\n",
       "       0.        , 0.13793103, 0.22222222, 1.        , 0.03488372,\n",
       "       1.        , 0.        , 0.        , 1.        , 1.        ,\n",
       "       0.03488372, 0.13793103, 0.57142857, 1.        , 0.27272727,\n",
       "       0.03488372, 0.1627907 , 1.        , 0.        , 0.57142857,\n",
       "       0.        , 0.28571429, 0.03488372, 1.        , 1.        ,\n",
       "       0.1627907 , 0.        , 1.        , 1.        , 0.03488372])"
      ]
     },
     "execution_count": 63,
     "metadata": {},
     "output_type": "execute_result"
    }
   ],
   "source": [
    "y_predicted_prob[:,1]"
   ]
  },
  {
   "cell_type": "code",
   "execution_count": 65,
   "id": "907372de-59ea-4cf3-8ba7-655253332b42",
   "metadata": {},
   "outputs": [
    {
     "data": {
      "text/plain": [
       "<AxesSubplot:>"
      ]
     },
     "execution_count": 65,
     "metadata": {},
     "output_type": "execute_result"
    },
    {
     "data": {
      "image/png": "[encoded data removed]",
      "text/plain": [
       "<Figure size 432x288 with 1 Axes>"
      ]
     },
     "metadata": {
      "needs_background": "light"
     },
     "output_type": "display_data"
    }
   ],
   "source": [
    "pd.Series(y_predicted_prob[:,1]).hist()"
   ]
  },
  {
   "cell_type": "code",
   "execution_count": 66,
   "id": "76d4d03f-2035-4fbe-88a7-2892530bd54e",
   "metadata": {},
   "outputs": [],
   "source": [
    "y_pred = np.where(y_predicted_prob[:,1] > 0.2, 1, 0)"
   ]
  },
  {
   "cell_type": "code",
   "execution_count": 67,
   "id": "b3555955-7f51-4be6-8f41-2d5f0b65ab43",
   "metadata": {},
   "outputs": [
    {
     "data": {
      "text/plain": [
       "array([1, 0, 0, 1, 1, 0, 1, 0, 0, 1, 0, 0, 0, 0, 1, 1, 0, 1, 0, 0, 0, 1,\n",
       "       1, 0, 0, 0, 1, 0, 0, 1, 0, 1, 1, 1, 0, 1, 1, 1, 1, 0, 0, 1, 0, 0,\n",
       "       0, 0, 0, 0, 0, 0, 1, 1, 0, 1, 0, 1, 0, 0, 1, 1, 0, 1, 1, 0, 0, 1,\n",
       "       0, 0, 1, 1, 0, 1, 1, 1, 0, 0, 1, 1, 1, 0, 0, 1, 1, 0, 1, 0, 1, 1,\n",
       "       0, 0, 1, 0, 0, 0, 0, 0, 0, 0, 1, 0, 0, 0, 1, 0, 0, 0, 1, 0, 0, 1,\n",
       "       1, 0, 1, 1, 0, 0, 0, 1, 1, 0, 0, 1, 1, 1, 0, 1, 1, 1, 0, 0, 1, 1,\n",
       "       0, 1, 1, 0, 1, 1, 0, 0, 0, 1, 0, 0, 0, 1, 0, 1, 1, 0, 1, 0, 0, 0,\n",
       "       0, 0, 1, 1, 1, 1, 1, 1, 1, 1, 0, 1, 0, 1, 0, 0, 0, 1, 1, 1, 0, 0,\n",
       "       0, 1, 1, 1, 0, 1, 0, 0, 1, 1, 0, 0, 1, 1, 0, 1, 0, 0, 1, 1, 1, 1,\n",
       "       1, 0, 0, 1, 1, 0, 1, 1, 0, 1, 1, 0, 1, 1, 1, 0, 0, 1, 0, 1, 0, 0,\n",
       "       0, 1, 0, 1, 0, 1, 0, 1, 1, 1, 0, 1, 0, 1, 0, 1, 1, 0, 1, 1, 0, 1,\n",
       "       0, 1, 0, 0, 0, 0, 0, 1, 1, 0, 0, 1, 0, 0, 0, 0, 1, 1, 1, 0, 1, 0,\n",
       "       0, 0, 0, 1, 1, 0, 1, 0, 0, 1, 1, 0, 0, 1, 1, 1, 0, 0, 1, 0, 1, 0,\n",
       "       1, 0, 1, 1, 0, 0, 1, 1, 0])"
      ]
     },
     "execution_count": 67,
     "metadata": {},
     "output_type": "execute_result"
    }
   ],
   "source": [
    "y_pred"
   ]
  },
  {
   "cell_type": "code",
   "execution_count": 69,
   "id": "d3693a7e-895f-4e79-b351-9c9e8913b82a",
   "metadata": {},
   "outputs": [
    {
     "data": {
      "text/plain": [
       "0.6853146853146853"
      ]
     },
     "execution_count": 69,
     "metadata": {},
     "output_type": "execute_result"
    }
   ],
   "source": [
    "precision_score(y_test, y_pred)"
   ]
  },
  {
   "cell_type": "raw",
   "id": "ab7f377d-af69-435c-89f1-4963e3fe84c2",
   "metadata": {},
   "source": [
    "precision_score(y_test, y_pred)"
   ]
  },
  {
   "cell_type": "code",
   "execution_count": 68,
   "id": "d217d293-7a58-4bc7-a8e2-912e1ecaa0c3",
   "metadata": {},
   "outputs": [
    {
     "data": {
      "text/plain": [
       "0.8166666666666667"
      ]
     },
     "execution_count": 68,
     "metadata": {},
     "output_type": "execute_result"
    }
   ],
   "source": [
    "recall_score(y_test, y_pred)"
   ]
  },
  {
   "cell_type": "code",
   "execution_count": 72,
   "id": "ac807a7b-7a88-4d12-9cae-801393afe181",
   "metadata": {},
   "outputs": [
    {
     "data": {
      "image/png": "[encoded data removed]",
      "text/plain": [
       "<Figure size 432x288 with 1 Axes>"
      ]
     },
     "metadata": {
      "needs_background": "light"
     },
     "output_type": "display_data"
    }
   ],
   "source": [
    "from sklearn.metrics import roc_curve, auc\n",
    "fpr, tpr, thresholds = roc_curve(y_test, y_predicted_prob[:,1])\n",
    "roc_auc= auc(fpr, tpr)\n",
    "plt.figure()\n",
    "plt.plot(fpr, tpr, color='darkorange', label='ROC curve (area = %0.2f)' % roc_auc)\n",
    "plt.plot([0, 1], [0, 1], color='navy', linestyle='--')\n",
    "plt.xlim([0.0, 1.0])\n",
    "plt.ylim([0.0, 1.05])\n",
    "plt.xlabel('False Positive Rate')\n",
    "plt.ylabel('True Positive Rate')\n",
    "plt.title('Receiver operating characteristic example')\n",
    "plt.legend(loc=\"lower right\")\n",
    "plt.show()"
   ]
  },
  {
   "cell_type": "code",
   "execution_count": null,
   "id": "97f0c0e8-ac8e-421d-9747-c261d5e6b402",
   "metadata": {},
   "outputs": [],
   "source": []
  },
  {
   "cell_type": "code",
   "execution_count": null,
   "id": "ee17a8e3-1420-464f-9771-28cdddbe8d69",
   "metadata": {},
   "outputs": [],
   "source": []
  }
 ],
 "metadata": {
  "kernelspec": {
   "display_name": "Python 3 (ipykernel)",
   "language": "python",
   "name": "python3"
  },
  "language_info": {
   "codemirror_mode": {
    "name": "ipython",
    "version": 3
   },
   "file_extension": ".py",
   "mimetype": "text/x-python",
   "name": "python",
   "nbconvert_exporter": "python",
   "pygments_lexer": "ipython3",
   "version": "3.7.6"
  }
 },
 "nbformat": 4,
 "nbformat_minor": 5
}
