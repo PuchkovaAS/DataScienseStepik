{
 "cells": [
  {
   "cell_type": "code",
   "execution_count": 1,
   "id": "0a7ee099-bfe3-4a27-885c-19c0a299317b",
   "metadata": {},
   "outputs": [],
   "source": [
    "import pandas as pd\n",
    "import numpy as np\n",
    "import re\n",
    "from scipy.spatial.distance import cosine\n",
    "import math\n",
    "from scipy.linalg import solve\n",
    "%matplotlib inline\n",
    "import matplotlib.pyplot as plt"
   ]
  },
  {
   "cell_type": "code",
   "execution_count": 2,
   "id": "299e0669-4ae9-4d34-8a27-76ff2493b4d9",
   "metadata": {},
   "outputs": [],
   "source": [
    "def f(x):\n",
    "    return math.sin(x / 5) * math.exp(x / 10) + 5 * math.exp(-x / 2)"
   ]
  },
  {
   "cell_type": "code",
   "execution_count": 3,
   "id": "5b4ec54a-52fd-44ff-8460-209f52bbf6f3",
   "metadata": {},
   "outputs": [],
   "source": [
    "m1 = np.array([1, 15])"
   ]
  },
  {
   "cell_type": "code",
   "execution_count": 4,
   "id": "42ae32c3-5d7e-47f0-94f1-ad273f99738d",
   "metadata": {},
   "outputs": [
    {
     "data": {
      "text/plain": [
       "array([3.25221687, 0.63522142])"
      ]
     },
     "execution_count": 4,
     "metadata": {},
     "output_type": "execute_result"
    }
   ],
   "source": [
    "b1 = np.array(list(map(f, m1)))\n",
    "b1"
   ]
  },
  {
   "cell_type": "code",
   "execution_count": 5,
   "id": "df10af05-e6e0-4fcd-9203-ef7290a3a7bf",
   "metadata": {},
   "outputs": [
    {
     "data": {
      "text/plain": [
       "array([[ 1,  1],\n",
       "       [15,  1]])"
      ]
     },
     "execution_count": 5,
     "metadata": {},
     "output_type": "execute_result"
    }
   ],
   "source": [
    "A1 = []\n",
    "for elem in m:\n",
    "    A1.append([elem, 1])\n",
    "A1 = np.array(A1)\n",
    "A1"
   ]
  },
  {
   "cell_type": "code",
   "execution_count": 6,
   "id": "833e1a8c-7125-4899-b2f2-cc3837950d0a",
   "metadata": {},
   "outputs": [
    {
     "data": {
      "text/plain": [
       "array([-0.18692825,  3.43914511])"
      ]
     },
     "execution_count": 6,
     "metadata": {},
     "output_type": "execute_result"
    }
   ],
   "source": [
    "result_x1 = solve(A1, b1)\n",
    "result_x1"
   ]
  },
  {
   "cell_type": "code",
   "execution_count": 18,
   "id": "7cbbe57d-4edd-4ff8-ab95-7f754e5469d9",
   "metadata": {},
   "outputs": [],
   "source": [
    "def fn(x, k_x):\n",
    "    result = 0\n",
    "    pow_max = len(k_x) - 1\n",
    "    for ind, k in enumerate(k_x):\n",
    "        result += k * x ** (pow_max - ind)\n",
    "    return result"
   ]
  },
  {
   "cell_type": "code",
   "execution_count": 20,
   "id": "2312c9c5-9432-4da7-a258-fd9a4ccf5b10",
   "metadata": {},
   "outputs": [],
   "source": [
    "def get_polynomials(m):\n",
    "    p = len(m) - 1\n",
    "    b = np.array(list(map(f, m)))\n",
    "    A = []\n",
    "    for x in m:\n",
    "        l = []\n",
    "        for level in range(p, -1, -1):\n",
    "            l.append(x ** level)\n",
    "        A.append(l)\n",
    "    A = np.array(A)\n",
    "    return solve(A, b)\n"
   ]
  },
  {
   "cell_type": "code",
   "execution_count": 21,
   "id": "ba26e37f-89ff-4f56-a49d-676c04eaa59a",
   "metadata": {},
   "outputs": [],
   "source": [
    "k_x1 = get_polynomials(np.array([1, 15]))"
   ]
  },
  {
   "cell_type": "code",
   "execution_count": 22,
   "id": "a850b53f-8b1b-43e3-a3bd-a52dcee26d61",
   "metadata": {},
   "outputs": [],
   "source": [
    "k_x2 = get_polynomials(np.array([1, 8, 15]))"
   ]
  },
  {
   "cell_type": "code",
   "execution_count": 23,
   "id": "903844f7-631b-4c1b-9a74-a063929b1718",
   "metadata": {},
   "outputs": [],
   "source": [
    "k_x3 = get_polynomials(np.array([1, 4, 10, 15]))"
   ]
  },
  {
   "cell_type": "code",
   "execution_count": 28,
   "id": "35d99cf7-7125-4b32-ae2d-5ca10ae9f188",
   "metadata": {},
   "outputs": [
    {
     "data": {
      "image/png": "[encoded data removed]",
      "text/plain": [
       "<Figure size 432x288 with 1 Axes>"
      ]
     },
     "metadata": {
      "needs_background": "light"
     },
     "output_type": "display_data"
    }
   ],
   "source": [
    "x = np.arange(0.0, 15.0, 0.01)\n",
    "\n",
    "s = pd.Series([f(elem) for elem in x])\n",
    "s1 = pd.Series([fn(elem, k_x1) for elem in x])\n",
    "s2 = pd.Series([fn(elem, k_x2) for elem in x])\n",
    "s3 = pd.Series([fn(elem, k_x3) for elem in x])\n",
    "t = np.arange(0.0, 15.0, 0.01)\n",
    "\n",
    "fig, ax = plt.subplots()\n",
    "ax.plot(t, s, label='origin')\n",
    "ax.plot(t, s1, label='x1')\n",
    "ax.plot(t, s2, label='x2')\n",
    "ax.plot(t, s3, label='x3')\n",
    "ax.legend()\n",
    "ax.grid()\n",
    "\n",
    "plt.show()"
   ]
  },
  {
   "cell_type": "code",
   "execution_count": null,
   "id": "cd8d0a14-77e3-42a9-80c7-6852fd592961",
   "metadata": {},
   "outputs": [],
   "source": []
  },
  {
   "cell_type": "code",
   "execution_count": null,
   "id": "965b6418-43ca-4d89-aa05-2923797fdf46",
   "metadata": {},
   "outputs": [],
   "source": []
  },
  {
   "cell_type": "code",
   "execution_count": null,
   "id": "27eadecf-a19d-4661-989e-6c29f04d3653",
   "metadata": {},
   "outputs": [],
   "source": []
  }
 ],
 "metadata": {
  "kernelspec": {
   "display_name": "Python 3 (ipykernel)",
   "language": "python",
   "name": "python3"
  },
  "language_info": {
   "codemirror_mode": {
    "name": "ipython",
    "version": 3
   },
   "file_extension": ".py",
   "mimetype": "text/x-python",
   "name": "python",
   "nbconvert_exporter": "python",
   "pygments_lexer": "ipython3",
   "version": "3.7.6"
  }
 },
 "nbformat": 4,
 "nbformat_minor": 5
}
