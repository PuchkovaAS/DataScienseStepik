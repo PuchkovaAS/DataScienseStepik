{
 "cells": [
  {
   "cell_type": "code",
   "execution_count": 1,
   "id": "0a85f615-6c84-470a-9201-dd86034e6df7",
   "metadata": {},
   "outputs": [],
   "source": [
    "import pandas as pd\n",
    "import numpy as np\n",
    "import matplotlib.pyplot as plt\n",
    "import seaborn as sns\n",
    "from sklearn import tree\n",
    "%matplotlib inline\n",
    "\n",
    "from graphviz  import Source\n",
    "from IPython.display import SVG, display, HTML\n",
    "style = \"<style>svg{width: 50% !important; height: 50% !important;} </style>\" "
   ]
  },
  {
   "cell_type": "code",
   "execution_count": 2,
   "id": "bacab5b1-d8c4-4f7e-b70f-44128ece101e",
   "metadata": {},
   "outputs": [],
   "source": [
    "titanic_data = pd.read_csv('C:\\\\Users\\\\Gazauto\\\\Downloads\\\\train.csv')"
   ]
  },
  {
   "cell_type": "code",
   "execution_count": 3,
   "id": "a4aa3528-4a5d-46e0-82d5-098afe499587",
   "metadata": {},
   "outputs": [
    {
     "data": {
      "text/html": [
       "<div>\n",
       "<style scoped>\n",
       "    .dataframe tbody tr th:only-of-type {\n",
       "        vertical-align: middle;\n",
       "    }\n",
       "\n",
       "    .dataframe tbody tr th {\n",
       "        vertical-align: top;\n",
       "    }\n",
       "\n",
       "    .dataframe thead th {\n",
       "        text-align: right;\n",
       "    }\n",
       "</style>\n",
       "<table border=\"1\" class=\"dataframe\">\n",
       "  <thead>\n",
       "    <tr style=\"text-align: right;\">\n",
       "      <th></th>\n",
       "      <th>PassengerId</th>\n",
       "      <th>Survived</th>\n",
       "      <th>Pclass</th>\n",
       "      <th>Name</th>\n",
       "      <th>Sex</th>\n",
       "      <th>Age</th>\n",
       "      <th>SibSp</th>\n",
       "      <th>Parch</th>\n",
       "      <th>Ticket</th>\n",
       "      <th>Fare</th>\n",
       "      <th>Cabin</th>\n",
       "      <th>Embarked</th>\n",
       "    </tr>\n",
       "  </thead>\n",
       "  <tbody>\n",
       "    <tr>\n",
       "      <th>0</th>\n",
       "      <td>1</td>\n",
       "      <td>0</td>\n",
       "      <td>3</td>\n",
       "      <td>Braund, Mr. Owen Harris</td>\n",
       "      <td>male</td>\n",
       "      <td>22.0</td>\n",
       "      <td>1</td>\n",
       "      <td>0</td>\n",
       "      <td>A/5 21171</td>\n",
       "      <td>7.2500</td>\n",
       "      <td>NaN</td>\n",
       "      <td>S</td>\n",
       "    </tr>\n",
       "    <tr>\n",
       "      <th>1</th>\n",
       "      <td>2</td>\n",
       "      <td>1</td>\n",
       "      <td>1</td>\n",
       "      <td>Cumings, Mrs. John Bradley (Florence Briggs Th...</td>\n",
       "      <td>female</td>\n",
       "      <td>38.0</td>\n",
       "      <td>1</td>\n",
       "      <td>0</td>\n",
       "      <td>PC 17599</td>\n",
       "      <td>71.2833</td>\n",
       "      <td>C85</td>\n",
       "      <td>C</td>\n",
       "    </tr>\n",
       "    <tr>\n",
       "      <th>2</th>\n",
       "      <td>3</td>\n",
       "      <td>1</td>\n",
       "      <td>3</td>\n",
       "      <td>Heikkinen, Miss. Laina</td>\n",
       "      <td>female</td>\n",
       "      <td>26.0</td>\n",
       "      <td>0</td>\n",
       "      <td>0</td>\n",
       "      <td>STON/O2. 3101282</td>\n",
       "      <td>7.9250</td>\n",
       "      <td>NaN</td>\n",
       "      <td>S</td>\n",
       "    </tr>\n",
       "    <tr>\n",
       "      <th>3</th>\n",
       "      <td>4</td>\n",
       "      <td>1</td>\n",
       "      <td>1</td>\n",
       "      <td>Futrelle, Mrs. Jacques Heath (Lily May Peel)</td>\n",
       "      <td>female</td>\n",
       "      <td>35.0</td>\n",
       "      <td>1</td>\n",
       "      <td>0</td>\n",
       "      <td>113803</td>\n",
       "      <td>53.1000</td>\n",
       "      <td>C123</td>\n",
       "      <td>S</td>\n",
       "    </tr>\n",
       "    <tr>\n",
       "      <th>4</th>\n",
       "      <td>5</td>\n",
       "      <td>0</td>\n",
       "      <td>3</td>\n",
       "      <td>Allen, Mr. William Henry</td>\n",
       "      <td>male</td>\n",
       "      <td>35.0</td>\n",
       "      <td>0</td>\n",
       "      <td>0</td>\n",
       "      <td>373450</td>\n",
       "      <td>8.0500</td>\n",
       "      <td>NaN</td>\n",
       "      <td>S</td>\n",
       "    </tr>\n",
       "  </tbody>\n",
       "</table>\n",
       "</div>"
      ],
      "text/plain": [
       "   PassengerId  Survived  Pclass  \\\n",
       "0            1         0       3   \n",
       "1            2         1       1   \n",
       "2            3         1       3   \n",
       "3            4         1       1   \n",
       "4            5         0       3   \n",
       "\n",
       "                                                Name     Sex   Age  SibSp  \\\n",
       "0                            Braund, Mr. Owen Harris    male  22.0      1   \n",
       "1  Cumings, Mrs. John Bradley (Florence Briggs Th...  female  38.0      1   \n",
       "2                             Heikkinen, Miss. Laina  female  26.0      0   \n",
       "3       Futrelle, Mrs. Jacques Heath (Lily May Peel)  female  35.0      1   \n",
       "4                           Allen, Mr. William Henry    male  35.0      0   \n",
       "\n",
       "   Parch            Ticket     Fare Cabin Embarked  \n",
       "0      0         A/5 21171   7.2500   NaN        S  \n",
       "1      0          PC 17599  71.2833   C85        C  \n",
       "2      0  STON/O2. 3101282   7.9250   NaN        S  \n",
       "3      0            113803  53.1000  C123        S  \n",
       "4      0            373450   8.0500   NaN        S  "
      ]
     },
     "execution_count": 3,
     "metadata": {},
     "output_type": "execute_result"
    }
   ],
   "source": [
    "titanic_data.head()"
   ]
  },
  {
   "cell_type": "code",
   "execution_count": 4,
   "id": "7b899911-703d-43e9-99fc-39b18b16d1ae",
   "metadata": {},
   "outputs": [
    {
     "name": "stdout",
     "output_type": "stream",
     "text": [
      "<class 'pandas.core.frame.DataFrame'>\n",
      "RangeIndex: 891 entries, 0 to 890\n",
      "Data columns (total 12 columns):\n",
      " #   Column       Non-Null Count  Dtype  \n",
      "---  ------       --------------  -----  \n",
      " 0   PassengerId  891 non-null    int64  \n",
      " 1   Survived     891 non-null    int64  \n",
      " 2   Pclass       891 non-null    int64  \n",
      " 3   Name         891 non-null    object \n",
      " 4   Sex          891 non-null    object \n",
      " 5   Age          714 non-null    float64\n",
      " 6   SibSp        891 non-null    int64  \n",
      " 7   Parch        891 non-null    int64  \n",
      " 8   Ticket       891 non-null    object \n",
      " 9   Fare         891 non-null    float64\n",
      " 10  Cabin        204 non-null    object \n",
      " 11  Embarked     889 non-null    object \n",
      "dtypes: float64(2), int64(5), object(5)\n",
      "memory usage: 83.7+ KB\n"
     ]
    }
   ],
   "source": [
    "titanic_data.info()"
   ]
  },
  {
   "cell_type": "code",
   "execution_count": null,
   "id": "23494753-b381-44ae-8ee6-64293afaa3e2",
   "metadata": {},
   "outputs": [],
   "source": []
  },
  {
   "cell_type": "code",
   "execution_count": null,
   "id": "6d800240-e464-4bf5-81c2-e5249d455d1f",
   "metadata": {},
   "outputs": [],
   "source": []
  },
  {
   "cell_type": "code",
   "execution_count": 5,
   "id": "4dd1d896-2305-4d22-a8b5-d32b6b7e061d",
   "metadata": {},
   "outputs": [
    {
     "data": {
      "text/html": [
       "<div>\n",
       "<style scoped>\n",
       "    .dataframe tbody tr th:only-of-type {\n",
       "        vertical-align: middle;\n",
       "    }\n",
       "\n",
       "    .dataframe tbody tr th {\n",
       "        vertical-align: top;\n",
       "    }\n",
       "\n",
       "    .dataframe thead th {\n",
       "        text-align: right;\n",
       "    }\n",
       "</style>\n",
       "<table border=\"1\" class=\"dataframe\">\n",
       "  <thead>\n",
       "    <tr style=\"text-align: right;\">\n",
       "      <th></th>\n",
       "      <th>PassengerId</th>\n",
       "      <th>Survived</th>\n",
       "      <th>Pclass</th>\n",
       "      <th>Name</th>\n",
       "      <th>Sex</th>\n",
       "      <th>Age</th>\n",
       "      <th>SibSp</th>\n",
       "      <th>Parch</th>\n",
       "      <th>Ticket</th>\n",
       "      <th>Fare</th>\n",
       "      <th>Cabin</th>\n",
       "      <th>Embarked</th>\n",
       "    </tr>\n",
       "  </thead>\n",
       "  <tbody>\n",
       "    <tr>\n",
       "      <th>0</th>\n",
       "      <td>False</td>\n",
       "      <td>False</td>\n",
       "      <td>False</td>\n",
       "      <td>False</td>\n",
       "      <td>False</td>\n",
       "      <td>False</td>\n",
       "      <td>False</td>\n",
       "      <td>False</td>\n",
       "      <td>False</td>\n",
       "      <td>False</td>\n",
       "      <td>True</td>\n",
       "      <td>False</td>\n",
       "    </tr>\n",
       "    <tr>\n",
       "      <th>1</th>\n",
       "      <td>False</td>\n",
       "      <td>False</td>\n",
       "      <td>False</td>\n",
       "      <td>False</td>\n",
       "      <td>False</td>\n",
       "      <td>False</td>\n",
       "      <td>False</td>\n",
       "      <td>False</td>\n",
       "      <td>False</td>\n",
       "      <td>False</td>\n",
       "      <td>False</td>\n",
       "      <td>False</td>\n",
       "    </tr>\n",
       "    <tr>\n",
       "      <th>2</th>\n",
       "      <td>False</td>\n",
       "      <td>False</td>\n",
       "      <td>False</td>\n",
       "      <td>False</td>\n",
       "      <td>False</td>\n",
       "      <td>False</td>\n",
       "      <td>False</td>\n",
       "      <td>False</td>\n",
       "      <td>False</td>\n",
       "      <td>False</td>\n",
       "      <td>True</td>\n",
       "      <td>False</td>\n",
       "    </tr>\n",
       "    <tr>\n",
       "      <th>3</th>\n",
       "      <td>False</td>\n",
       "      <td>False</td>\n",
       "      <td>False</td>\n",
       "      <td>False</td>\n",
       "      <td>False</td>\n",
       "      <td>False</td>\n",
       "      <td>False</td>\n",
       "      <td>False</td>\n",
       "      <td>False</td>\n",
       "      <td>False</td>\n",
       "      <td>False</td>\n",
       "      <td>False</td>\n",
       "    </tr>\n",
       "    <tr>\n",
       "      <th>4</th>\n",
       "      <td>False</td>\n",
       "      <td>False</td>\n",
       "      <td>False</td>\n",
       "      <td>False</td>\n",
       "      <td>False</td>\n",
       "      <td>False</td>\n",
       "      <td>False</td>\n",
       "      <td>False</td>\n",
       "      <td>False</td>\n",
       "      <td>False</td>\n",
       "      <td>True</td>\n",
       "      <td>False</td>\n",
       "    </tr>\n",
       "    <tr>\n",
       "      <th>...</th>\n",
       "      <td>...</td>\n",
       "      <td>...</td>\n",
       "      <td>...</td>\n",
       "      <td>...</td>\n",
       "      <td>...</td>\n",
       "      <td>...</td>\n",
       "      <td>...</td>\n",
       "      <td>...</td>\n",
       "      <td>...</td>\n",
       "      <td>...</td>\n",
       "      <td>...</td>\n",
       "      <td>...</td>\n",
       "    </tr>\n",
       "    <tr>\n",
       "      <th>886</th>\n",
       "      <td>False</td>\n",
       "      <td>False</td>\n",
       "      <td>False</td>\n",
       "      <td>False</td>\n",
       "      <td>False</td>\n",
       "      <td>False</td>\n",
       "      <td>False</td>\n",
       "      <td>False</td>\n",
       "      <td>False</td>\n",
       "      <td>False</td>\n",
       "      <td>True</td>\n",
       "      <td>False</td>\n",
       "    </tr>\n",
       "    <tr>\n",
       "      <th>887</th>\n",
       "      <td>False</td>\n",
       "      <td>False</td>\n",
       "      <td>False</td>\n",
       "      <td>False</td>\n",
       "      <td>False</td>\n",
       "      <td>False</td>\n",
       "      <td>False</td>\n",
       "      <td>False</td>\n",
       "      <td>False</td>\n",
       "      <td>False</td>\n",
       "      <td>False</td>\n",
       "      <td>False</td>\n",
       "    </tr>\n",
       "    <tr>\n",
       "      <th>888</th>\n",
       "      <td>False</td>\n",
       "      <td>False</td>\n",
       "      <td>False</td>\n",
       "      <td>False</td>\n",
       "      <td>False</td>\n",
       "      <td>True</td>\n",
       "      <td>False</td>\n",
       "      <td>False</td>\n",
       "      <td>False</td>\n",
       "      <td>False</td>\n",
       "      <td>True</td>\n",
       "      <td>False</td>\n",
       "    </tr>\n",
       "    <tr>\n",
       "      <th>889</th>\n",
       "      <td>False</td>\n",
       "      <td>False</td>\n",
       "      <td>False</td>\n",
       "      <td>False</td>\n",
       "      <td>False</td>\n",
       "      <td>False</td>\n",
       "      <td>False</td>\n",
       "      <td>False</td>\n",
       "      <td>False</td>\n",
       "      <td>False</td>\n",
       "      <td>False</td>\n",
       "      <td>False</td>\n",
       "    </tr>\n",
       "    <tr>\n",
       "      <th>890</th>\n",
       "      <td>False</td>\n",
       "      <td>False</td>\n",
       "      <td>False</td>\n",
       "      <td>False</td>\n",
       "      <td>False</td>\n",
       "      <td>False</td>\n",
       "      <td>False</td>\n",
       "      <td>False</td>\n",
       "      <td>False</td>\n",
       "      <td>False</td>\n",
       "      <td>True</td>\n",
       "      <td>False</td>\n",
       "    </tr>\n",
       "  </tbody>\n",
       "</table>\n",
       "<p>891 rows × 12 columns</p>\n",
       "</div>"
      ],
      "text/plain": [
       "     PassengerId  Survived  Pclass   Name    Sex    Age  SibSp  Parch  Ticket  \\\n",
       "0          False     False   False  False  False  False  False  False   False   \n",
       "1          False     False   False  False  False  False  False  False   False   \n",
       "2          False     False   False  False  False  False  False  False   False   \n",
       "3          False     False   False  False  False  False  False  False   False   \n",
       "4          False     False   False  False  False  False  False  False   False   \n",
       "..           ...       ...     ...    ...    ...    ...    ...    ...     ...   \n",
       "886        False     False   False  False  False  False  False  False   False   \n",
       "887        False     False   False  False  False  False  False  False   False   \n",
       "888        False     False   False  False  False   True  False  False   False   \n",
       "889        False     False   False  False  False  False  False  False   False   \n",
       "890        False     False   False  False  False  False  False  False   False   \n",
       "\n",
       "      Fare  Cabin  Embarked  \n",
       "0    False   True     False  \n",
       "1    False  False     False  \n",
       "2    False   True     False  \n",
       "3    False  False     False  \n",
       "4    False   True     False  \n",
       "..     ...    ...       ...  \n",
       "886  False   True     False  \n",
       "887  False  False     False  \n",
       "888  False   True     False  \n",
       "889  False  False     False  \n",
       "890  False   True     False  \n",
       "\n",
       "[891 rows x 12 columns]"
      ]
     },
     "execution_count": 5,
     "metadata": {},
     "output_type": "execute_result"
    }
   ],
   "source": [
    " titanic_data.isnull()"
   ]
  },
  {
   "cell_type": "code",
   "execution_count": 6,
   "id": "30e64eea-3c24-4446-82ab-dafca81e8390",
   "metadata": {},
   "outputs": [
    {
     "data": {
      "text/plain": [
       "PassengerId      0\n",
       "Survived         0\n",
       "Pclass           0\n",
       "Name             0\n",
       "Sex              0\n",
       "Age            177\n",
       "SibSp            0\n",
       "Parch            0\n",
       "Ticket           0\n",
       "Fare             0\n",
       "Cabin          687\n",
       "Embarked         2\n",
       "dtype: int64"
      ]
     },
     "execution_count": 6,
     "metadata": {},
     "output_type": "execute_result"
    }
   ],
   "source": [
    " titanic_data.isnull().sum()"
   ]
  },
  {
   "cell_type": "code",
   "execution_count": 7,
   "id": "7ab26e56-09da-4412-911a-7e3c597b40c9",
   "metadata": {},
   "outputs": [],
   "source": [
    "# X = titanic_data.drop(['PassengerId', 'Survived', 'Name', 'Ticket', 'Cabin'], axis=1)"
   ]
  },
  {
   "cell_type": "code",
   "execution_count": 8,
   "id": "2593a63b-3c2a-4249-b60e-d01db5c51b2e",
   "metadata": {},
   "outputs": [],
   "source": [
    "# X.head()"
   ]
  },
  {
   "cell_type": "code",
   "execution_count": 9,
   "id": "144afb33-953f-42f8-95f5-f1d4efeb26f4",
   "metadata": {},
   "outputs": [
    {
     "data": {
      "text/plain": [
       "0    0\n",
       "1    1\n",
       "2    1\n",
       "3    1\n",
       "4    0\n",
       "Name: Survived, dtype: int64"
      ]
     },
     "execution_count": 9,
     "metadata": {},
     "output_type": "execute_result"
    }
   ],
   "source": [
    "y = titanic_data['Survived']\n",
    "y.head()"
   ]
  },
  {
   "cell_type": "code",
   "execution_count": 10,
   "id": "bf716645-97f3-4f5b-abcc-e8fbce708dd6",
   "metadata": {},
   "outputs": [],
   "source": [
    "clf = tree.DecisionTreeClassifier(criterion='entropy')"
   ]
  },
  {
   "cell_type": "code",
   "execution_count": 11,
   "id": "8c32c13a-fed4-428e-87b9-0b707edd121e",
   "metadata": {},
   "outputs": [],
   "source": [
    "# sex = {\"male\": 0, \"female\": 1}\n",
    "# titanic_data[\"Sex\"] = titanic_data[\"Sex\"].map(sex)\n",
    "# titanic_data.head()"
   ]
  },
  {
   "cell_type": "code",
   "execution_count": 12,
   "id": "745b8018-cc78-46ca-9a22-2bce85dfc4c6",
   "metadata": {},
   "outputs": [],
   "source": [
    "# titanic_data['Embarked'].uniqueue()"
   ]
  },
  {
   "cell_type": "code",
   "execution_count": 13,
   "id": "bd08470f-b37b-41a3-b63b-2deb89a33582",
   "metadata": {},
   "outputs": [],
   "source": [
    "# sex = {\"S\": 1, \"C\": 2, 'Q': 2}\n",
    "# titanic_data[\"Embarked\"] = titanic_data[\"Embarked\"].map(sex)\n",
    "# titanic_data.head()"
   ]
  },
  {
   "cell_type": "code",
   "execution_count": 14,
   "id": "c9aa9cae-0469-4a70-aeb8-55d7f0a94467",
   "metadata": {},
   "outputs": [],
   "source": [
    "# titanic_data[\"Embarked\"].fillna(0, inplace=True)"
   ]
  },
  {
   "cell_type": "code",
   "execution_count": 15,
   "id": "084d9a77-0d22-4001-8035-72bd5dc243a2",
   "metadata": {},
   "outputs": [],
   "source": [
    "X = titanic_data.drop(['PassengerId', 'Survived', 'Name', 'Ticket', 'Cabin'], axis=1)"
   ]
  },
  {
   "cell_type": "code",
   "execution_count": 16,
   "id": "b519f8be-7528-416f-a48d-a023003b51db",
   "metadata": {},
   "outputs": [
    {
     "data": {
      "text/plain": [
       "PassengerId      0\n",
       "Survived         0\n",
       "Pclass           0\n",
       "Name             0\n",
       "Sex              0\n",
       "Age            177\n",
       "SibSp            0\n",
       "Parch            0\n",
       "Ticket           0\n",
       "Fare             0\n",
       "Cabin          687\n",
       "Embarked         2\n",
       "dtype: int64"
      ]
     },
     "execution_count": 16,
     "metadata": {},
     "output_type": "execute_result"
    }
   ],
   "source": [
    " titanic_data.isnull().sum()"
   ]
  },
  {
   "cell_type": "code",
   "execution_count": 17,
   "id": "24f0a3e8-7bee-4628-9ebb-f8c3d833aa15",
   "metadata": {},
   "outputs": [
    {
     "data": {
      "text/html": [
       "<div>\n",
       "<style scoped>\n",
       "    .dataframe tbody tr th:only-of-type {\n",
       "        vertical-align: middle;\n",
       "    }\n",
       "\n",
       "    .dataframe tbody tr th {\n",
       "        vertical-align: top;\n",
       "    }\n",
       "\n",
       "    .dataframe thead th {\n",
       "        text-align: right;\n",
       "    }\n",
       "</style>\n",
       "<table border=\"1\" class=\"dataframe\">\n",
       "  <thead>\n",
       "    <tr style=\"text-align: right;\">\n",
       "      <th></th>\n",
       "      <th>Pclass</th>\n",
       "      <th>Age</th>\n",
       "      <th>SibSp</th>\n",
       "      <th>Parch</th>\n",
       "      <th>Fare</th>\n",
       "      <th>Sex_female</th>\n",
       "      <th>Sex_male</th>\n",
       "      <th>Embarked_C</th>\n",
       "      <th>Embarked_Q</th>\n",
       "      <th>Embarked_S</th>\n",
       "    </tr>\n",
       "  </thead>\n",
       "  <tbody>\n",
       "    <tr>\n",
       "      <th>0</th>\n",
       "      <td>3</td>\n",
       "      <td>22.0</td>\n",
       "      <td>1</td>\n",
       "      <td>0</td>\n",
       "      <td>7.2500</td>\n",
       "      <td>0</td>\n",
       "      <td>1</td>\n",
       "      <td>0</td>\n",
       "      <td>0</td>\n",
       "      <td>1</td>\n",
       "    </tr>\n",
       "    <tr>\n",
       "      <th>1</th>\n",
       "      <td>1</td>\n",
       "      <td>38.0</td>\n",
       "      <td>1</td>\n",
       "      <td>0</td>\n",
       "      <td>71.2833</td>\n",
       "      <td>1</td>\n",
       "      <td>0</td>\n",
       "      <td>1</td>\n",
       "      <td>0</td>\n",
       "      <td>0</td>\n",
       "    </tr>\n",
       "    <tr>\n",
       "      <th>2</th>\n",
       "      <td>3</td>\n",
       "      <td>26.0</td>\n",
       "      <td>0</td>\n",
       "      <td>0</td>\n",
       "      <td>7.9250</td>\n",
       "      <td>1</td>\n",
       "      <td>0</td>\n",
       "      <td>0</td>\n",
       "      <td>0</td>\n",
       "      <td>1</td>\n",
       "    </tr>\n",
       "    <tr>\n",
       "      <th>3</th>\n",
       "      <td>1</td>\n",
       "      <td>35.0</td>\n",
       "      <td>1</td>\n",
       "      <td>0</td>\n",
       "      <td>53.1000</td>\n",
       "      <td>1</td>\n",
       "      <td>0</td>\n",
       "      <td>0</td>\n",
       "      <td>0</td>\n",
       "      <td>1</td>\n",
       "    </tr>\n",
       "    <tr>\n",
       "      <th>4</th>\n",
       "      <td>3</td>\n",
       "      <td>35.0</td>\n",
       "      <td>0</td>\n",
       "      <td>0</td>\n",
       "      <td>8.0500</td>\n",
       "      <td>0</td>\n",
       "      <td>1</td>\n",
       "      <td>0</td>\n",
       "      <td>0</td>\n",
       "      <td>1</td>\n",
       "    </tr>\n",
       "  </tbody>\n",
       "</table>\n",
       "</div>"
      ],
      "text/plain": [
       "   Pclass   Age  SibSp  Parch     Fare  Sex_female  Sex_male  Embarked_C  \\\n",
       "0       3  22.0      1      0   7.2500           0         1           0   \n",
       "1       1  38.0      1      0  71.2833           1         0           1   \n",
       "2       3  26.0      0      0   7.9250           1         0           0   \n",
       "3       1  35.0      1      0  53.1000           1         0           0   \n",
       "4       3  35.0      0      0   8.0500           0         1           0   \n",
       "\n",
       "   Embarked_Q  Embarked_S  \n",
       "0           0           1  \n",
       "1           0           0  \n",
       "2           0           1  \n",
       "3           0           1  \n",
       "4           0           1  "
      ]
     },
     "execution_count": 17,
     "metadata": {},
     "output_type": "execute_result"
    }
   ],
   "source": [
    "X = pd.get_dummies(X)\n",
    "X.head()"
   ]
  },
  {
   "cell_type": "code",
   "execution_count": 18,
   "id": "a5d7a1b2-3f58-4a17-9ba2-b4466380c3c1",
   "metadata": {},
   "outputs": [
    {
     "data": {
      "text/plain": [
       "Pclass          0\n",
       "Age           177\n",
       "SibSp           0\n",
       "Parch           0\n",
       "Fare            0\n",
       "Sex_female      0\n",
       "Sex_male        0\n",
       "Embarked_C      0\n",
       "Embarked_Q      0\n",
       "Embarked_S      0\n",
       "dtype: int64"
      ]
     },
     "execution_count": 18,
     "metadata": {},
     "output_type": "execute_result"
    }
   ],
   "source": [
    " X.isnull().sum()"
   ]
  },
  {
   "cell_type": "code",
   "execution_count": 19,
   "id": "284fa00c-85f9-4b3a-b28e-82ad7831154c",
   "metadata": {},
   "outputs": [
    {
     "data": {
      "text/plain": [
       "28.0"
      ]
     },
     "execution_count": 19,
     "metadata": {},
     "output_type": "execute_result"
    }
   ],
   "source": [
    "X['Age'].median()"
   ]
  },
  {
   "cell_type": "code",
   "execution_count": 20,
   "id": "ff915b5e-7287-4f4e-8fec-507dda6613e5",
   "metadata": {},
   "outputs": [
    {
     "data": {
      "text/html": [
       "<div>\n",
       "<style scoped>\n",
       "    .dataframe tbody tr th:only-of-type {\n",
       "        vertical-align: middle;\n",
       "    }\n",
       "\n",
       "    .dataframe tbody tr th {\n",
       "        vertical-align: top;\n",
       "    }\n",
       "\n",
       "    .dataframe thead th {\n",
       "        text-align: right;\n",
       "    }\n",
       "</style>\n",
       "<table border=\"1\" class=\"dataframe\">\n",
       "  <thead>\n",
       "    <tr style=\"text-align: right;\">\n",
       "      <th></th>\n",
       "      <th>Pclass</th>\n",
       "      <th>Age</th>\n",
       "      <th>SibSp</th>\n",
       "      <th>Parch</th>\n",
       "      <th>Fare</th>\n",
       "      <th>Sex_female</th>\n",
       "      <th>Sex_male</th>\n",
       "      <th>Embarked_C</th>\n",
       "      <th>Embarked_Q</th>\n",
       "      <th>Embarked_S</th>\n",
       "    </tr>\n",
       "  </thead>\n",
       "  <tbody>\n",
       "    <tr>\n",
       "      <th>0</th>\n",
       "      <td>3</td>\n",
       "      <td>22.0</td>\n",
       "      <td>1</td>\n",
       "      <td>0</td>\n",
       "      <td>7.2500</td>\n",
       "      <td>0</td>\n",
       "      <td>1</td>\n",
       "      <td>0</td>\n",
       "      <td>0</td>\n",
       "      <td>1</td>\n",
       "    </tr>\n",
       "    <tr>\n",
       "      <th>1</th>\n",
       "      <td>1</td>\n",
       "      <td>38.0</td>\n",
       "      <td>1</td>\n",
       "      <td>0</td>\n",
       "      <td>71.2833</td>\n",
       "      <td>1</td>\n",
       "      <td>0</td>\n",
       "      <td>1</td>\n",
       "      <td>0</td>\n",
       "      <td>0</td>\n",
       "    </tr>\n",
       "    <tr>\n",
       "      <th>2</th>\n",
       "      <td>3</td>\n",
       "      <td>26.0</td>\n",
       "      <td>0</td>\n",
       "      <td>0</td>\n",
       "      <td>7.9250</td>\n",
       "      <td>1</td>\n",
       "      <td>0</td>\n",
       "      <td>0</td>\n",
       "      <td>0</td>\n",
       "      <td>1</td>\n",
       "    </tr>\n",
       "    <tr>\n",
       "      <th>3</th>\n",
       "      <td>1</td>\n",
       "      <td>35.0</td>\n",
       "      <td>1</td>\n",
       "      <td>0</td>\n",
       "      <td>53.1000</td>\n",
       "      <td>1</td>\n",
       "      <td>0</td>\n",
       "      <td>0</td>\n",
       "      <td>0</td>\n",
       "      <td>1</td>\n",
       "    </tr>\n",
       "    <tr>\n",
       "      <th>4</th>\n",
       "      <td>3</td>\n",
       "      <td>35.0</td>\n",
       "      <td>0</td>\n",
       "      <td>0</td>\n",
       "      <td>8.0500</td>\n",
       "      <td>0</td>\n",
       "      <td>1</td>\n",
       "      <td>0</td>\n",
       "      <td>0</td>\n",
       "      <td>1</td>\n",
       "    </tr>\n",
       "  </tbody>\n",
       "</table>\n",
       "</div>"
      ],
      "text/plain": [
       "   Pclass   Age  SibSp  Parch     Fare  Sex_female  Sex_male  Embarked_C  \\\n",
       "0       3  22.0      1      0   7.2500           0         1           0   \n",
       "1       1  38.0      1      0  71.2833           1         0           1   \n",
       "2       3  26.0      0      0   7.9250           1         0           0   \n",
       "3       1  35.0      1      0  53.1000           1         0           0   \n",
       "4       3  35.0      0      0   8.0500           0         1           0   \n",
       "\n",
       "   Embarked_Q  Embarked_S  \n",
       "0           0           1  \n",
       "1           0           0  \n",
       "2           0           1  \n",
       "3           0           1  \n",
       "4           0           1  "
      ]
     },
     "execution_count": 20,
     "metadata": {},
     "output_type": "execute_result"
    }
   ],
   "source": [
    "X = X.fillna({'Age' : X['Age'].median()})\n",
    "X.head()"
   ]
  },
  {
   "cell_type": "code",
   "execution_count": null,
   "id": "1306a0d9-38b5-4b75-83e7-0dfc721c4798",
   "metadata": {},
   "outputs": [],
   "source": []
  },
  {
   "cell_type": "code",
   "execution_count": 21,
   "id": "664877d7-80ea-4bbd-a8df-77be2491676c",
   "metadata": {},
   "outputs": [
    {
     "data": {
      "text/plain": [
       "[Text(144.51558373679578, 212.004, 'Sex_male <= 0.5\\nentropy = 0.961\\nsamples = 891\\nvalue = [549, 342]'),\n",
       " Text(53.27033450704225, 201.132, 'Pclass <= 2.5\\nentropy = 0.824\\nsamples = 314\\nvalue = [81, 233]'),\n",
       " Text(20.040845070422534, 190.26, 'Fare <= 28.856\\nentropy = 0.299\\nsamples = 170\\nvalue = [9, 161]'),\n",
       " Text(15.325352112676056, 179.388, 'Fare <= 28.231\\nentropy = 0.469\\nsamples = 70\\nvalue = [7, 63]'),\n",
       " Text(12.967605633802817, 168.516, 'Age <= 23.5\\nentropy = 0.426\\nsamples = 69\\nvalue = [6, 63]'),\n",
       " Text(10.609859154929577, 157.644, 'entropy = 0.0\\nsamples = 15\\nvalue = [0, 15]'),\n",
       " Text(15.325352112676056, 157.644, 'Age <= 27.5\\nentropy = 0.503\\nsamples = 54\\nvalue = [6, 48]'),\n",
       " Text(9.430985915492958, 146.772, 'Age <= 25.5\\nentropy = 0.845\\nsamples = 11\\nvalue = [3, 8]'),\n",
       " Text(4.715492957746479, 135.9, 'Fare <= 13.75\\nentropy = 0.592\\nsamples = 7\\nvalue = [1, 6]'),\n",
       " Text(2.3577464788732394, 125.02799999999999, 'entropy = 1.0\\nsamples = 2\\nvalue = [1, 1]'),\n",
       " Text(7.073239436619718, 125.02799999999999, 'entropy = 0.0\\nsamples = 5\\nvalue = [0, 5]'),\n",
       " Text(14.146478873239436, 135.9, 'Fare <= 17.429\\nentropy = 1.0\\nsamples = 4\\nvalue = [2, 2]'),\n",
       " Text(11.788732394366196, 125.02799999999999, 'entropy = 0.0\\nsamples = 2\\nvalue = [0, 2]'),\n",
       " Text(16.504225352112677, 125.02799999999999, 'entropy = 0.0\\nsamples = 2\\nvalue = [2, 0]'),\n",
       " Text(21.219718309859154, 146.772, 'Age <= 37.0\\nentropy = 0.365\\nsamples = 43\\nvalue = [3, 40]'),\n",
       " Text(18.861971830985915, 135.9, 'entropy = 0.0\\nsamples = 24\\nvalue = [0, 24]'),\n",
       " Text(23.577464788732392, 135.9, 'Age <= 39.0\\nentropy = 0.629\\nsamples = 19\\nvalue = [3, 16]'),\n",
       " Text(21.219718309859154, 125.02799999999999, 'entropy = 0.0\\nsamples = 1\\nvalue = [1, 0]'),\n",
       " Text(25.935211267605634, 125.02799999999999, 'Age <= 56.0\\nentropy = 0.503\\nsamples = 18\\nvalue = [2, 16]'),\n",
       " Text(21.219718309859154, 114.156, 'SibSp <= 0.5\\nentropy = 0.337\\nsamples = 16\\nvalue = [1, 15]'),\n",
       " Text(18.861971830985915, 103.28399999999999, 'entropy = 0.0\\nsamples = 12\\nvalue = [0, 12]'),\n",
       " Text(23.577464788732392, 103.28399999999999, 'Age <= 44.5\\nentropy = 0.811\\nsamples = 4\\nvalue = [1, 3]'),\n",
       " Text(21.219718309859154, 92.412, 'Age <= 43.0\\nentropy = 1.0\\nsamples = 2\\nvalue = [1, 1]'),\n",
       " Text(18.861971830985915, 81.53999999999999, 'entropy = 0.0\\nsamples = 1\\nvalue = [0, 1]'),\n",
       " Text(23.577464788732392, 81.53999999999999, 'entropy = 0.0\\nsamples = 1\\nvalue = [1, 0]'),\n",
       " Text(25.935211267605634, 92.412, 'entropy = 0.0\\nsamples = 2\\nvalue = [0, 2]'),\n",
       " Text(30.65070422535211, 114.156, 'Age <= 57.5\\nentropy = 1.0\\nsamples = 2\\nvalue = [1, 1]'),\n",
       " Text(28.292957746478873, 103.28399999999999, 'entropy = 0.0\\nsamples = 1\\nvalue = [1, 0]'),\n",
       " Text(33.00845070422535, 103.28399999999999, 'entropy = 0.0\\nsamples = 1\\nvalue = [0, 1]'),\n",
       " Text(17.683098591549296, 168.516, 'entropy = 0.0\\nsamples = 1\\nvalue = [1, 0]'),\n",
       " Text(24.756338028169015, 179.388, 'Age <= 2.5\\nentropy = 0.141\\nsamples = 100\\nvalue = [2, 98]'),\n",
       " Text(22.398591549295773, 168.516, 'entropy = 0.0\\nsamples = 1\\nvalue = [1, 0]'),\n",
       " Text(27.114084507042254, 168.516, 'Parch <= 1.5\\nentropy = 0.081\\nsamples = 99\\nvalue = [1, 98]'),\n",
       " Text(24.756338028169015, 157.644, 'entropy = 0.0\\nsamples = 84\\nvalue = [0, 84]'),\n",
       " Text(29.471830985915492, 157.644, 'Age <= 24.5\\nentropy = 0.353\\nsamples = 15\\nvalue = [1, 14]'),\n",
       " Text(27.114084507042254, 146.772, 'entropy = 0.0\\nsamples = 10\\nvalue = [0, 10]'),\n",
       " Text(31.82957746478873, 146.772, 'Age <= 28.0\\nentropy = 0.722\\nsamples = 5\\nvalue = [1, 4]'),\n",
       " Text(29.471830985915492, 135.9, 'entropy = 0.0\\nsamples = 1\\nvalue = [1, 0]'),\n",
       " Text(34.18732394366197, 135.9, 'entropy = 0.0\\nsamples = 4\\nvalue = [0, 4]'),\n",
       " Text(86.49982394366197, 190.26, 'Fare <= 23.35\\nentropy = 1.0\\nsamples = 144\\nvalue = [72, 72]'),\n",
       " Text(77.51091549295775, 179.388, 'Age <= 36.5\\nentropy = 0.977\\nsamples = 117\\nvalue = [48, 69]'),\n",
       " Text(66.60633802816902, 168.516, 'Embarked_S <= 0.5\\nentropy = 0.959\\nsamples = 110\\nvalue = [42, 68]'),\n",
       " Text(51.87042253521127, 157.644, 'Fare <= 15.621\\nentropy = 0.86\\nsamples = 53\\nvalue = [15, 38]'),\n",
       " Text(49.51267605633803, 146.772, 'Fare <= 13.935\\nentropy = 0.918\\nsamples = 45\\nvalue = [15, 30]'),\n",
       " Text(38.90281690140845, 135.9, 'Age <= 17.0\\nentropy = 0.758\\nsamples = 32\\nvalue = [7, 25]'),\n",
       " Text(36.54507042253521, 125.02799999999999, 'entropy = 0.0\\nsamples = 7\\nvalue = [0, 7]'),\n",
       " Text(41.26056338028169, 125.02799999999999, 'Fare <= 6.987\\nentropy = 0.855\\nsamples = 25\\nvalue = [7, 18]'),\n",
       " Text(38.90281690140845, 114.156, 'entropy = 0.0\\nsamples = 1\\nvalue = [1, 0]'),\n",
       " Text(43.61830985915493, 114.156, 'Fare <= 8.008\\nentropy = 0.811\\nsamples = 24\\nvalue = [6, 18]'),\n",
       " Text(41.26056338028169, 103.28399999999999, 'Fare <= 7.769\\nentropy = 0.755\\nsamples = 23\\nvalue = [5, 18]'),\n",
       " Text(38.90281690140845, 92.412, 'Age <= 21.5\\nentropy = 0.874\\nsamples = 17\\nvalue = [5, 12]'),\n",
       " Text(36.54507042253521, 81.53999999999999, 'entropy = 0.0\\nsamples = 1\\nvalue = [1, 0]'),\n",
       " Text(41.26056338028169, 81.53999999999999, 'Age <= 29.25\\nentropy = 0.811\\nsamples = 16\\nvalue = [4, 12]'),\n",
       " Text(38.90281690140845, 70.668, 'Parch <= 1.0\\nentropy = 0.722\\nsamples = 15\\nvalue = [3, 12]'),\n",
       " Text(36.54507042253521, 59.79599999999999, 'Fare <= 7.681\\nentropy = 0.592\\nsamples = 14\\nvalue = [2, 12]'),\n",
       " Text(31.82957746478873, 48.92400000000001, 'Embarked_Q <= 0.5\\nentropy = 0.918\\nsamples = 3\\nvalue = [1, 2]'),\n",
       " Text(29.471830985915492, 38.05199999999999, 'entropy = 0.0\\nsamples = 2\\nvalue = [0, 2]'),\n",
       " Text(34.18732394366197, 38.05199999999999, 'entropy = 0.0\\nsamples = 1\\nvalue = [1, 0]'),\n",
       " Text(41.26056338028169, 48.92400000000001, 'Fare <= 7.744\\nentropy = 0.439\\nsamples = 11\\nvalue = [1, 10]'),\n",
       " Text(38.90281690140845, 38.05199999999999, 'entropy = 0.0\\nsamples = 2\\nvalue = [0, 2]'),\n",
       " Text(43.61830985915493, 38.05199999999999, 'Age <= 25.0\\nentropy = 0.503\\nsamples = 9\\nvalue = [1, 8]'),\n",
       " Text(41.26056338028169, 27.180000000000007, 'entropy = 0.0\\nsamples = 1\\nvalue = [0, 1]'),\n",
       " Text(45.976056338028165, 27.180000000000007, 'entropy = 0.544\\nsamples = 8\\nvalue = [1, 7]'),\n",
       " Text(41.26056338028169, 59.79599999999999, 'entropy = 0.0\\nsamples = 1\\nvalue = [1, 0]'),\n",
       " Text(43.61830985915493, 70.668, 'entropy = 0.0\\nsamples = 1\\nvalue = [1, 0]'),\n",
       " Text(43.61830985915493, 92.412, 'entropy = 0.0\\nsamples = 6\\nvalue = [0, 6]'),\n",
       " Text(45.976056338028165, 103.28399999999999, 'entropy = 0.0\\nsamples = 1\\nvalue = [1, 0]'),\n",
       " Text(60.1225352112676, 135.9, 'Embarked_Q <= 0.5\\nentropy = 0.961\\nsamples = 13\\nvalue = [8, 5]'),\n",
       " Text(55.407042253521126, 125.02799999999999, 'Age <= 28.5\\nentropy = 0.764\\nsamples = 9\\nvalue = [7, 2]'),\n",
       " Text(53.04929577464789, 114.156, 'Age <= 16.0\\nentropy = 0.544\\nsamples = 8\\nvalue = [7, 1]'),\n",
       " Text(50.69154929577465, 103.28399999999999, 'Age <= 14.75\\nentropy = 0.918\\nsamples = 3\\nvalue = [2, 1]'),\n",
       " Text(48.33380281690141, 92.412, 'entropy = 0.0\\nsamples = 2\\nvalue = [2, 0]'),\n",
       " Text(53.04929577464789, 92.412, 'entropy = 0.0\\nsamples = 1\\nvalue = [0, 1]'),\n",
       " Text(55.407042253521126, 103.28399999999999, 'entropy = 0.0\\nsamples = 5\\nvalue = [5, 0]'),\n",
       " Text(57.764788732394365, 114.156, 'entropy = 0.0\\nsamples = 1\\nvalue = [0, 1]'),\n",
       " Text(64.83802816901408, 125.02799999999999, 'Age <= 30.0\\nentropy = 0.811\\nsamples = 4\\nvalue = [1, 3]'),\n",
       " Text(62.48028169014084, 114.156, 'entropy = 0.0\\nsamples = 3\\nvalue = [0, 3]'),\n",
       " Text(67.19577464788732, 114.156, 'entropy = 0.0\\nsamples = 1\\nvalue = [1, 0]'),\n",
       " Text(54.22816901408451, 146.772, 'entropy = 0.0\\nsamples = 8\\nvalue = [0, 8]'),\n",
       " Text(81.34225352112676, 157.644, 'Age <= 32.0\\nentropy = 0.998\\nsamples = 57\\nvalue = [27, 30]'),\n",
       " Text(78.98450704225353, 146.772, 'Fare <= 7.763\\nentropy = 1.0\\nsamples = 54\\nvalue = [27, 27]'),\n",
       " Text(71.9112676056338, 135.9, 'Age <= 25.5\\nentropy = 0.65\\nsamples = 6\\nvalue = [1, 5]'),\n",
       " Text(69.55352112676056, 125.02799999999999, 'entropy = 0.0\\nsamples = 5\\nvalue = [0, 5]'),\n",
       " Text(74.26901408450703, 125.02799999999999, 'entropy = 0.0\\nsamples = 1\\nvalue = [1, 0]'),\n",
       " Text(86.05774647887324, 135.9, 'Fare <= 10.825\\nentropy = 0.995\\nsamples = 48\\nvalue = [26, 22]'),\n",
       " Text(78.98450704225353, 125.02799999999999, 'Fare <= 10.152\\nentropy = 0.918\\nsamples = 27\\nvalue = [18, 9]'),\n",
       " Text(76.62676056338029, 114.156, 'Parch <= 0.5\\nentropy = 0.954\\nsamples = 24\\nvalue = [15, 9]'),\n",
       " Text(74.26901408450703, 103.28399999999999, 'Fare <= 9.84\\nentropy = 0.902\\nsamples = 22\\nvalue = [15, 7]'),\n",
       " Text(71.9112676056338, 92.412, 'Fare <= 8.767\\nentropy = 0.863\\nsamples = 21\\nvalue = [15, 6]'),\n",
       " Text(69.55352112676056, 81.53999999999999, 'Fare <= 8.673\\nentropy = 0.937\\nsamples = 17\\nvalue = [11, 6]'),\n",
       " Text(67.19577464788732, 70.668, 'Age <= 27.5\\nentropy = 0.896\\nsamples = 16\\nvalue = [11, 5]'),\n",
       " Text(64.83802816901408, 59.79599999999999, 'Age <= 25.5\\nentropy = 0.994\\nsamples = 11\\nvalue = [6, 5]'),\n",
       " Text(62.48028169014084, 48.92400000000001, 'Age <= 22.5\\nentropy = 0.811\\nsamples = 8\\nvalue = [6, 2]'),\n",
       " Text(60.1225352112676, 38.05199999999999, 'Age <= 18.5\\nentropy = 0.971\\nsamples = 5\\nvalue = [3, 2]'),\n",
       " Text(57.764788732394365, 27.180000000000007, 'entropy = 0.0\\nsamples = 2\\nvalue = [2, 0]'),\n",
       " Text(62.48028169014084, 27.180000000000007, 'Fare <= 8.258\\nentropy = 0.918\\nsamples = 3\\nvalue = [1, 2]'),\n",
       " Text(60.1225352112676, 16.307999999999993, 'entropy = 0.0\\nsamples = 2\\nvalue = [0, 2]'),\n",
       " Text(64.83802816901408, 16.307999999999993, 'entropy = 0.0\\nsamples = 1\\nvalue = [1, 0]'),\n",
       " Text(64.83802816901408, 38.05199999999999, 'entropy = 0.0\\nsamples = 3\\nvalue = [3, 0]'),\n",
       " Text(67.19577464788732, 48.92400000000001, 'entropy = 0.0\\nsamples = 3\\nvalue = [0, 3]'),\n",
       " Text(69.55352112676056, 59.79599999999999, 'entropy = 0.0\\nsamples = 5\\nvalue = [5, 0]'),\n",
       " Text(71.9112676056338, 70.668, 'entropy = 0.0\\nsamples = 1\\nvalue = [0, 1]'),\n",
       " Text(74.26901408450703, 81.53999999999999, 'entropy = 0.0\\nsamples = 4\\nvalue = [4, 0]'),\n",
       " Text(76.62676056338029, 92.412, 'entropy = 0.0\\nsamples = 1\\nvalue = [0, 1]'),\n",
       " Text(78.98450704225353, 103.28399999999999, 'entropy = 0.0\\nsamples = 2\\nvalue = [0, 2]'),\n",
       " Text(81.34225352112676, 114.156, 'entropy = 0.0\\nsamples = 3\\nvalue = [3, 0]'),\n",
       " Text(93.13098591549296, 125.02799999999999, 'Fare <= 17.25\\nentropy = 0.959\\nsamples = 21\\nvalue = [8, 13]'),\n",
       " Text(86.05774647887324, 114.156, 'SibSp <= 0.5\\nentropy = 0.619\\nsamples = 13\\nvalue = [2, 11]'),\n",
       " Text(83.7, 103.28399999999999, 'entropy = 0.0\\nsamples = 6\\nvalue = [0, 6]'),\n",
       " Text(88.41549295774648, 103.28399999999999, 'Age <= 25.0\\nentropy = 0.863\\nsamples = 7\\nvalue = [2, 5]'),\n",
       " Text(86.05774647887324, 92.412, 'entropy = 0.0\\nsamples = 3\\nvalue = [0, 3]'),\n",
       " Text(90.77323943661972, 92.412, 'Age <= 27.0\\nentropy = 1.0\\nsamples = 4\\nvalue = [2, 2]'),\n",
       " Text(88.41549295774648, 81.53999999999999, 'entropy = 0.0\\nsamples = 1\\nvalue = [1, 0]'),\n",
       " Text(93.13098591549296, 81.53999999999999, 'Fare <= 15.25\\nentropy = 0.918\\nsamples = 3\\nvalue = [1, 2]'),\n",
       " Text(90.77323943661972, 70.668, 'entropy = 0.0\\nsamples = 1\\nvalue = [1, 0]'),\n",
       " Text(95.4887323943662, 70.668, 'entropy = 0.0\\nsamples = 2\\nvalue = [0, 2]'),\n",
       " Text(100.20422535211267, 114.156, 'Fare <= 21.55\\nentropy = 0.811\\nsamples = 8\\nvalue = [6, 2]'),\n",
       " Text(97.84647887323943, 103.28399999999999, 'Age <= 30.0\\nentropy = 0.592\\nsamples = 7\\nvalue = [6, 1]'),\n",
       " Text(95.4887323943662, 92.412, 'entropy = 0.0\\nsamples = 5\\nvalue = [5, 0]'),\n",
       " Text(100.20422535211267, 92.412, 'Fare <= 19.262\\nentropy = 1.0\\nsamples = 2\\nvalue = [1, 1]'),\n",
       " Text(97.84647887323943, 81.53999999999999, 'entropy = 0.0\\nsamples = 1\\nvalue = [1, 0]'),\n",
       " Text(102.56197183098591, 81.53999999999999, 'entropy = 0.0\\nsamples = 1\\nvalue = [0, 1]'),\n",
       " Text(102.56197183098591, 103.28399999999999, 'entropy = 0.0\\nsamples = 1\\nvalue = [0, 1]'),\n",
       " Text(83.7, 146.772, 'entropy = 0.0\\nsamples = 3\\nvalue = [0, 3]'),\n",
       " Text(88.41549295774648, 168.516, 'Age <= 55.0\\nentropy = 0.592\\nsamples = 7\\nvalue = [6, 1]'),\n",
       " Text(86.05774647887324, 157.644, 'entropy = 0.0\\nsamples = 6\\nvalue = [6, 0]'),\n",
       " Text(90.77323943661972, 157.644, 'entropy = 0.0\\nsamples = 1\\nvalue = [0, 1]'),\n",
       " Text(95.4887323943662, 179.388, 'Parch <= 0.5\\nentropy = 0.503\\nsamples = 27\\nvalue = [24, 3]'),\n",
       " Text(93.13098591549296, 168.516, 'entropy = 0.0\\nsamples = 1\\nvalue = [0, 1]'),\n",
       " Text(97.84647887323943, 168.516, 'Fare <= 31.331\\nentropy = 0.391\\nsamples = 26\\nvalue = [24, 2]'),\n",
       " Text(95.4887323943662, 157.644, 'entropy = 0.0\\nsamples = 15\\nvalue = [15, 0]'),\n",
       " Text(100.20422535211267, 157.644, 'Fare <= 32.881\\nentropy = 0.684\\nsamples = 11\\nvalue = [9, 2]'),\n",
       " Text(97.84647887323943, 146.772, 'entropy = 0.0\\nsamples = 2\\nvalue = [0, 2]'),\n",
       " Text(102.56197183098591, 146.772, 'entropy = 0.0\\nsamples = 9\\nvalue = [9, 0]'),\n",
       " Text(235.7608329665493, 201.132, 'Fare <= 26.269\\nentropy = 0.699\\nsamples = 577\\nvalue = [468, 109]'),\n",
       " Text(169.8774757922535, 190.26, 'Age <= 13.5\\nentropy = 0.558\\nsamples = 415\\nvalue = [361, 54]'),\n",
       " Text(126.72887323943662, 179.388, 'SibSp <= 2.0\\nentropy = 0.567\\nsamples = 15\\nvalue = [2, 13]'),\n",
       " Text(124.37112676056339, 168.516, 'Age <= 10.0\\nentropy = 0.371\\nsamples = 14\\nvalue = [1, 13]'),\n",
       " Text(122.01338028169013, 157.644, 'entropy = 0.0\\nsamples = 12\\nvalue = [0, 12]'),\n",
       " Text(126.72887323943662, 157.644, 'Fare <= 15.015\\nentropy = 1.0\\nsamples = 2\\nvalue = [1, 1]'),\n",
       " Text(124.37112676056339, 146.772, 'entropy = 0.0\\nsamples = 1\\nvalue = [0, 1]'),\n",
       " Text(129.08661971830986, 146.772, 'entropy = 0.0\\nsamples = 1\\nvalue = [1, 0]'),\n",
       " Text(129.08661971830986, 168.516, 'entropy = 0.0\\nsamples = 1\\nvalue = [1, 0]'),\n",
       " Text(213.02607834507043, 179.388, 'Embarked_C <= 0.5\\nentropy = 0.477\\nsamples = 400\\nvalue = [359, 41]'),\n",
       " Text(182.02539612676057, 168.516, 'Fare <= 13.25\\nentropy = 0.437\\nsamples = 355\\nvalue = [323, 32]'),\n",
       " Text(154.80079225352114, 157.644, 'Fare <= 7.91\\nentropy = 0.479\\nsamples = 291\\nvalue = [261, 30]'),\n",
       " Text(133.80211267605634, 146.772, 'Fare <= 7.865\\nentropy = 0.353\\nsamples = 150\\nvalue = [140, 10]'),\n",
       " Text(131.4443661971831, 135.9, 'Age <= 32.5\\nentropy = 0.424\\nsamples = 116\\nvalue = [106, 10]'),\n",
       " Text(129.08661971830986, 125.02799999999999, 'Age <= 20.75\\nentropy = 0.507\\nsamples = 89\\nvalue = [79, 10]'),\n",
       " Text(126.72887323943662, 114.156, 'entropy = 0.0\\nsamples = 16\\nvalue = [16, 0]'),\n",
       " Text(131.4443661971831, 114.156, 'Fare <= 7.763\\nentropy = 0.576\\nsamples = 73\\nvalue = [63, 10]'),\n",
       " Text(115.52957746478873, 103.28399999999999, 'Age <= 27.5\\nentropy = 0.451\\nsamples = 53\\nvalue = [48, 5]'),\n",
       " Text(109.63521126760563, 92.412, 'Fare <= 7.013\\nentropy = 0.672\\nsamples = 17\\nvalue = [14, 3]'),\n",
       " Text(107.27746478873239, 81.53999999999999, 'entropy = 0.0\\nsamples = 2\\nvalue = [0, 2]'),\n",
       " Text(111.99295774647887, 81.53999999999999, 'Fare <= 7.196\\nentropy = 0.353\\nsamples = 15\\nvalue = [14, 1]'),\n",
       " Text(109.63521126760563, 70.668, 'Fare <= 7.133\\nentropy = 0.722\\nsamples = 5\\nvalue = [4, 1]'),\n",
       " Text(107.27746478873239, 59.79599999999999, 'entropy = 0.0\\nsamples = 4\\nvalue = [4, 0]'),\n",
       " Text(111.99295774647887, 59.79599999999999, 'entropy = 0.0\\nsamples = 1\\nvalue = [0, 1]'),\n",
       " Text(114.35070422535212, 70.668, 'entropy = 0.0\\nsamples = 10\\nvalue = [10, 0]'),\n",
       " Text(121.42394366197183, 92.412, 'Fare <= 7.744\\nentropy = 0.31\\nsamples = 36\\nvalue = [34, 2]'),\n",
       " Text(119.0661971830986, 81.53999999999999, 'entropy = 0.0\\nsamples = 22\\nvalue = [22, 0]'),\n",
       " Text(123.78169014084507, 81.53999999999999, 'Age <= 28.5\\nentropy = 0.592\\nsamples = 14\\nvalue = [12, 2]'),\n",
       " Text(119.0661971830986, 70.668, 'SibSp <= 0.5\\nentropy = 0.439\\nsamples = 11\\nvalue = [10, 1]'),\n",
       " Text(116.70845070422536, 59.79599999999999, 'entropy = 0.469\\nsamples = 10\\nvalue = [9, 1]'),\n",
       " Text(121.42394366197183, 59.79599999999999, 'entropy = 0.0\\nsamples = 1\\nvalue = [1, 0]'),\n",
       " Text(128.49718309859153, 70.668, 'Age <= 30.0\\nentropy = 0.918\\nsamples = 3\\nvalue = [2, 1]'),\n",
       " Text(126.13943661971831, 59.79599999999999, 'entropy = 0.0\\nsamples = 1\\nvalue = [0, 1]'),\n",
       " Text(130.8549295774648, 59.79599999999999, 'entropy = 0.0\\nsamples = 2\\nvalue = [2, 0]'),\n",
       " Text(147.35915492957747, 103.28399999999999, 'Age <= 31.5\\nentropy = 0.811\\nsamples = 20\\nvalue = [15, 5]'),\n",
       " Text(145.00140845070422, 92.412, 'Fare <= 7.798\\nentropy = 0.742\\nsamples = 19\\nvalue = [15, 4]'),\n",
       " Text(142.643661971831, 81.53999999999999, 'Age <= 28.5\\nentropy = 0.89\\nsamples = 13\\nvalue = [9, 4]'),\n",
       " Text(140.28591549295774, 70.668, 'Age <= 26.5\\nentropy = 0.946\\nsamples = 11\\nvalue = [7, 4]'),\n",
       " Text(135.57042253521126, 59.79599999999999, 'Age <= 25.5\\nentropy = 0.863\\nsamples = 7\\nvalue = [5, 2]'),\n",
       " Text(133.21267605633804, 48.92400000000001, 'SibSp <= 0.5\\nentropy = 0.918\\nsamples = 6\\nvalue = [4, 2]'),\n",
       " Text(130.8549295774648, 38.05199999999999, 'Age <= 21.5\\nentropy = 0.811\\nsamples = 4\\nvalue = [3, 1]'),\n",
       " Text(128.49718309859153, 27.180000000000007, 'Fare <= 7.785\\nentropy = 1.0\\nsamples = 2\\nvalue = [1, 1]'),\n",
       " Text(126.13943661971831, 16.307999999999993, 'entropy = 0.0\\nsamples = 1\\nvalue = [1, 0]'),\n",
       " Text(130.8549295774648, 16.307999999999993, 'entropy = 0.0\\nsamples = 1\\nvalue = [0, 1]'),\n",
       " Text(133.21267605633804, 27.180000000000007, 'entropy = 0.0\\nsamples = 2\\nvalue = [2, 0]'),\n",
       " Text(135.57042253521126, 38.05199999999999, 'entropy = 1.0\\nsamples = 2\\nvalue = [1, 1]'),\n",
       " Text(137.92816901408452, 48.92400000000001, 'entropy = 0.0\\nsamples = 1\\nvalue = [1, 0]'),\n",
       " Text(145.00140845070422, 59.79599999999999, 'Age <= 27.5\\nentropy = 1.0\\nsamples = 4\\nvalue = [2, 2]'),\n",
       " Text(142.643661971831, 48.92400000000001, 'entropy = 0.0\\nsamples = 1\\nvalue = [0, 1]'),\n",
       " Text(147.35915492957747, 48.92400000000001, 'Fare <= 7.785\\nentropy = 0.918\\nsamples = 3\\nvalue = [2, 1]'),\n",
       " Text(145.00140845070422, 38.05199999999999, 'entropy = 1.0\\nsamples = 2\\nvalue = [1, 1]'),\n",
       " Text(149.7169014084507, 38.05199999999999, 'entropy = 0.0\\nsamples = 1\\nvalue = [1, 0]'),\n",
       " Text(145.00140845070422, 70.668, 'entropy = 0.0\\nsamples = 2\\nvalue = [2, 0]'),\n",
       " Text(147.35915492957747, 81.53999999999999, 'entropy = 0.0\\nsamples = 6\\nvalue = [6, 0]'),\n",
       " Text(149.7169014084507, 92.412, 'entropy = 0.0\\nsamples = 1\\nvalue = [0, 1]'),\n",
       " Text(133.80211267605634, 125.02799999999999, 'entropy = 0.0\\nsamples = 27\\nvalue = [27, 0]'),\n",
       " Text(136.15985915492956, 135.9, 'entropy = 0.0\\nsamples = 34\\nvalue = [34, 0]'),\n",
       " Text(175.7994718309859, 146.772, 'Fare <= 7.988\\nentropy = 0.589\\nsamples = 141\\nvalue = [121, 20]'),\n",
       " Text(163.86338028169013, 135.9, 'SibSp <= 1.5\\nentropy = 0.961\\nsamples = 13\\nvalue = [8, 5]'),\n",
       " Text(161.5056338028169, 125.02799999999999, 'Age <= 41.5\\nentropy = 0.994\\nsamples = 11\\nvalue = [6, 5]'),\n",
       " Text(159.14788732394365, 114.156, 'SibSp <= 0.5\\nentropy = 0.971\\nsamples = 10\\nvalue = [6, 4]'),\n",
       " Text(156.79014084507043, 103.28399999999999, 'Age <= 26.0\\nentropy = 0.918\\nsamples = 9\\nvalue = [6, 3]'),\n",
       " Text(154.43239436619717, 92.412, 'entropy = 0.0\\nsamples = 3\\nvalue = [3, 0]'),\n",
       " Text(159.14788732394365, 92.412, 'Age <= 31.5\\nentropy = 1.0\\nsamples = 6\\nvalue = [3, 3]'),\n",
       " Text(156.79014084507043, 81.53999999999999, 'entropy = 0.0\\nsamples = 1\\nvalue = [0, 1]'),\n",
       " Text(161.5056338028169, 81.53999999999999, 'Age <= 35.5\\nentropy = 0.971\\nsamples = 5\\nvalue = [3, 2]'),\n",
       " Text(159.14788732394365, 70.668, 'entropy = 0.918\\nsamples = 3\\nvalue = [2, 1]'),\n",
       " Text(163.86338028169013, 70.668, 'entropy = 1.0\\nsamples = 2\\nvalue = [1, 1]'),\n",
       " Text(161.5056338028169, 103.28399999999999, 'entropy = 0.0\\nsamples = 1\\nvalue = [0, 1]'),\n",
       " Text(163.86338028169013, 114.156, 'entropy = 0.0\\nsamples = 1\\nvalue = [0, 1]'),\n",
       " Text(166.22112676056338, 125.02799999999999, 'entropy = 0.0\\nsamples = 2\\nvalue = [2, 0]'),\n",
       " Text(187.7355633802817, 135.9, 'Age <= 19.5\\nentropy = 0.521\\nsamples = 128\\nvalue = [113, 15]'),\n",
       " Text(173.2943661971831, 125.02799999999999, 'Fare <= 8.104\\nentropy = 0.722\\nsamples = 20\\nvalue = [16, 4]'),\n",
       " Text(168.5788732394366, 114.156, 'Age <= 17.0\\nentropy = 0.971\\nsamples = 5\\nvalue = [2, 3]'),\n",
       " Text(166.22112676056338, 103.28399999999999, 'entropy = 1.0\\nsamples = 2\\nvalue = [1, 1]'),\n",
       " Text(170.93661971830986, 103.28399999999999, 'Age <= 18.5\\nentropy = 0.918\\nsamples = 3\\nvalue = [1, 2]'),\n",
       " Text(168.5788732394366, 92.412, 'entropy = 0.0\\nsamples = 1\\nvalue = [0, 1]'),\n",
       " Text(173.2943661971831, 92.412, 'entropy = 1.0\\nsamples = 2\\nvalue = [1, 1]'),\n",
       " Text(178.0098591549296, 114.156, 'Age <= 18.5\\nentropy = 0.353\\nsamples = 15\\nvalue = [14, 1]'),\n",
       " Text(175.65211267605633, 103.28399999999999, 'entropy = 0.0\\nsamples = 10\\nvalue = [10, 0]'),\n",
       " Text(180.3676056338028, 103.28399999999999, 'Pclass <= 2.5\\nentropy = 0.722\\nsamples = 5\\nvalue = [4, 1]'),\n",
       " Text(178.0098591549296, 92.412, 'Fare <= 11.75\\nentropy = 0.918\\nsamples = 3\\nvalue = [2, 1]'),\n",
       " Text(175.65211267605633, 81.53999999999999, 'entropy = 1.0\\nsamples = 2\\nvalue = [1, 1]'),\n",
       " Text(180.3676056338028, 81.53999999999999, 'entropy = 0.0\\nsamples = 1\\nvalue = [1, 0]'),\n",
       " Text(182.72535211267606, 92.412, 'entropy = 0.0\\nsamples = 2\\nvalue = [2, 0]'),\n",
       " Text(202.17676056338027, 125.02799999999999, 'Age <= 26.5\\nentropy = 0.475\\nsamples = 108\\nvalue = [97, 11]'),\n",
       " Text(199.81901408450705, 114.156, 'entropy = 0.0\\nsamples = 31\\nvalue = [31, 0]'),\n",
       " Text(204.53450704225352, 114.156, 'Fare <= 8.081\\nentropy = 0.592\\nsamples = 77\\nvalue = [66, 11]'),\n",
       " Text(189.79859154929576, 103.28399999999999, 'Age <= 31.25\\nentropy = 0.371\\nsamples = 28\\nvalue = [26, 2]'),\n",
       " Text(187.44084507042254, 92.412, 'entropy = 0.0\\nsamples = 16\\nvalue = [16, 0]'),\n",
       " Text(192.15633802816902, 92.412, 'Age <= 33.0\\nentropy = 0.65\\nsamples = 12\\nvalue = [10, 2]'),\n",
       " Text(189.79859154929576, 81.53999999999999, 'entropy = 0.0\\nsamples = 1\\nvalue = [0, 1]'),\n",
       " Text(194.51408450704224, 81.53999999999999, 'Age <= 44.5\\nentropy = 0.439\\nsamples = 11\\nvalue = [10, 1]'),\n",
       " Text(192.15633802816902, 70.668, 'entropy = 0.0\\nsamples = 7\\nvalue = [7, 0]'),\n",
       " Text(196.8718309859155, 70.668, 'Age <= 47.5\\nentropy = 0.811\\nsamples = 4\\nvalue = [3, 1]'),\n",
       " Text(194.51408450704224, 59.79599999999999, 'entropy = 0.0\\nsamples = 1\\nvalue = [0, 1]'),\n",
       " Text(199.22957746478872, 59.79599999999999, 'entropy = 0.0\\nsamples = 3\\nvalue = [3, 0]'),\n",
       " Text(219.27042253521125, 103.28399999999999, 'Fare <= 8.238\\nentropy = 0.688\\nsamples = 49\\nvalue = [40, 9]'),\n",
       " Text(216.91267605633803, 92.412, 'entropy = 0.0\\nsamples = 1\\nvalue = [0, 1]'),\n",
       " Text(221.6281690140845, 92.412, 'Fare <= 8.658\\nentropy = 0.65\\nsamples = 48\\nvalue = [40, 8]'),\n",
       " Text(219.27042253521125, 81.53999999999999, 'entropy = 0.0\\nsamples = 4\\nvalue = [4, 0]'),\n",
       " Text(223.98591549295773, 81.53999999999999, 'Age <= 31.5\\nentropy = 0.684\\nsamples = 44\\nvalue = [36, 8]'),\n",
       " Text(211.01830985915493, 70.668, 'Fare <= 10.0\\nentropy = 0.811\\nsamples = 20\\nvalue = [15, 5]'),\n",
       " Text(203.9450704225352, 59.79599999999999, 'Age <= 27.5\\nentropy = 0.954\\nsamples = 8\\nvalue = [5, 3]'),\n",
       " Text(201.58732394366197, 48.92400000000001, 'entropy = 0.0\\nsamples = 1\\nvalue = [0, 1]'),\n",
       " Text(206.30281690140845, 48.92400000000001, 'Age <= 28.5\\nentropy = 0.863\\nsamples = 7\\nvalue = [5, 2]'),\n",
       " Text(203.9450704225352, 38.05199999999999, 'entropy = 0.0\\nsamples = 4\\nvalue = [4, 0]'),\n",
       " Text(208.6605633802817, 38.05199999999999, 'Fare <= 9.492\\nentropy = 0.918\\nsamples = 3\\nvalue = [1, 2]'),\n",
       " Text(206.30281690140845, 27.180000000000007, 'entropy = 0.0\\nsamples = 1\\nvalue = [1, 0]'),\n",
       " Text(211.01830985915493, 27.180000000000007, 'entropy = 0.0\\nsamples = 2\\nvalue = [0, 2]'),\n",
       " Text(218.09154929577466, 59.79599999999999, 'Fare <= 11.75\\nentropy = 0.65\\nsamples = 12\\nvalue = [10, 2]'),\n",
       " Text(215.7338028169014, 48.92400000000001, 'entropy = 0.0\\nsamples = 4\\nvalue = [4, 0]'),\n",
       " Text(220.44929577464788, 48.92400000000001, 'Age <= 30.5\\nentropy = 0.811\\nsamples = 8\\nvalue = [6, 2]'),\n",
       " Text(218.09154929577466, 38.05199999999999, 'Age <= 29.0\\nentropy = 0.592\\nsamples = 7\\nvalue = [6, 1]'),\n",
       " Text(215.7338028169014, 27.180000000000007, 'Age <= 27.5\\nentropy = 0.811\\nsamples = 4\\nvalue = [3, 1]'),\n",
       " Text(213.37605633802818, 16.307999999999993, 'entropy = 0.0\\nsamples = 2\\nvalue = [2, 0]'),\n",
       " Text(218.09154929577466, 16.307999999999993, 'entropy = 1.0\\nsamples = 2\\nvalue = [1, 1]'),\n",
       " Text(220.44929577464788, 27.180000000000007, 'entropy = 0.0\\nsamples = 3\\nvalue = [3, 0]'),\n",
       " Text(222.80704225352113, 38.05199999999999, 'entropy = 0.0\\nsamples = 1\\nvalue = [0, 1]'),\n",
       " Text(236.95352112676056, 70.668, 'Pclass <= 2.5\\nentropy = 0.544\\nsamples = 24\\nvalue = [21, 3]'),\n",
       " Text(234.5957746478873, 59.79599999999999, 'Age <= 59.5\\nentropy = 0.61\\nsamples = 20\\nvalue = [17, 3]'),\n",
       " Text(229.88028169014083, 48.92400000000001, 'Fare <= 12.762\\nentropy = 0.523\\nsamples = 17\\nvalue = [15, 2]'),\n",
       " Text(227.5225352112676, 38.05199999999999, 'entropy = 0.0\\nsamples = 6\\nvalue = [6, 0]'),\n",
       " Text(232.2380281690141, 38.05199999999999, 'Age <= 45.0\\nentropy = 0.684\\nsamples = 11\\nvalue = [9, 2]'),\n",
       " Text(229.88028169014083, 27.180000000000007, 'Age <= 40.5\\nentropy = 0.811\\nsamples = 8\\nvalue = [6, 2]'),\n",
       " Text(227.5225352112676, 16.307999999999993, 'Age <= 35.0\\nentropy = 0.65\\nsamples = 6\\nvalue = [5, 1]'),\n",
       " Text(225.16478873239436, 5.436000000000007, 'entropy = 0.918\\nsamples = 3\\nvalue = [2, 1]'),\n",
       " Text(229.88028169014083, 5.436000000000007, 'entropy = 0.0\\nsamples = 3\\nvalue = [3, 0]'),\n",
       " Text(232.2380281690141, 16.307999999999993, 'entropy = 1.0\\nsamples = 2\\nvalue = [1, 1]'),\n",
       " Text(234.5957746478873, 27.180000000000007, 'entropy = 0.0\\nsamples = 3\\nvalue = [3, 0]'),\n",
       " Text(239.3112676056338, 48.92400000000001, 'Age <= 64.0\\nentropy = 0.918\\nsamples = 3\\nvalue = [2, 1]'),\n",
       " Text(236.95352112676056, 38.05199999999999, 'entropy = 0.0\\nsamples = 1\\nvalue = [0, 1]'),\n",
       " Text(241.66901408450704, 38.05199999999999, 'entropy = 0.0\\nsamples = 2\\nvalue = [2, 0]'),\n",
       " Text(239.3112676056338, 59.79599999999999, 'entropy = 0.0\\nsamples = 4\\nvalue = [4, 0]'),\n",
       " Text(209.25, 157.644, 'Fare <= 22.887\\nentropy = 0.201\\nsamples = 64\\nvalue = [62, 2]'),\n",
       " Text(206.89225352112675, 146.772, 'entropy = 0.0\\nsamples = 37\\nvalue = [37, 0]'),\n",
       " Text(211.60774647887322, 146.772, 'Fare <= 23.35\\nentropy = 0.381\\nsamples = 27\\nvalue = [25, 2]'),\n",
       " Text(209.25, 135.9, 'entropy = 0.0\\nsamples = 1\\nvalue = [0, 1]'),\n",
       " Text(213.96549295774648, 135.9, 'Age <= 33.0\\nentropy = 0.235\\nsamples = 26\\nvalue = [25, 1]'),\n",
       " Text(211.60774647887322, 125.02799999999999, 'Age <= 31.5\\nentropy = 0.414\\nsamples = 12\\nvalue = [11, 1]'),\n",
       " Text(209.25, 114.156, 'entropy = 0.0\\nsamples = 11\\nvalue = [11, 0]'),\n",
       " Text(213.96549295774648, 114.156, 'entropy = 0.0\\nsamples = 1\\nvalue = [0, 1]'),\n",
       " Text(216.3232394366197, 125.02799999999999, 'entropy = 0.0\\nsamples = 14\\nvalue = [14, 0]'),\n",
       " Text(244.02676056338026, 168.516, 'Fare <= 15.148\\nentropy = 0.722\\nsamples = 45\\nvalue = [36, 9]'),\n",
       " Text(239.3112676056338, 157.644, 'Age <= 29.5\\nentropy = 0.552\\nsamples = 39\\nvalue = [34, 5]'),\n",
       " Text(236.95352112676056, 146.772, 'Age <= 28.75\\nentropy = 0.65\\nsamples = 30\\nvalue = [25, 5]'),\n",
       " Text(234.5957746478873, 135.9, 'Age <= 22.5\\nentropy = 0.579\\nsamples = 29\\nvalue = [25, 4]'),\n",
       " Text(228.70140845070424, 125.02799999999999, 'Parch <= 0.5\\nentropy = 0.918\\nsamples = 6\\nvalue = [4, 2]'),\n",
       " Text(226.34366197183098, 114.156, 'Fare <= 5.619\\nentropy = 1.0\\nsamples = 4\\nvalue = [2, 2]'),\n",
       " Text(223.98591549295773, 103.28399999999999, 'entropy = 0.0\\nsamples = 1\\nvalue = [1, 0]'),\n",
       " Text(228.70140845070424, 103.28399999999999, 'Fare <= 7.227\\nentropy = 0.918\\nsamples = 3\\nvalue = [1, 2]'),\n",
       " Text(226.34366197183098, 92.412, 'entropy = 0.0\\nsamples = 1\\nvalue = [0, 1]'),\n",
       " Text(231.05915492957746, 92.412, 'Age <= 21.0\\nentropy = 1.0\\nsamples = 2\\nvalue = [1, 1]'),\n",
       " Text(228.70140845070424, 81.53999999999999, 'entropy = 0.0\\nsamples = 1\\nvalue = [0, 1]'),\n",
       " Text(233.4169014084507, 81.53999999999999, 'entropy = 0.0\\nsamples = 1\\nvalue = [1, 0]'),\n",
       " Text(231.05915492957746, 114.156, 'entropy = 0.0\\nsamples = 2\\nvalue = [2, 0]'),\n",
       " Text(240.4901408450704, 125.02799999999999, 'Pclass <= 2.5\\nentropy = 0.426\\nsamples = 23\\nvalue = [21, 2]'),\n",
       " Text(235.77464788732394, 114.156, 'Fare <= 14.454\\nentropy = 0.918\\nsamples = 3\\nvalue = [2, 1]'),\n",
       " Text(233.4169014084507, 103.28399999999999, 'entropy = 0.0\\nsamples = 1\\nvalue = [0, 1]'),\n",
       " Text(238.1323943661972, 103.28399999999999, 'entropy = 0.0\\nsamples = 2\\nvalue = [2, 0]'),\n",
       " Text(245.2056338028169, 114.156, 'Fare <= 7.227\\nentropy = 0.286\\nsamples = 20\\nvalue = [19, 1]'),\n",
       " Text(242.84788732394367, 103.28399999999999, 'entropy = 0.0\\nsamples = 6\\nvalue = [6, 0]'),\n",
       " Text(247.56338028169014, 103.28399999999999, 'Fare <= 7.562\\nentropy = 0.371\\nsamples = 14\\nvalue = [13, 1]'),\n",
       " Text(245.2056338028169, 92.412, 'Age <= 25.75\\nentropy = 0.544\\nsamples = 8\\nvalue = [7, 1]'),\n",
       " Text(242.84788732394367, 81.53999999999999, 'entropy = 0.0\\nsamples = 1\\nvalue = [1, 0]'),\n",
       " Text(247.56338028169014, 81.53999999999999, 'Age <= 28.25\\nentropy = 0.592\\nsamples = 7\\nvalue = [6, 1]'),\n",
       " Text(245.2056338028169, 70.668, 'entropy = 0.65\\nsamples = 6\\nvalue = [5, 1]'),\n",
       " Text(249.92112676056337, 70.668, 'entropy = 0.0\\nsamples = 1\\nvalue = [1, 0]'),\n",
       " Text(249.92112676056337, 92.412, 'entropy = 0.0\\nsamples = 6\\nvalue = [6, 0]'),\n",
       " Text(239.3112676056338, 135.9, 'entropy = 0.0\\nsamples = 1\\nvalue = [0, 1]'),\n",
       " Text(241.66901408450704, 146.772, 'entropy = 0.0\\nsamples = 9\\nvalue = [9, 0]'),\n",
       " Text(248.74225352112677, 157.644, 'Fare <= 20.233\\nentropy = 0.918\\nsamples = 6\\nvalue = [2, 4]'),\n",
       " Text(246.38450704225352, 146.772, 'entropy = 0.0\\nsamples = 4\\nvalue = [0, 4]'),\n",
       " Text(251.1, 146.772, 'entropy = 0.0\\nsamples = 2\\nvalue = [2, 0]'),\n",
       " Text(301.64419014084507, 190.26, 'SibSp <= 2.5\\nentropy = 0.924\\nsamples = 162\\nvalue = [107, 55]'),\n",
       " Text(294.57095070422537, 179.388, 'Age <= 13.5\\nentropy = 0.964\\nsamples = 139\\nvalue = [85, 54]'),\n",
       " Text(292.2132042253521, 168.516, 'entropy = 0.0\\nsamples = 7\\nvalue = [0, 7]'),\n",
       " Text(296.92869718309856, 168.516, 'Fare <= 26.469\\nentropy = 0.939\\nsamples = 132\\nvalue = [85, 47]'),\n",
       " Text(294.57095070422537, 157.644, 'entropy = 0.0\\nsamples = 4\\nvalue = [0, 4]'),\n",
       " Text(299.2864436619718, 157.644, 'Age <= 53.0\\nentropy = 0.921\\nsamples = 128\\nvalue = [85, 43]'),\n",
       " Text(268.4883802816901, 146.772, 'Fare <= 26.775\\nentropy = 0.956\\nsamples = 106\\nvalue = [66, 40]'),\n",
       " Text(259.3521126760563, 135.9, 'Age <= 46.5\\nentropy = 0.764\\nsamples = 9\\nvalue = [2, 7]'),\n",
       " Text(256.99436619718307, 125.02799999999999, 'Embarked_S <= 0.5\\nentropy = 0.863\\nsamples = 7\\nvalue = [2, 5]'),\n",
       " Text(254.63661971830984, 114.156, 'entropy = 0.0\\nsamples = 1\\nvalue = [0, 1]'),\n",
       " Text(259.3521126760563, 114.156, 'Age <= 39.5\\nentropy = 0.918\\nsamples = 6\\nvalue = [2, 4]'),\n",
       " Text(256.99436619718307, 103.28399999999999, 'Age <= 31.0\\nentropy = 0.811\\nsamples = 4\\nvalue = [1, 3]'),\n",
       " Text(254.63661971830984, 92.412, 'entropy = 0.918\\nsamples = 3\\nvalue = [1, 2]'),\n",
       " Text(259.3521126760563, 92.412, 'entropy = 0.0\\nsamples = 1\\nvalue = [0, 1]'),\n",
       " Text(261.7098591549296, 103.28399999999999, 'entropy = 1.0\\nsamples = 2\\nvalue = [1, 1]'),\n",
       " Text(261.7098591549296, 125.02799999999999, 'entropy = 0.0\\nsamples = 2\\nvalue = [0, 2]'),\n",
       " Text(277.62464788732393, 135.9, 'Fare <= 29.1\\nentropy = 0.925\\nsamples = 97\\nvalue = [64, 33]'),\n",
       " Text(275.2669014084507, 125.02799999999999, 'entropy = 0.0\\nsamples = 9\\nvalue = [9, 0]'),\n",
       " Text(279.9823943661972, 125.02799999999999, 'Fare <= 30.598\\nentropy = 0.954\\nsamples = 88\\nvalue = [55, 33]'),\n",
       " Text(268.7830985915493, 114.156, 'Age <= 28.5\\nentropy = 0.881\\nsamples = 10\\nvalue = [3, 7]'),\n",
       " Text(266.4253521126761, 103.28399999999999, 'entropy = 0.0\\nsamples = 5\\nvalue = [0, 5]'),\n",
       " Text(271.14084507042253, 103.28399999999999, 'Fare <= 30.285\\nentropy = 0.971\\nsamples = 5\\nvalue = [3, 2]'),\n",
       " Text(268.7830985915493, 92.412, 'entropy = 0.0\\nsamples = 3\\nvalue = [3, 0]'),\n",
       " Text(273.4985915492958, 92.412, 'entropy = 0.0\\nsamples = 2\\nvalue = [0, 2]'),\n",
       " Text(291.1816901408451, 114.156, 'Fare <= 52.277\\nentropy = 0.918\\nsamples = 78\\nvalue = [52, 26]'),\n",
       " Text(280.5718309859155, 103.28399999999999, 'Age <= 47.5\\nentropy = 0.619\\nsamples = 26\\nvalue = [22, 4]'),\n",
       " Text(278.21408450704223, 92.412, 'Fare <= 36.125\\nentropy = 0.529\\nsamples = 25\\nvalue = [22, 3]'),\n",
       " Text(275.85633802816903, 81.53999999999999, 'Fare <= 35.25\\nentropy = 0.845\\nsamples = 11\\nvalue = [8, 3]'),\n",
       " Text(271.14084507042253, 70.668, 'Embarked_C <= 0.5\\nentropy = 0.544\\nsamples = 8\\nvalue = [7, 1]'),\n",
       " Text(268.7830985915493, 59.79599999999999, 'entropy = 0.0\\nsamples = 6\\nvalue = [6, 0]'),\n",
       " Text(273.4985915492958, 59.79599999999999, 'Age <= 34.0\\nentropy = 1.0\\nsamples = 2\\nvalue = [1, 1]'),\n",
       " Text(271.14084507042253, 48.92400000000001, 'entropy = 0.0\\nsamples = 1\\nvalue = [1, 0]'),\n",
       " Text(275.85633802816903, 48.92400000000001, 'entropy = 0.0\\nsamples = 1\\nvalue = [0, 1]'),\n",
       " Text(280.5718309859155, 70.668, 'Age <= 36.5\\nentropy = 0.918\\nsamples = 3\\nvalue = [1, 2]'),\n",
       " Text(278.21408450704223, 59.79599999999999, 'entropy = 0.0\\nsamples = 2\\nvalue = [0, 2]'),\n",
       " Text(282.92957746478874, 59.79599999999999, 'entropy = 0.0\\nsamples = 1\\nvalue = [1, 0]'),\n",
       " Text(280.5718309859155, 81.53999999999999, 'entropy = 0.0\\nsamples = 14\\nvalue = [14, 0]'),\n",
       " Text(282.92957746478874, 92.412, 'entropy = 0.0\\nsamples = 1\\nvalue = [0, 1]'),\n",
       " Text(301.79154929577464, 103.28399999999999, 'Fare <= 59.087\\nentropy = 0.983\\nsamples = 52\\nvalue = [30, 22]'),\n",
       " Text(290.00281690140844, 92.412, 'Age <= 22.0\\nentropy = 0.896\\nsamples = 16\\nvalue = [5, 11]'),\n",
       " Text(287.6450704225352, 81.53999999999999, 'entropy = 0.0\\nsamples = 1\\nvalue = [1, 0]'),\n",
       " Text(292.3605633802817, 81.53999999999999, 'Age <= 49.5\\nentropy = 0.837\\nsamples = 15\\nvalue = [4, 11]'),\n",
       " Text(290.00281690140844, 70.668, 'Age <= 27.5\\nentropy = 0.75\\nsamples = 14\\nvalue = [3, 11]'),\n",
       " Text(287.6450704225352, 59.79599999999999, 'entropy = 0.0\\nsamples = 3\\nvalue = [0, 3]'),\n",
       " Text(292.3605633802817, 59.79599999999999, 'Age <= 29.5\\nentropy = 0.845\\nsamples = 11\\nvalue = [3, 8]'),\n",
       " Text(290.00281690140844, 48.92400000000001, 'entropy = 1.0\\nsamples = 4\\nvalue = [2, 2]'),\n",
       " Text(294.71830985915494, 48.92400000000001, 'Fare <= 54.798\\nentropy = 0.592\\nsamples = 7\\nvalue = [1, 6]'),\n",
       " Text(292.3605633802817, 38.05199999999999, 'Fare <= 52.827\\nentropy = 0.918\\nsamples = 3\\nvalue = [1, 2]'),\n",
       " Text(290.00281690140844, 27.180000000000007, 'entropy = 0.0\\nsamples = 2\\nvalue = [0, 2]'),\n",
       " Text(294.71830985915494, 27.180000000000007, 'entropy = 0.0\\nsamples = 1\\nvalue = [1, 0]'),\n",
       " Text(297.07605633802814, 38.05199999999999, 'entropy = 0.0\\nsamples = 4\\nvalue = [0, 4]'),\n",
       " Text(294.71830985915494, 70.668, 'entropy = 0.0\\nsamples = 1\\nvalue = [1, 0]'),\n",
       " Text(313.58028169014085, 92.412, 'Fare <= 379.925\\nentropy = 0.888\\nsamples = 36\\nvalue = [25, 11]'),\n",
       " Text(311.2225352112676, 81.53999999999999, 'Fare <= 134.642\\nentropy = 0.834\\nsamples = 34\\nvalue = [25, 9]'),\n",
       " Text(308.86478873239435, 70.668, 'Fare <= 86.29\\nentropy = 0.906\\nsamples = 28\\nvalue = [19, 9]'),\n",
       " Text(301.79154929577464, 59.79599999999999, 'Embarked_C <= 0.5\\nentropy = 0.65\\nsamples = 18\\nvalue = [15, 3]'),\n",
       " Text(299.4338028169014, 48.92400000000001, 'entropy = 0.0\\nsamples = 11\\nvalue = [11, 0]'),\n",
       " Text(304.1492957746479, 48.92400000000001, 'Fare <= 77.965\\nentropy = 0.985\\nsamples = 7\\nvalue = [4, 3]'),\n",
       " Text(301.79154929577464, 38.05199999999999, 'Fare <= 62.369\\nentropy = 0.811\\nsamples = 4\\nvalue = [1, 3]'),\n",
       " Text(299.4338028169014, 27.180000000000007, 'entropy = 0.0\\nsamples = 1\\nvalue = [1, 0]'),\n",
       " Text(304.1492957746479, 27.180000000000007, 'entropy = 0.0\\nsamples = 3\\nvalue = [0, 3]'),\n",
       " Text(306.50704225352115, 38.05199999999999, 'entropy = 0.0\\nsamples = 3\\nvalue = [3, 0]'),\n",
       " Text(315.9380281690141, 59.79599999999999, 'Embarked_S <= 0.5\\nentropy = 0.971\\nsamples = 10\\nvalue = [4, 6]'),\n",
       " Text(313.58028169014085, 48.92400000000001, 'Fare <= 89.552\\nentropy = 0.985\\nsamples = 7\\nvalue = [4, 3]'),\n",
       " Text(311.2225352112676, 38.05199999999999, 'entropy = 0.0\\nsamples = 1\\nvalue = [0, 1]'),\n",
       " Text(315.9380281690141, 38.05199999999999, 'Age <= 34.5\\nentropy = 0.918\\nsamples = 6\\nvalue = [4, 2]'),\n",
       " Text(313.58028169014085, 27.180000000000007, 'Age <= 17.5\\nentropy = 0.918\\nsamples = 3\\nvalue = [1, 2]'),\n",
       " Text(311.2225352112676, 16.307999999999993, 'entropy = 0.0\\nsamples = 1\\nvalue = [0, 1]'),\n",
       " Text(315.9380281690141, 16.307999999999993, 'Age <= 21.5\\nentropy = 1.0\\nsamples = 2\\nvalue = [1, 1]'),\n",
       " Text(313.58028169014085, 5.436000000000007, 'entropy = 0.0\\nsamples = 1\\nvalue = [1, 0]'),\n",
       " Text(318.2957746478873, 5.436000000000007, 'entropy = 0.0\\nsamples = 1\\nvalue = [0, 1]'),\n",
       " Text(318.2957746478873, 27.180000000000007, 'entropy = 0.0\\nsamples = 3\\nvalue = [3, 0]'),\n",
       " Text(318.2957746478873, 48.92400000000001, 'entropy = 0.0\\nsamples = 3\\nvalue = [0, 3]'),\n",
       " Text(313.58028169014085, 70.668, 'entropy = 0.0\\nsamples = 6\\nvalue = [6, 0]'),\n",
       " Text(315.9380281690141, 81.53999999999999, 'entropy = 0.0\\nsamples = 2\\nvalue = [0, 2]'),\n",
       " Text(330.0845070422535, 146.772, 'Age <= 75.5\\nentropy = 0.575\\nsamples = 22\\nvalue = [19, 3]'),\n",
       " Text(327.72676056338025, 135.9, 'Embarked_S <= 0.5\\nentropy = 0.454\\nsamples = 21\\nvalue = [19, 2]'),\n",
       " Text(325.36901408450706, 125.02799999999999, 'SibSp <= 0.5\\nentropy = 0.811\\nsamples = 8\\nvalue = [6, 2]'),\n",
       " Text(323.0112676056338, 114.156, 'Age <= 57.0\\nentropy = 0.592\\nsamples = 7\\nvalue = [6, 1]'),\n",
       " Text(320.65352112676055, 103.28399999999999, 'Fare <= 33.098\\nentropy = 1.0\\nsamples = 2\\nvalue = [1, 1]'),\n",
       " Text(318.2957746478873, 92.412, 'entropy = 0.0\\nsamples = 1\\nvalue = [1, 0]'),\n",
       " Text(323.0112676056338, 92.412, 'entropy = 0.0\\nsamples = 1\\nvalue = [0, 1]'),\n",
       " Text(325.36901408450706, 103.28399999999999, 'entropy = 0.0\\nsamples = 5\\nvalue = [5, 0]'),\n",
       " Text(327.72676056338025, 114.156, 'entropy = 0.0\\nsamples = 1\\nvalue = [0, 1]'),\n",
       " Text(330.0845070422535, 125.02799999999999, 'entropy = 0.0\\nsamples = 13\\nvalue = [13, 0]'),\n",
       " Text(332.44225352112676, 135.9, 'entropy = 0.0\\nsamples = 1\\nvalue = [0, 1]'),\n",
       " Text(308.71742957746477, 179.388, 'Age <= 3.5\\nentropy = 0.258\\nsamples = 23\\nvalue = [22, 1]'),\n",
       " Text(306.3596830985915, 168.516, 'Age <= 2.5\\nentropy = 0.722\\nsamples = 5\\nvalue = [4, 1]'),\n",
       " Text(304.0019366197183, 157.644, 'entropy = 0.0\\nsamples = 4\\nvalue = [4, 0]'),\n",
       " Text(308.71742957746477, 157.644, 'entropy = 0.0\\nsamples = 1\\nvalue = [0, 1]'),\n",
       " Text(311.075176056338, 168.516, 'entropy = 0.0\\nsamples = 18\\nvalue = [18, 0]')]"
      ]
     },
     "execution_count": 21,
     "metadata": {},
     "output_type": "execute_result"
    },
    {
     "data": {
      "image/png": "[encoded data removed]",
      "text/plain": [
       "<Figure size 432x288 with 1 Axes>"
      ]
     },
     "metadata": {
      "needs_background": "light"
     },
     "output_type": "display_data"
    }
   ],
   "source": [
    "tree.plot_tree(clf.fit(X,y),  feature_names=X.columns)"
   ]
  },
  {
   "cell_type": "code",
   "execution_count": 22,
   "id": "f9ccc38f-72ca-4017-86c7-0d369ac2750e",
   "metadata": {},
   "outputs": [],
   "source": [
    "from sklearn.model_selection import train_test_split\n",
    "\n",
    "X_train, X_test, y_train, y_test = train_test_split(X, y, test_size = 0.33, random_state = 42)"
   ]
  },
  {
   "cell_type": "code",
   "execution_count": 23,
   "id": "c1d3b974-539b-4050-84b7-0139658be66e",
   "metadata": {},
   "outputs": [
    {
     "data": {
      "text/plain": [
       "(596, 10)"
      ]
     },
     "execution_count": 23,
     "metadata": {},
     "output_type": "execute_result"
    }
   ],
   "source": [
    "X_train.shape"
   ]
  },
  {
   "cell_type": "code",
   "execution_count": 24,
   "id": "5f8a0e12-878d-4072-9864-de6a33828a27",
   "metadata": {},
   "outputs": [
    {
     "data": {
      "text/plain": [
       "(295, 10)"
      ]
     },
     "execution_count": 24,
     "metadata": {},
     "output_type": "execute_result"
    }
   ],
   "source": [
    "X_test.shape"
   ]
  },
  {
   "cell_type": "code",
   "execution_count": 25,
   "id": "76e94ebf-9f64-4936-b731-af55a077579a",
   "metadata": {},
   "outputs": [
    {
     "data": {
      "text/plain": [
       "0.9797979797979798"
      ]
     },
     "execution_count": 25,
     "metadata": {},
     "output_type": "execute_result"
    }
   ],
   "source": [
    "clf.score(X,y)"
   ]
  },
  {
   "cell_type": "code",
   "execution_count": 26,
   "id": "4ca843de-2205-40af-9834-626da6cfdb52",
   "metadata": {},
   "outputs": [],
   "source": [
    "clf = tree.DecisionTreeClassifier(criterion='entropy', max_depth=3)"
   ]
  },
  {
   "cell_type": "code",
   "execution_count": 27,
   "id": "ca38559d-1012-4d5f-a348-113b1529ffac",
   "metadata": {},
   "outputs": [
    {
     "data": {
      "text/plain": [
       "DecisionTreeClassifier(criterion='entropy', max_depth=3)"
      ]
     },
     "execution_count": 27,
     "metadata": {},
     "output_type": "execute_result"
    }
   ],
   "source": [
    "clf.fit(X_train, y_train)"
   ]
  },
  {
   "cell_type": "code",
   "execution_count": 28,
   "id": "a7e6012d-2ca0-4c9a-ae21-5ba71d37d879",
   "metadata": {},
   "outputs": [
    {
     "data": {
      "text/plain": [
       "0.8238255033557047"
      ]
     },
     "execution_count": 28,
     "metadata": {},
     "output_type": "execute_result"
    }
   ],
   "source": [
    "clf.score(X_train, y_train)"
   ]
  },
  {
   "cell_type": "code",
   "execution_count": 29,
   "id": "c49260db-4e2e-4cc9-8bb0-2e89ef967af5",
   "metadata": {},
   "outputs": [
    {
     "data": {
      "text/plain": [
       "0.8203389830508474"
      ]
     },
     "execution_count": 29,
     "metadata": {},
     "output_type": "execute_result"
    }
   ],
   "source": [
    "clf.score(X_test, y_test)"
   ]
  },
  {
   "cell_type": "code",
   "execution_count": 30,
   "id": "ace79ce0-57ae-459d-94af-60d6a3da4b25",
   "metadata": {},
   "outputs": [],
   "source": [
    "max_depth_values = range(1, 100)"
   ]
  },
  {
   "cell_type": "code",
   "execution_count": 31,
   "id": "124170ea-d348-4da3-a1b4-37488bd7bf59",
   "metadata": {},
   "outputs": [],
   "source": [
    "scores_date = pd.DataFrame()"
   ]
  },
  {
   "cell_type": "code",
   "execution_count": 32,
   "id": "d8ae1ac9-a88d-468b-b202-a1cf25dd5f7c",
   "metadata": {},
   "outputs": [],
   "source": [
    "from sklearn.model_selection import cross_val_score"
   ]
  },
  {
   "cell_type": "code",
   "execution_count": 33,
   "id": "086b0266-787c-477a-8e16-83ed36c8b55d",
   "metadata": {},
   "outputs": [
    {
     "data": {
      "text/html": [
       "<div>\n",
       "<style scoped>\n",
       "    .dataframe tbody tr th:only-of-type {\n",
       "        vertical-align: middle;\n",
       "    }\n",
       "\n",
       "    .dataframe tbody tr th {\n",
       "        vertical-align: top;\n",
       "    }\n",
       "\n",
       "    .dataframe thead th {\n",
       "        text-align: right;\n",
       "    }\n",
       "</style>\n",
       "<table border=\"1\" class=\"dataframe\">\n",
       "  <thead>\n",
       "    <tr style=\"text-align: right;\">\n",
       "      <th></th>\n",
       "      <th>max_depth</th>\n",
       "      <th>train_score</th>\n",
       "      <th>test_score</th>\n",
       "      <th>cross_val_score</th>\n",
       "    </tr>\n",
       "  </thead>\n",
       "  <tbody>\n",
       "    <tr>\n",
       "      <th>0</th>\n",
       "      <td>1</td>\n",
       "      <td>0.781879</td>\n",
       "      <td>0.796610</td>\n",
       "      <td>0.781961</td>\n",
       "    </tr>\n",
       "    <tr>\n",
       "      <th>0</th>\n",
       "      <td>2</td>\n",
       "      <td>0.805369</td>\n",
       "      <td>0.776271</td>\n",
       "      <td>0.770196</td>\n",
       "    </tr>\n",
       "    <tr>\n",
       "      <th>0</th>\n",
       "      <td>3</td>\n",
       "      <td>0.823826</td>\n",
       "      <td>0.820339</td>\n",
       "      <td>0.790322</td>\n",
       "    </tr>\n",
       "    <tr>\n",
       "      <th>0</th>\n",
       "      <td>4</td>\n",
       "      <td>0.833893</td>\n",
       "      <td>0.823729</td>\n",
       "      <td>0.788627</td>\n",
       "    </tr>\n",
       "    <tr>\n",
       "      <th>0</th>\n",
       "      <td>5</td>\n",
       "      <td>0.840604</td>\n",
       "      <td>0.810169</td>\n",
       "      <td>0.797031</td>\n",
       "    </tr>\n",
       "  </tbody>\n",
       "</table>\n",
       "</div>"
      ],
      "text/plain": [
       "   max_depth  train_score  test_score  cross_val_score\n",
       "0          1     0.781879    0.796610         0.781961\n",
       "0          2     0.805369    0.776271         0.770196\n",
       "0          3     0.823826    0.820339         0.790322\n",
       "0          4     0.833893    0.823729         0.788627\n",
       "0          5     0.840604    0.810169         0.797031"
      ]
     },
     "execution_count": 33,
     "metadata": {},
     "output_type": "execute_result"
    }
   ],
   "source": [
    "for max_depth in max_depth_values:\n",
    "    clf = tree.DecisionTreeClassifier(criterion='entropy', max_depth=max_depth)\n",
    "    clf.fit(X_train, y_train)\n",
    "    train_score = clf.score(X_train, y_train)\n",
    "    test_score = clf.score(X_test, y_test)\n",
    "    mean_cross_val_score = cross_val_score(clf, X_train, y_train, cv=5).mean()\n",
    "    temp_score_date = pd.DataFrame({'max_depth': [max_depth], 'train_score': [train_score], 'test_score': [test_score], 'cross_val_score': mean_cross_val_score})\n",
    "    scores_date = scores_date.append(temp_score_date)\n",
    "scores_date.head()"
   ]
  },
  {
   "cell_type": "code",
   "execution_count": 34,
   "id": "d735c64c-354a-498d-995b-e7b490c5355b",
   "metadata": {},
   "outputs": [
    {
     "data": {
      "text/html": [
       "<div>\n",
       "<style scoped>\n",
       "    .dataframe tbody tr th:only-of-type {\n",
       "        vertical-align: middle;\n",
       "    }\n",
       "\n",
       "    .dataframe tbody tr th {\n",
       "        vertical-align: top;\n",
       "    }\n",
       "\n",
       "    .dataframe thead th {\n",
       "        text-align: right;\n",
       "    }\n",
       "</style>\n",
       "<table border=\"1\" class=\"dataframe\">\n",
       "  <thead>\n",
       "    <tr style=\"text-align: right;\">\n",
       "      <th></th>\n",
       "      <th>max_depth</th>\n",
       "      <th>set_type</th>\n",
       "      <th>score</th>\n",
       "    </tr>\n",
       "  </thead>\n",
       "  <tbody>\n",
       "    <tr>\n",
       "      <th>0</th>\n",
       "      <td>1</td>\n",
       "      <td>train_score</td>\n",
       "      <td>0.781879</td>\n",
       "    </tr>\n",
       "    <tr>\n",
       "      <th>1</th>\n",
       "      <td>2</td>\n",
       "      <td>train_score</td>\n",
       "      <td>0.805369</td>\n",
       "    </tr>\n",
       "    <tr>\n",
       "      <th>2</th>\n",
       "      <td>3</td>\n",
       "      <td>train_score</td>\n",
       "      <td>0.823826</td>\n",
       "    </tr>\n",
       "    <tr>\n",
       "      <th>3</th>\n",
       "      <td>4</td>\n",
       "      <td>train_score</td>\n",
       "      <td>0.833893</td>\n",
       "    </tr>\n",
       "    <tr>\n",
       "      <th>4</th>\n",
       "      <td>5</td>\n",
       "      <td>train_score</td>\n",
       "      <td>0.840604</td>\n",
       "    </tr>\n",
       "  </tbody>\n",
       "</table>\n",
       "</div>"
      ],
      "text/plain": [
       "   max_depth     set_type     score\n",
       "0          1  train_score  0.781879\n",
       "1          2  train_score  0.805369\n",
       "2          3  train_score  0.823826\n",
       "3          4  train_score  0.833893\n",
       "4          5  train_score  0.840604"
      ]
     },
     "execution_count": 34,
     "metadata": {},
     "output_type": "execute_result"
    }
   ],
   "source": [
    "scores_date_long = pd.melt(scores_date, id_vars=['max_depth'], value_vars=['train_score', 'test_score', 'cross_val_score'], var_name='set_type', value_name='score')\n",
    "scores_date_long.head()"
   ]
  },
  {
   "cell_type": "code",
   "execution_count": 35,
   "id": "cb63aded-4906-433d-9fa9-c44344248de6",
   "metadata": {},
   "outputs": [
    {
     "data": {
      "text/plain": [
       "<AxesSubplot:xlabel='max_depth', ylabel='score'>"
      ]
     },
     "execution_count": 35,
     "metadata": {},
     "output_type": "execute_result"
    },
    {
     "data": {
      "image/png": "[encoded data removed]",
      "text/plain": [
       "<Figure size 432x288 with 1 Axes>"
      ]
     },
     "metadata": {
      "needs_background": "light"
     },
     "output_type": "display_data"
    }
   ],
   "source": [
    "sns.lineplot(x='max_depth', y='score', hue='set_type', data=scores_date_long)"
   ]
  },
  {
   "cell_type": "code",
   "execution_count": 36,
   "id": "6b990d5a-253d-4607-84a3-8ba3d2c668ff",
   "metadata": {},
   "outputs": [
    {
     "data": {
      "text/html": [
       "<div>\n",
       "<style scoped>\n",
       "    .dataframe tbody tr th:only-of-type {\n",
       "        vertical-align: middle;\n",
       "    }\n",
       "\n",
       "    .dataframe tbody tr th {\n",
       "        vertical-align: top;\n",
       "    }\n",
       "\n",
       "    .dataframe thead th {\n",
       "        text-align: right;\n",
       "    }\n",
       "</style>\n",
       "<table border=\"1\" class=\"dataframe\">\n",
       "  <thead>\n",
       "    <tr style=\"text-align: right;\">\n",
       "      <th></th>\n",
       "      <th>max_depth</th>\n",
       "      <th>set_type</th>\n",
       "      <th>score</th>\n",
       "    </tr>\n",
       "  </thead>\n",
       "  <tbody>\n",
       "    <tr>\n",
       "      <th>198</th>\n",
       "      <td>1</td>\n",
       "      <td>cross_val_score</td>\n",
       "      <td>0.781961</td>\n",
       "    </tr>\n",
       "    <tr>\n",
       "      <th>199</th>\n",
       "      <td>2</td>\n",
       "      <td>cross_val_score</td>\n",
       "      <td>0.770196</td>\n",
       "    </tr>\n",
       "    <tr>\n",
       "      <th>200</th>\n",
       "      <td>3</td>\n",
       "      <td>cross_val_score</td>\n",
       "      <td>0.790322</td>\n",
       "    </tr>\n",
       "    <tr>\n",
       "      <th>201</th>\n",
       "      <td>4</td>\n",
       "      <td>cross_val_score</td>\n",
       "      <td>0.788627</td>\n",
       "    </tr>\n",
       "    <tr>\n",
       "      <th>202</th>\n",
       "      <td>5</td>\n",
       "      <td>cross_val_score</td>\n",
       "      <td>0.797031</td>\n",
       "    </tr>\n",
       "    <tr>\n",
       "      <th>203</th>\n",
       "      <td>6</td>\n",
       "      <td>cross_val_score</td>\n",
       "      <td>0.800392</td>\n",
       "    </tr>\n",
       "    <tr>\n",
       "      <th>204</th>\n",
       "      <td>7</td>\n",
       "      <td>cross_val_score</td>\n",
       "      <td>0.797017</td>\n",
       "    </tr>\n",
       "    <tr>\n",
       "      <th>205</th>\n",
       "      <td>8</td>\n",
       "      <td>cross_val_score</td>\n",
       "      <td>0.803725</td>\n",
       "    </tr>\n",
       "    <tr>\n",
       "      <th>206</th>\n",
       "      <td>9</td>\n",
       "      <td>cross_val_score</td>\n",
       "      <td>0.791947</td>\n",
       "    </tr>\n",
       "    <tr>\n",
       "      <th>207</th>\n",
       "      <td>10</td>\n",
       "      <td>cross_val_score</td>\n",
       "      <td>0.803711</td>\n",
       "    </tr>\n",
       "    <tr>\n",
       "      <th>208</th>\n",
       "      <td>11</td>\n",
       "      <td>cross_val_score</td>\n",
       "      <td>0.802031</td>\n",
       "    </tr>\n",
       "    <tr>\n",
       "      <th>209</th>\n",
       "      <td>12</td>\n",
       "      <td>cross_val_score</td>\n",
       "      <td>0.798697</td>\n",
       "    </tr>\n",
       "    <tr>\n",
       "      <th>210</th>\n",
       "      <td>13</td>\n",
       "      <td>cross_val_score</td>\n",
       "      <td>0.795308</td>\n",
       "    </tr>\n",
       "    <tr>\n",
       "      <th>211</th>\n",
       "      <td>14</td>\n",
       "      <td>cross_val_score</td>\n",
       "      <td>0.793627</td>\n",
       "    </tr>\n",
       "    <tr>\n",
       "      <th>212</th>\n",
       "      <td>15</td>\n",
       "      <td>cross_val_score</td>\n",
       "      <td>0.776863</td>\n",
       "    </tr>\n",
       "    <tr>\n",
       "      <th>213</th>\n",
       "      <td>16</td>\n",
       "      <td>cross_val_score</td>\n",
       "      <td>0.780238</td>\n",
       "    </tr>\n",
       "    <tr>\n",
       "      <th>214</th>\n",
       "      <td>17</td>\n",
       "      <td>cross_val_score</td>\n",
       "      <td>0.781905</td>\n",
       "    </tr>\n",
       "    <tr>\n",
       "      <th>215</th>\n",
       "      <td>18</td>\n",
       "      <td>cross_val_score</td>\n",
       "      <td>0.773543</td>\n",
       "    </tr>\n",
       "    <tr>\n",
       "      <th>216</th>\n",
       "      <td>19</td>\n",
       "      <td>cross_val_score</td>\n",
       "      <td>0.763431</td>\n",
       "    </tr>\n",
       "    <tr>\n",
       "      <th>217</th>\n",
       "      <td>20</td>\n",
       "      <td>cross_val_score</td>\n",
       "      <td>0.766821</td>\n",
       "    </tr>\n",
       "  </tbody>\n",
       "</table>\n",
       "</div>"
      ],
      "text/plain": [
       "     max_depth         set_type     score\n",
       "198          1  cross_val_score  0.781961\n",
       "199          2  cross_val_score  0.770196\n",
       "200          3  cross_val_score  0.790322\n",
       "201          4  cross_val_score  0.788627\n",
       "202          5  cross_val_score  0.797031\n",
       "203          6  cross_val_score  0.800392\n",
       "204          7  cross_val_score  0.797017\n",
       "205          8  cross_val_score  0.803725\n",
       "206          9  cross_val_score  0.791947\n",
       "207         10  cross_val_score  0.803711\n",
       "208         11  cross_val_score  0.802031\n",
       "209         12  cross_val_score  0.798697\n",
       "210         13  cross_val_score  0.795308\n",
       "211         14  cross_val_score  0.793627\n",
       "212         15  cross_val_score  0.776863\n",
       "213         16  cross_val_score  0.780238\n",
       "214         17  cross_val_score  0.781905\n",
       "215         18  cross_val_score  0.773543\n",
       "216         19  cross_val_score  0.763431\n",
       "217         20  cross_val_score  0.766821"
      ]
     },
     "execution_count": 36,
     "metadata": {},
     "output_type": "execute_result"
    }
   ],
   "source": [
    "scores_date_long.query(\"set_type == 'cross_val_score' \").head(20)"
   ]
  },
  {
   "cell_type": "code",
   "execution_count": 37,
   "id": "1e893e59-0f81-463b-8e7b-933b335589fc",
   "metadata": {},
   "outputs": [],
   "source": [
    "best_clf = tree.DecisionTreeClassifier(criterion='entropy', max_depth=11)"
   ]
  },
  {
   "cell_type": "code",
   "execution_count": 38,
   "id": "6c9dbb33-02e3-4b0d-b9ec-178bf62030e2",
   "metadata": {},
   "outputs": [
    {
     "data": {
      "text/plain": [
       "0.8"
      ]
     },
     "execution_count": 38,
     "metadata": {},
     "output_type": "execute_result"
    }
   ],
   "source": [
    "cross_val_score(clf, X_test, y_test, cv=5).mean()"
   ]
  },
  {
   "cell_type": "code",
   "execution_count": 39,
   "id": "a0e2f1d4-6cd5-408b-943c-da01f96fc827",
   "metadata": {},
   "outputs": [
    {
     "data": {
      "text/html": [
       "<div>\n",
       "<style scoped>\n",
       "    .dataframe tbody tr th:only-of-type {\n",
       "        vertical-align: middle;\n",
       "    }\n",
       "\n",
       "    .dataframe tbody tr th {\n",
       "        vertical-align: top;\n",
       "    }\n",
       "\n",
       "    .dataframe thead th {\n",
       "        text-align: right;\n",
       "    }\n",
       "</style>\n",
       "<table border=\"1\" class=\"dataframe\">\n",
       "  <thead>\n",
       "    <tr style=\"text-align: right;\">\n",
       "      <th></th>\n",
       "      <th>Pclass</th>\n",
       "      <th>Age</th>\n",
       "      <th>SibSp</th>\n",
       "      <th>Parch</th>\n",
       "      <th>Fare</th>\n",
       "      <th>Sex_female</th>\n",
       "      <th>Sex_male</th>\n",
       "      <th>Embarked_C</th>\n",
       "      <th>Embarked_Q</th>\n",
       "      <th>Embarked_S</th>\n",
       "    </tr>\n",
       "  </thead>\n",
       "  <tbody>\n",
       "    <tr>\n",
       "      <th>709</th>\n",
       "      <td>3</td>\n",
       "      <td>28.0</td>\n",
       "      <td>1</td>\n",
       "      <td>1</td>\n",
       "      <td>15.2458</td>\n",
       "      <td>0</td>\n",
       "      <td>1</td>\n",
       "      <td>1</td>\n",
       "      <td>0</td>\n",
       "      <td>0</td>\n",
       "    </tr>\n",
       "    <tr>\n",
       "      <th>439</th>\n",
       "      <td>2</td>\n",
       "      <td>31.0</td>\n",
       "      <td>0</td>\n",
       "      <td>0</td>\n",
       "      <td>10.5000</td>\n",
       "      <td>0</td>\n",
       "      <td>1</td>\n",
       "      <td>0</td>\n",
       "      <td>0</td>\n",
       "      <td>1</td>\n",
       "    </tr>\n",
       "    <tr>\n",
       "      <th>840</th>\n",
       "      <td>3</td>\n",
       "      <td>20.0</td>\n",
       "      <td>0</td>\n",
       "      <td>0</td>\n",
       "      <td>7.9250</td>\n",
       "      <td>0</td>\n",
       "      <td>1</td>\n",
       "      <td>0</td>\n",
       "      <td>0</td>\n",
       "      <td>1</td>\n",
       "    </tr>\n",
       "    <tr>\n",
       "      <th>720</th>\n",
       "      <td>2</td>\n",
       "      <td>6.0</td>\n",
       "      <td>0</td>\n",
       "      <td>1</td>\n",
       "      <td>33.0000</td>\n",
       "      <td>1</td>\n",
       "      <td>0</td>\n",
       "      <td>0</td>\n",
       "      <td>0</td>\n",
       "      <td>1</td>\n",
       "    </tr>\n",
       "    <tr>\n",
       "      <th>39</th>\n",
       "      <td>3</td>\n",
       "      <td>14.0</td>\n",
       "      <td>1</td>\n",
       "      <td>0</td>\n",
       "      <td>11.2417</td>\n",
       "      <td>1</td>\n",
       "      <td>0</td>\n",
       "      <td>1</td>\n",
       "      <td>0</td>\n",
       "      <td>0</td>\n",
       "    </tr>\n",
       "    <tr>\n",
       "      <th>...</th>\n",
       "      <td>...</td>\n",
       "      <td>...</td>\n",
       "      <td>...</td>\n",
       "      <td>...</td>\n",
       "      <td>...</td>\n",
       "      <td>...</td>\n",
       "      <td>...</td>\n",
       "      <td>...</td>\n",
       "      <td>...</td>\n",
       "      <td>...</td>\n",
       "    </tr>\n",
       "    <tr>\n",
       "      <th>715</th>\n",
       "      <td>3</td>\n",
       "      <td>19.0</td>\n",
       "      <td>0</td>\n",
       "      <td>0</td>\n",
       "      <td>7.6500</td>\n",
       "      <td>0</td>\n",
       "      <td>1</td>\n",
       "      <td>0</td>\n",
       "      <td>0</td>\n",
       "      <td>1</td>\n",
       "    </tr>\n",
       "    <tr>\n",
       "      <th>525</th>\n",
       "      <td>3</td>\n",
       "      <td>40.5</td>\n",
       "      <td>0</td>\n",
       "      <td>0</td>\n",
       "      <td>7.7500</td>\n",
       "      <td>0</td>\n",
       "      <td>1</td>\n",
       "      <td>0</td>\n",
       "      <td>1</td>\n",
       "      <td>0</td>\n",
       "    </tr>\n",
       "    <tr>\n",
       "      <th>381</th>\n",
       "      <td>3</td>\n",
       "      <td>1.0</td>\n",
       "      <td>0</td>\n",
       "      <td>2</td>\n",
       "      <td>15.7417</td>\n",
       "      <td>1</td>\n",
       "      <td>0</td>\n",
       "      <td>1</td>\n",
       "      <td>0</td>\n",
       "      <td>0</td>\n",
       "    </tr>\n",
       "    <tr>\n",
       "      <th>140</th>\n",
       "      <td>3</td>\n",
       "      <td>28.0</td>\n",
       "      <td>0</td>\n",
       "      <td>2</td>\n",
       "      <td>15.2458</td>\n",
       "      <td>1</td>\n",
       "      <td>0</td>\n",
       "      <td>1</td>\n",
       "      <td>0</td>\n",
       "      <td>0</td>\n",
       "    </tr>\n",
       "    <tr>\n",
       "      <th>173</th>\n",
       "      <td>3</td>\n",
       "      <td>21.0</td>\n",
       "      <td>0</td>\n",
       "      <td>0</td>\n",
       "      <td>7.9250</td>\n",
       "      <td>0</td>\n",
       "      <td>1</td>\n",
       "      <td>0</td>\n",
       "      <td>0</td>\n",
       "      <td>1</td>\n",
       "    </tr>\n",
       "  </tbody>\n",
       "</table>\n",
       "<p>295 rows × 10 columns</p>\n",
       "</div>"
      ],
      "text/plain": [
       "     Pclass   Age  SibSp  Parch     Fare  Sex_female  Sex_male  Embarked_C  \\\n",
       "709       3  28.0      1      1  15.2458           0         1           1   \n",
       "439       2  31.0      0      0  10.5000           0         1           0   \n",
       "840       3  20.0      0      0   7.9250           0         1           0   \n",
       "720       2   6.0      0      1  33.0000           1         0           0   \n",
       "39        3  14.0      1      0  11.2417           1         0           1   \n",
       "..      ...   ...    ...    ...      ...         ...       ...         ...   \n",
       "715       3  19.0      0      0   7.6500           0         1           0   \n",
       "525       3  40.5      0      0   7.7500           0         1           0   \n",
       "381       3   1.0      0      2  15.7417           1         0           1   \n",
       "140       3  28.0      0      2  15.2458           1         0           1   \n",
       "173       3  21.0      0      0   7.9250           0         1           0   \n",
       "\n",
       "     Embarked_Q  Embarked_S  \n",
       "709           0           0  \n",
       "439           0           1  \n",
       "840           0           1  \n",
       "720           0           1  \n",
       "39            0           0  \n",
       "..          ...         ...  \n",
       "715           0           1  \n",
       "525           1           0  \n",
       "381           0           0  \n",
       "140           0           0  \n",
       "173           0           1  \n",
       "\n",
       "[295 rows x 10 columns]"
      ]
     },
     "execution_count": 39,
     "metadata": {},
     "output_type": "execute_result"
    }
   ],
   "source": [
    "X_test"
   ]
  },
  {
   "cell_type": "code",
   "execution_count": 40,
   "id": "d2f6b28a-25f1-48b6-a476-a4ddcfd12de5",
   "metadata": {},
   "outputs": [],
   "source": [
    "from sklearn.model_selection import GridSearchCV"
   ]
  },
  {
   "cell_type": "code",
   "execution_count": 41,
   "id": "1fb81f6a-20b6-4648-8eeb-afe6e9f3d4b3",
   "metadata": {},
   "outputs": [],
   "source": [
    "clf = tree.DecisionTreeClassifier()"
   ]
  },
  {
   "cell_type": "code",
   "execution_count": 42,
   "id": "fd5b7674-35e5-48db-87a8-17474f499d7a",
   "metadata": {},
   "outputs": [],
   "source": [
    "parameters = {'criterion': ['gini', 'entropy'], 'max_depth': range(1, 30)}"
   ]
  },
  {
   "cell_type": "code",
   "execution_count": 43,
   "id": "d48a1db6-1947-4c94-b9c6-897f15fdee07",
   "metadata": {},
   "outputs": [],
   "source": [
    "grid_search_cv_clf = GridSearchCV(clf, parameters, cv=5)"
   ]
  },
  {
   "cell_type": "code",
   "execution_count": 44,
   "id": "a04bd49a-51af-41e2-b1ad-dd99db7e7dbd",
   "metadata": {},
   "outputs": [
    {
     "data": {
      "text/plain": [
       "GridSearchCV(cv=5, estimator=DecisionTreeClassifier(),\n",
       "             param_grid={'criterion': ['gini', 'entropy'],\n",
       "                         'max_depth': range(1, 30)})"
      ]
     },
     "execution_count": 44,
     "metadata": {},
     "output_type": "execute_result"
    }
   ],
   "source": [
    "grid_search_cv_clf.fit(X_train, y_train)"
   ]
  },
  {
   "cell_type": "code",
   "execution_count": 45,
   "id": "b4c4ae65-a130-48b0-8206-843a3fa3dbd1",
   "metadata": {},
   "outputs": [
    {
     "data": {
      "text/plain": [
       "{'criterion': 'entropy', 'max_depth': 10}"
      ]
     },
     "execution_count": 45,
     "metadata": {},
     "output_type": "execute_result"
    }
   ],
   "source": [
    "grid_search_cv_clf.best_params_"
   ]
  },
  {
   "cell_type": "code",
   "execution_count": 46,
   "id": "2bd1eb97-e312-4336-8fcb-2d2eee422bbf",
   "metadata": {},
   "outputs": [],
   "source": [
    "best_clf = grid_search_cv_clf.best_estimator_"
   ]
  },
  {
   "cell_type": "code",
   "execution_count": 47,
   "id": "9e0d0344-11a1-46f9-95d0-2647a11195f1",
   "metadata": {},
   "outputs": [
    {
     "data": {
      "text/plain": [
       "0.7932203389830509"
      ]
     },
     "execution_count": 47,
     "metadata": {},
     "output_type": "execute_result"
    }
   ],
   "source": [
    "best_clf.score(X_test, y_test)"
   ]
  },
  {
   "cell_type": "code",
   "execution_count": 48,
   "id": "e378e1d9-b90d-46b5-99ca-8575607c5f80",
   "metadata": {},
   "outputs": [],
   "source": [
    "y_pred = best_clf.predict(X_test)"
   ]
  },
  {
   "cell_type": "code",
   "execution_count": 49,
   "id": "7e9c1a3a-09ca-41b6-8ebf-344a385d820e",
   "metadata": {},
   "outputs": [],
   "source": [
    "from sklearn.metrics import precision_score, recall_score"
   ]
  },
  {
   "cell_type": "code",
   "execution_count": 50,
   "id": "5bec772e-8a37-4559-8acb-e1f8c6c9186b",
   "metadata": {},
   "outputs": [
    {
     "data": {
      "text/plain": [
       "0.8172043010752689"
      ]
     },
     "execution_count": 50,
     "metadata": {},
     "output_type": "execute_result"
    }
   ],
   "source": [
    "precision_score(y_test, y_pred)"
   ]
  },
  {
   "cell_type": "code",
   "execution_count": 51,
   "id": "65cca981-1968-416c-94a1-db57f57b3757",
   "metadata": {},
   "outputs": [
    {
     "data": {
      "text/plain": [
       "0.6333333333333333"
      ]
     },
     "execution_count": 51,
     "metadata": {},
     "output_type": "execute_result"
    }
   ],
   "source": [
    "recall_score(y_test, y_pred)"
   ]
  },
  {
   "cell_type": "code",
   "execution_count": 52,
   "id": "8e5b67e2-da29-4c0f-8cc6-8fc919b4ec71",
   "metadata": {},
   "outputs": [],
   "source": [
    "y_predicted_prob = best_clf.predict_proba(X_test)"
   ]
  },
  {
   "cell_type": "code",
   "execution_count": 53,
   "id": "4aef1bb2-bc21-4092-9662-bd1888d490e3",
   "metadata": {},
   "outputs": [
    {
     "data": {
      "text/plain": [
       "array([0.44444444, 0.25      , 0.06086957, 1.        , 1.        ,\n",
       "       0.        , 0.75      , 0.06086957, 0.75      , 1.        ,\n",
       "       1.        , 0.12      , 0.        , 0.13333333, 0.12      ,\n",
       "       1.        , 0.        , 0.33333333, 0.06086957, 0.        ,\n",
       "       0.06086957, 0.36842105, 0.33333333, 0.06086957, 0.06086957,\n",
       "       0.        , 0.36842105, 0.25      , 0.        , 0.33333333,\n",
       "       0.06086957, 1.        , 0.36842105, 1.        , 0.06086957,\n",
       "       0.44444444, 0.36842105, 0.75      , 1.        , 0.06086957,\n",
       "       0.        , 0.18181818, 0.06086957, 0.18181818, 0.        ,\n",
       "       0.06086957, 0.06086957, 0.06086957, 0.18181818, 0.        ,\n",
       "       1.        , 1.        , 0.        , 1.        , 0.        ,\n",
       "       1.        , 0.25      , 0.        , 1.        , 0.33333333,\n",
       "       0.18181818, 1.        , 1.        , 0.        , 0.18181818,\n",
       "       1.        , 0.        , 0.06086957, 0.13333333, 1.        ,\n",
       "       0.        , 1.        , 1.        , 1.        , 0.06086957,\n",
       "       0.        , 0.75      , 1.        , 1.        , 0.        ,\n",
       "       0.        , 1.        , 1.        , 0.18181818, 0.36842105,\n",
       "       0.        , 1.        , 1.        , 0.        , 0.18181818,\n",
       "       1.        , 0.        , 0.        , 0.18181818, 0.06086957,\n",
       "       0.06086957, 0.        , 0.12      , 1.        , 0.06086957,\n",
       "       0.        , 0.        , 1.        , 0.        , 0.06086957,\n",
       "       0.18181818, 1.        , 0.        , 0.06086957, 0.36842105,\n",
       "       1.        , 0.18181818, 1.        , 1.        , 0.        ,\n",
       "       0.06086957, 0.        , 0.12      , 1.        , 0.        ,\n",
       "       0.06086957, 1.        , 1.        , 1.        , 0.18181818,\n",
       "       0.36842105, 1.        , 1.        , 0.        , 0.06086957,\n",
       "       0.33333333, 0.44444444, 0.18181818, 1.        , 1.        ,\n",
       "       0.        , 1.        , 0.18181818, 0.        , 0.        ,\n",
       "       0.06086957, 1.        , 0.06086957, 0.        , 0.        ,\n",
       "       1.        , 0.06086957, 0.12      , 1.        , 0.12      ,\n",
       "       0.44444444, 0.18181818, 0.18181818, 0.        , 0.06086957,\n",
       "       0.18181818, 0.33333333, 0.33333333, 1.        , 1.        ,\n",
       "       0.13333333, 0.36842105, 0.12      , 1.        , 0.06086957,\n",
       "       0.        , 0.06086957, 1.        , 0.06086957, 0.        ,\n",
       "       0.        , 1.        , 1.        , 1.        , 0.18181818,\n",
       "       0.13333333, 0.        , 1.        , 1.        , 0.36842105,\n",
       "       0.06086957, 0.66666667, 0.06086957, 1.        , 1.        ,\n",
       "       0.36842105, 0.44444444, 0.06086957, 0.36842105, 1.        ,\n",
       "       0.        , 0.12      , 0.18181818, 0.06086957, 0.        ,\n",
       "       1.        , 1.        , 0.12      , 1.        , 0.        ,\n",
       "       0.        , 0.33333333, 1.        , 0.        , 0.13333333,\n",
       "       1.        , 0.06086957, 0.        , 0.44444444, 0.12      ,\n",
       "       1.        , 0.18181818, 1.        , 0.18181818, 0.        ,\n",
       "       1.        , 0.        , 0.        , 0.        , 0.18181818,\n",
       "       0.06086957, 1.        , 0.06086957, 0.36842105, 0.18181818,\n",
       "       1.        , 0.18181818, 1.        , 1.        , 0.33333333,\n",
       "       0.        , 1.        , 0.18181818, 1.        , 0.06086957,\n",
       "       0.33333333, 1.        , 0.        , 1.        , 0.12      ,\n",
       "       0.18181818, 1.        , 0.13333333, 0.33333333, 0.        ,\n",
       "       0.06086957, 0.06086957, 0.06086957, 0.18181818, 0.36842105,\n",
       "       1.        , 0.        , 0.18181818, 0.13333333, 0.        ,\n",
       "       0.18181818, 0.06086957, 0.        , 0.12      , 1.        ,\n",
       "       1.        , 0.        , 1.        , 0.06086957, 0.        ,\n",
       "       0.        , 0.06086957, 0.36842105, 1.        , 0.06086957,\n",
       "       1.        , 0.        , 0.        , 1.        , 1.        ,\n",
       "       0.06086957, 0.06086957, 0.44444444, 1.        , 0.12      ,\n",
       "       0.06086957, 0.18181818, 1.        , 0.        , 0.44444444,\n",
       "       0.        , 0.33333333, 0.06086957, 1.        , 1.        ,\n",
       "       0.18181818, 0.        , 1.        , 1.        , 0.06086957])"
      ]
     },
     "execution_count": 53,
     "metadata": {},
     "output_type": "execute_result"
    }
   ],
   "source": [
    "y_predicted_prob[:,1]"
   ]
  },
  {
   "cell_type": "code",
   "execution_count": 54,
   "id": "907372de-59ea-4cf3-8ba7-655253332b42",
   "metadata": {},
   "outputs": [
    {
     "data": {
      "text/plain": [
       "<AxesSubplot:>"
      ]
     },
     "execution_count": 54,
     "metadata": {},
     "output_type": "execute_result"
    },
    {
     "data": {
      "image/png": "[encoded data removed]",
      "text/plain": [
       "<Figure size 432x288 with 1 Axes>"
      ]
     },
     "metadata": {
      "needs_background": "light"
     },
     "output_type": "display_data"
    }
   ],
   "source": [
    "pd.Series(y_predicted_prob[:,1]).hist()"
   ]
  },
  {
   "cell_type": "code",
   "execution_count": 55,
   "id": "76d4d03f-2035-4fbe-88a7-2892530bd54e",
   "metadata": {},
   "outputs": [],
   "source": [
    "y_pred = np.where(y_predicted_prob[:,1] > 0.2, 1, 0)"
   ]
  },
  {
   "cell_type": "code",
   "execution_count": 56,
   "id": "b3555955-7f51-4be6-8f41-2d5f0b65ab43",
   "metadata": {},
   "outputs": [
    {
     "data": {
      "text/plain": [
       "array([1, 1, 0, 1, 1, 0, 1, 0, 1, 1, 1, 0, 0, 0, 0, 1, 0, 1, 0, 0, 0, 1,\n",
       "       1, 0, 0, 0, 1, 1, 0, 1, 0, 1, 1, 1, 0, 1, 1, 1, 1, 0, 0, 0, 0, 0,\n",
       "       0, 0, 0, 0, 0, 0, 1, 1, 0, 1, 0, 1, 1, 0, 1, 1, 0, 1, 1, 0, 0, 1,\n",
       "       0, 0, 0, 1, 0, 1, 1, 1, 0, 0, 1, 1, 1, 0, 0, 1, 1, 0, 1, 0, 1, 1,\n",
       "       0, 0, 1, 0, 0, 0, 0, 0, 0, 0, 1, 0, 0, 0, 1, 0, 0, 0, 1, 0, 0, 1,\n",
       "       1, 0, 1, 1, 0, 0, 0, 0, 1, 0, 0, 1, 1, 1, 0, 1, 1, 1, 0, 0, 1, 1,\n",
       "       0, 1, 1, 0, 1, 0, 0, 0, 0, 1, 0, 0, 0, 1, 0, 0, 1, 0, 1, 0, 0, 0,\n",
       "       0, 0, 1, 1, 1, 1, 0, 1, 0, 1, 0, 0, 0, 1, 0, 0, 0, 1, 1, 1, 0, 0,\n",
       "       0, 1, 1, 1, 0, 1, 0, 1, 1, 1, 1, 0, 1, 1, 0, 0, 0, 0, 0, 1, 1, 0,\n",
       "       1, 0, 0, 1, 1, 0, 0, 1, 0, 0, 1, 0, 1, 0, 1, 0, 0, 1, 0, 0, 0, 0,\n",
       "       0, 1, 0, 1, 0, 1, 0, 1, 1, 1, 0, 1, 0, 1, 0, 1, 1, 0, 1, 0, 0, 1,\n",
       "       0, 1, 0, 0, 0, 0, 0, 1, 1, 0, 0, 0, 0, 0, 0, 0, 0, 1, 1, 0, 1, 0,\n",
       "       0, 0, 0, 1, 1, 0, 1, 0, 0, 1, 1, 0, 0, 1, 1, 0, 0, 0, 1, 0, 1, 0,\n",
       "       1, 0, 1, 1, 0, 0, 1, 1, 0])"
      ]
     },
     "execution_count": 56,
     "metadata": {},
     "output_type": "execute_result"
    }
   ],
   "source": [
    "y_pred"
   ]
  },
  {
   "cell_type": "code",
   "execution_count": 57,
   "id": "d3693a7e-895f-4e79-b351-9c9e8913b82a",
   "metadata": {},
   "outputs": [
    {
     "data": {
      "text/plain": [
       "0.7461538461538462"
      ]
     },
     "execution_count": 57,
     "metadata": {},
     "output_type": "execute_result"
    }
   ],
   "source": [
    "precision_score(y_test, y_pred)"
   ]
  },
  {
   "cell_type": "raw",
   "id": "ab7f377d-af69-435c-89f1-4963e3fe84c2",
   "metadata": {},
   "source": [
    "precision_score(y_test, y_pred)"
   ]
  },
  {
   "cell_type": "code",
   "execution_count": 58,
   "id": "d217d293-7a58-4bc7-a8e2-912e1ecaa0c3",
   "metadata": {},
   "outputs": [
    {
     "data": {
      "text/plain": [
       "0.8083333333333333"
      ]
     },
     "execution_count": 58,
     "metadata": {},
     "output_type": "execute_result"
    }
   ],
   "source": [
    "recall_score(y_test, y_pred)"
   ]
  },
  {
   "cell_type": "code",
   "execution_count": 59,
   "id": "ac807a7b-7a88-4d12-9cae-801393afe181",
   "metadata": {},
   "outputs": [
    {
     "data": {
      "image/png": "[encoded data removed]",
      "text/plain": [
       "<Figure size 432x288 with 1 Axes>"
      ]
     },
     "metadata": {
      "needs_background": "light"
     },
     "output_type": "display_data"
    }
   ],
   "source": [
    "from sklearn.metrics import roc_curve, auc\n",
    "fpr, tpr, thresholds = roc_curve(y_test, y_predicted_prob[:,1])\n",
    "roc_auc= auc(fpr, tpr)\n",
    "plt.figure()\n",
    "plt.plot(fpr, tpr, color='darkorange', label='ROC curve (area = %0.2f)' % roc_auc)\n",
    "plt.plot([0, 1], [0, 1], color='navy', linestyle='--')\n",
    "plt.xlim([0.0, 1.0])\n",
    "plt.ylim([0.0, 1.05])\n",
    "plt.xlabel('False Positive Rate')\n",
    "plt.ylabel('True Positive Rate')\n",
    "plt.title('Receiver operating characteristic example')\n",
    "plt.legend(loc=\"lower right\")\n",
    "plt.show()"
   ]
  },
  {
   "cell_type": "code",
   "execution_count": 60,
   "id": "97f0c0e8-ac8e-421d-9747-c261d5e6b402",
   "metadata": {},
   "outputs": [],
   "source": [
    "ar1 = np.ndarray(shape=(2,2), dtype=float, order='F')"
   ]
  },
  {
   "cell_type": "code",
   "execution_count": 61,
   "id": "ee17a8e3-1420-464f-9771-28cdddbe8d69",
   "metadata": {},
   "outputs": [
    {
     "data": {
      "text/plain": [
       "43.2"
      ]
     },
     "execution_count": 61,
     "metadata": {},
     "output_type": "execute_result"
    }
   ],
   "source": [
    "ar1[1][0]"
   ]
  },
  {
   "cell_type": "code",
   "execution_count": 68,
   "id": "7053fa19-888b-4abb-9a90-3871e6a80eed",
   "metadata": {},
   "outputs": [],
   "source": [
    "clf = tree.DecisionTreeClassifier(criterion='entropy', max_depth=3, min_samples_split=100, min_samples_leaf=10)"
   ]
  },
  {
   "cell_type": "code",
   "execution_count": 69,
   "id": "0f137240-8c46-4416-bae8-40ecdf3b4943",
   "metadata": {},
   "outputs": [
    {
     "data": {
      "text/plain": [
       "DecisionTreeClassifier(criterion='entropy', max_depth=3, min_samples_leaf=10,\n",
       "                       min_samples_split=100)"
      ]
     },
     "execution_count": 69,
     "metadata": {},
     "output_type": "execute_result"
    }
   ],
   "source": [
    "clf.fit(X_train, y_train)"
   ]
  },
  {
   "cell_type": "code",
   "execution_count": 70,
   "id": "e6addc6d-5d5e-47b0-882d-06593fc4f835",
   "metadata": {},
   "outputs": [
    {
     "data": {
      "image/png": "[encoded data removed]",
      "text/plain": [
       "<Figure size 3200x1600 with 1 Axes>"
      ]
     },
     "metadata": {
      "needs_background": "light"
     },
     "output_type": "display_data"
    }
   ],
   "source": [
    "plt.figure(figsize=(40, 20),dpi=80)\n",
    "p = tree.plot_tree(clf, fontsize=30,filled=True,feature_names=list(X))"
   ]
  },
  {
   "cell_type": "code",
   "execution_count": null,
   "id": "3ff295d5-429d-48ce-8f90-7378934bd0b3",
   "metadata": {},
   "outputs": [],
   "source": []
  },
  {
   "cell_type": "code",
   "execution_count": null,
   "id": "3ba0c3fe-b9ec-4807-aa21-2a8d052c1a4f",
   "metadata": {},
   "outputs": [],
   "source": []
  }
 ],
 "metadata": {
  "kernelspec": {
   "display_name": "Python 3 (ipykernel)",
   "language": "python",
   "name": "python3"
  },
  "language_info": {
   "codemirror_mode": {
    "name": "ipython",
    "version": 3
   },
   "file_extension": ".py",
   "mimetype": "text/x-python",
   "name": "python",
   "nbconvert_exporter": "python",
   "pygments_lexer": "ipython3",
   "version": "3.7.6"
  }
 },
 "nbformat": 4,
 "nbformat_minor": 5
}
