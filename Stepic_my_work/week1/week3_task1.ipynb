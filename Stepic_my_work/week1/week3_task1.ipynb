{
 "cells": [
  {
   "cell_type": "code",
   "execution_count": 11,
   "id": "93c72695-de77-48bd-bd8f-50f61d2eae09",
   "metadata": {},
   "outputs": [],
   "source": [
    "import pandas as pd\n",
    "import numpy as np\n",
    "import re\n",
    "from scipy.spatial.distance import cosine\n",
    "import math\n",
    "from scipy.linalg import solve\n",
    "%matplotlib inline\n",
    "import matplotlib.pyplot as plt\n",
    "from scipy import optimize"
   ]
  },
  {
   "cell_type": "code",
   "execution_count": 2,
   "id": "43606645-7038-472a-a6b1-7151fd7551e7",
   "metadata": {},
   "outputs": [],
   "source": [
    "def f(x):\n",
    "    return math.sin(x / 5) * math.exp(x / 10) + 5 * math.exp(-x / 2)"
   ]
  },
  {
   "cell_type": "code",
   "execution_count": 51,
   "id": "398cd225-4df4-444f-997d-4bdc04afb515",
   "metadata": {},
   "outputs": [
    {
     "data": {
      "image/png": "[encoded data removed]",
      "text/plain": [
       "<Figure size 432x288 with 1 Axes>"
      ]
     },
     "metadata": {
      "needs_background": "light"
     },
     "output_type": "display_data"
    }
   ],
   "source": [
    "x = np.arange(1.0, 31.0, 0.01)\n",
    "\n",
    "s = pd.Series([f(elem) for elem in x])\n",
    "\n",
    "\n",
    "\n",
    "fig, ax = plt.subplots()\n",
    "ax.plot(x, s, label='origin')\n",
    "ax.legend()\n",
    "ax.grid()\n",
    "\n",
    "plt.show()"
   ]
  },
  {
   "cell_type": "code",
   "execution_count": 59,
   "id": "e74d1127-ec0a-4eb5-b23f-8f2c03563472",
   "metadata": {},
   "outputs": [],
   "source": [
    "x0 = np.arange(30.0, 31.0, 0.01)\n",
    "x01 = np.arange(2.0, 31.0, 0.01)"
   ]
  },
  {
   "cell_type": "code",
   "execution_count": 24,
   "id": "efea6442-42fc-415a-91df-ac2f9513872a",
   "metadata": {},
   "outputs": [],
   "source": [
    "def f1(x):\n",
    "    for t in x:\n",
    "        return math.sin(t / 5) * math.exp(t / 10) + 5 * math.exp(-t / 2)"
   ]
  },
  {
   "cell_type": "code",
   "execution_count": 41,
   "id": "e94d6b0e-ff55-424b-b6e8-5abf0a6bb8bf",
   "metadata": {},
   "outputs": [
    {
     "name": "stdout",
     "output_type": "stream",
     "text": [
      "Optimization terminated successfully.\n",
      "         Current function value: -11.898895\n",
      "         Iterations: 10646\n",
      "         Function evaluations: 24847\n"
     ]
    }
   ],
   "source": [
    "res = minimize(f1, x0, method='nelder-mead',\n",
    "               options={'xatol': 1e-8, 'disp': True})\n"
   ]
  },
  {
   "cell_type": "code",
   "execution_count": 60,
   "id": "17016abf-8383-4850-b2eb-a49c314ae351",
   "metadata": {},
   "outputs": [
    {
     "name": "stdout",
     "output_type": "stream",
     "text": [
      "Optimization terminated successfully.\n",
      "         Current function value: -11.898895\n",
      "         Iterations: 6\n",
      "         Function evaluations: 707\n",
      "         Gradient evaluations: 7\n"
     ]
    }
   ],
   "source": [
    "res = minimize(f1, x0, method='BFGS', options={'disp': True})"
   ]
  },
  {
   "cell_type": "code",
   "execution_count": 61,
   "id": "b3ab89d5-d8bc-4b31-aa0e-41d25e4f3d77",
   "metadata": {},
   "outputs": [
    {
     "name": "stdout",
     "output_type": "stream",
     "text": [
      "Optimization terminated successfully.\n",
      "         Current function value: 1.745268\n",
      "         Iterations: 6\n",
      "         Function evaluations: 20307\n",
      "         Gradient evaluations: 7\n"
     ]
    }
   ],
   "source": [
    "res1 = minimize(f1, x01, method='BFGS', options={'disp': True})"
   ]
  },
  {
   "cell_type": "code",
   "execution_count": null,
   "id": "c22e8525-c068-49e8-8014-db2bc1494482",
   "metadata": {},
   "outputs": [],
   "source": [
    "# res = minimize(f1, x0, method='Newton-CG',\n",
    "#                jac=rosen_der, hess=rosen_hess,\n",
    "#                options={'xtol': 1e-8, 'disp': True})"
   ]
  },
  {
   "cell_type": "code",
   "execution_count": null,
   "id": "da00abd9-1127-48dc-84d5-994a1220645a",
   "metadata": {},
   "outputs": [],
   "source": [
    "# res = minimize(f1, x0, method='Newton-CG',\n",
    "#                jac=rosen_der, hessp=rosen_hess_p,\n",
    "#                options={'xtol': 1e-8, 'disp': True})"
   ]
  },
  {
   "cell_type": "code",
   "execution_count": null,
   "id": "f97ca9d0-838e-4a73-a4e2-0f6dee7dc88f",
   "metadata": {},
   "outputs": [],
   "source": [
    "# res = minimize(rosen, x0, method='trust-ncg',\n",
    "#                jac=rosen_der, hess=rosen_hess,\n",
    "#                options={'gtol': 1e-8, 'disp': True})"
   ]
  },
  {
   "cell_type": "code",
   "execution_count": 66,
   "id": "24471eb1-5b22-4f40-bf96-1523a6bd1fc4",
   "metadata": {},
   "outputs": [],
   "source": [
    "result = optimize.differential_evolution(f, [(1,30)])"
   ]
  },
  {
   "cell_type": "code",
   "execution_count": 68,
   "id": "0e660ab3-ba38-4a10-b807-312f3053ca03",
   "metadata": {},
   "outputs": [
    {
     "data": {
      "text/plain": [
       "     fun: -11.898894665981313\n",
       "     jac: array([0.])\n",
       " message: 'Optimization terminated successfully.'\n",
       "    nfev: 83\n",
       "     nit: 4\n",
       " success: True\n",
       "       x: array([25.8801932])"
      ]
     },
     "execution_count": 68,
     "metadata": {},
     "output_type": "execute_result"
    }
   ],
   "source": [
    "result"
   ]
  },
  {
   "cell_type": "code",
   "execution_count": 67,
   "id": "612e88a6-3273-4c5d-9cdc-7eedf931b321",
   "metadata": {},
   "outputs": [
    {
     "data": {
      "text/plain": [
       "(array([25.8801932]), -11.898894665981313)"
      ]
     },
     "execution_count": 67,
     "metadata": {},
     "output_type": "execute_result"
    }
   ],
   "source": [
    "result.x, result.fun"
   ]
  },
  {
   "cell_type": "code",
   "execution_count": 69,
   "id": "c4f2aaf8-a409-4d14-9253-c4bdef0d126f",
   "metadata": {},
   "outputs": [
    {
     "data": {
      "image/png": "[encoded data removed]",
      "text/plain": [
       "<Figure size 432x288 with 1 Axes>"
      ]
     },
     "metadata": {
      "needs_background": "light"
     },
     "output_type": "display_data"
    }
   ],
   "source": [
    "x = np.arange(1.0, 31.0, 0.01)\n",
    "\n",
    "s = pd.Series([int(f(elem)) for elem in x])\n",
    "\n",
    "\n",
    "\n",
    "fig, ax = plt.subplots()\n",
    "ax.plot(x, s, label='origin')\n",
    "ax.legend()\n",
    "ax.grid()\n",
    "\n",
    "plt.show()"
   ]
  },
  {
   "cell_type": "code",
   "execution_count": 70,
   "id": "7b8e32eb-51c3-42dd-96a3-e40f7f1305e6",
   "metadata": {},
   "outputs": [],
   "source": [
    "def f1(x):\n",
    "    for t in x:\n",
    "        return int(math.sin(t / 5) * math.exp(t / 10) + 5 * math.exp(-t / 2))"
   ]
  },
  {
   "cell_type": "code",
   "execution_count": 71,
   "id": "01d2771e-5d9c-4ed6-a5a2-56ccd5d11ca4",
   "metadata": {},
   "outputs": [
    {
     "name": "stdout",
     "output_type": "stream",
     "text": [
      "Optimization terminated successfully.\n",
      "         Current function value: -5.000000\n",
      "         Iterations: 0\n",
      "         Function evaluations: 101\n",
      "         Gradient evaluations: 1\n"
     ]
    }
   ],
   "source": [
    "res = minimize(f1, x0, method='BFGS', options={'disp': True})"
   ]
  },
  {
   "cell_type": "code",
   "execution_count": 72,
   "id": "d18d040a-f361-43f0-a58b-513e139a89b2",
   "metadata": {},
   "outputs": [
    {
     "name": "stdout",
     "output_type": "stream",
     "text": [
      "Optimization terminated successfully.\n",
      "         Current function value: 2.000000\n",
      "         Iterations: 0\n",
      "         Function evaluations: 2901\n",
      "         Gradient evaluations: 1\n"
     ]
    }
   ],
   "source": [
    "res1 = minimize(f1, x01, method='BFGS', options={'disp': True})"
   ]
  },
  {
   "cell_type": "code",
   "execution_count": 73,
   "id": "c39465ed-dba6-4709-b131-63cc2bfcd21b",
   "metadata": {},
   "outputs": [],
   "source": [
    "def f(x):\n",
    "    return int(math.sin(x / 5) * math.exp(x / 10) + 5 * math.exp(-x / 2))"
   ]
  },
  {
   "cell_type": "code",
   "execution_count": 74,
   "id": "eb5e36bf-0395-4e6f-aaa1-73b5ae5ad6f1",
   "metadata": {},
   "outputs": [
    {
     "data": {
      "text/plain": [
       "     fun: -11.0\n",
       " message: 'Optimization terminated successfully.'\n",
       "    nfev: 77\n",
       "     nit: 4\n",
       " success: True\n",
       "       x: array([24.64212617])"
      ]
     },
     "execution_count": 74,
     "metadata": {},
     "output_type": "execute_result"
    }
   ],
   "source": [
    "result = optimize.differential_evolution(f, [(1,30)])\n",
    "result"
   ]
  },
  {
   "cell_type": "code",
   "execution_count": 78,
   "id": "d2729d96-e77a-43cd-958f-f836e92bdc4c",
   "metadata": {},
   "outputs": [
    {
     "data": {
      "text/plain": [
       "-11.9"
      ]
     },
     "execution_count": 78,
     "metadata": {},
     "output_type": "execute_result"
    }
   ],
   "source": [
    "round(-11.898894665981313, 2)"
   ]
  }
 ],
 "metadata": {
  "kernelspec": {
   "display_name": "Python 3 (ipykernel)",
   "language": "python",
   "name": "python3"
  },
  "language_info": {
   "codemirror_mode": {
    "name": "ipython",
    "version": 3
   },
   "file_extension": ".py",
   "mimetype": "text/x-python",
   "name": "python",
   "nbconvert_exporter": "python",
   "pygments_lexer": "ipython3",
   "version": "3.7.6"
  }
 },
 "nbformat": 4,
 "nbformat_minor": 5
}
