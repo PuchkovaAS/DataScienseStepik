{
 "cells": [
  {
   "cell_type": "code",
   "execution_count": 1,
   "id": "92563227-fb2b-4a9b-b7e7-7eb5184ce1b2",
   "metadata": {},
   "outputs": [],
   "source": [
    "p = [0.49, 0.38, 0.1, 0.03]"
   ]
  },
  {
   "cell_type": "code",
   "execution_count": 8,
   "id": "0fb22fc6-14cc-4f81-b93d-92577b2e9f6f",
   "metadata": {},
   "outputs": [
    {
     "data": {
      "text/plain": [
       "[0.24009999999999998, 0.1862, 0.049, 0.0147]"
      ]
     },
     "execution_count": 8,
     "metadata": {},
     "output_type": "execute_result"
    }
   ],
   "source": [
    "p1_1234 = [p[0] * el  for el in p]\n",
    "p1_1234"
   ]
  },
  {
   "cell_type": "code",
   "execution_count": 4,
   "id": "9f175892-3e54-45ee-ac04-b25900241495",
   "metadata": {},
   "outputs": [
    {
     "data": {
      "text/plain": [
       "[0.1444, 0.0114]"
      ]
     },
     "execution_count": 4,
     "metadata": {},
     "output_type": "execute_result"
    }
   ],
   "source": [
    "p2_24 = [p[1] * el  for el in [p[1],p[3]]]\n",
    "p2_24"
   ]
  },
  {
   "cell_type": "code",
   "execution_count": 5,
   "id": "e2969de3-0939-493a-a618-dfd8cb17fae7",
   "metadata": {},
   "outputs": [
    {
     "data": {
      "text/plain": [
       "[0.010000000000000002, 0.003]"
      ]
     },
     "execution_count": 5,
     "metadata": {},
     "output_type": "execute_result"
    }
   ],
   "source": [
    "p3_34 = [p[2] * el  for el in [p[2],p[3]]]\n",
    "p3_34"
   ]
  },
  {
   "cell_type": "code",
   "execution_count": 6,
   "id": "04757cc6-d7a6-44d1-aace-a75e2d685f42",
   "metadata": {},
   "outputs": [
    {
     "data": {
      "text/plain": [
       "[0.0009]"
      ]
     },
     "execution_count": 6,
     "metadata": {},
     "output_type": "execute_result"
    }
   ],
   "source": [
    "p4_4 = [p[3] * el  for el in [p[3]]]\n",
    "p4_4"
   ]
  },
  {
   "cell_type": "code",
   "execution_count": 9,
   "id": "d48d1d29-d27d-4e74-88a9-8c6577a7cea2",
   "metadata": {},
   "outputs": [
    {
     "data": {
      "text/plain": [
       "0.6597"
      ]
     },
     "execution_count": 9,
     "metadata": {},
     "output_type": "execute_result"
    }
   ],
   "source": [
    "sum(p1_1234) + sum(p2_24) + sum(p3_34) + sum(p4_4)"
   ]
  },
  {
   "cell_type": "code",
   "execution_count": 14,
   "id": "0f8bd001-1454-4986-8f80-85de599141d2",
   "metadata": {},
   "outputs": [
    {
     "name": "stdout",
     "output_type": "stream",
     "text": [
      "1   1 x\n",
      "1   2 x\n",
      "1   3 x\n",
      "1   4 v\n",
      "1   5 v\n",
      "1   6 v\n",
      "2   1 x\n",
      "2   2 x\n",
      "2   3 x\n",
      "2   4 v\n",
      "2   5 v\n",
      "2   6 v\n",
      "3   1 x\n",
      "3   2 x\n",
      "3   3 x\n",
      "3   4 v\n",
      "3   5 v\n",
      "3   6 v\n",
      "4   1 v\n",
      "4   2 v\n",
      "4   3 v\n",
      "4   4 v\n",
      "4   5 v\n",
      "4   6 v\n",
      "5   1 v\n",
      "5   2 v\n",
      "5   3 v\n",
      "5   4 v\n",
      "5   5 v\n",
      "5   6 v\n",
      "6   1 v\n",
      "6   2 v\n",
      "6   3 v\n",
      "6   4 v\n",
      "6   5 v\n",
      "6   6 v\n",
      "27  /  36\n"
     ]
    }
   ],
   "source": [
    "count = 0\n",
    "count_v = 0\n",
    "for i in range(1,7):\n",
    "    for j in range(1,7):\n",
    "        count += 1\n",
    "        if i > 3 or j > 3:\n",
    "            count_v += 1\n",
    "        print(i,' ', j, 'v' if i > 3 or j > 3 else 'x')\n",
    "        \n",
    "print(count_v, ' / ', count)"
   ]
  }
 ],
 "metadata": {
  "kernelspec": {
   "display_name": "Python 3 (ipykernel)",
   "language": "python",
   "name": "python3"
  },
  "language_info": {
   "codemirror_mode": {
    "name": "ipython",
    "version": 3
   },
   "file_extension": ".py",
   "mimetype": "text/x-python",
   "name": "python",
   "nbconvert_exporter": "python",
   "pygments_lexer": "ipython3",
   "version": "3.7.6"
  }
 },
 "nbformat": 4,
 "nbformat_minor": 5
}
